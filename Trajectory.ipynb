{
 "cells": [
  {
   "cell_type": "code",
   "execution_count": null,
   "metadata": {
    "collapsed": true
   },
   "outputs": [],
   "source": [
    "from scipy.interpolate import CubicSpline\n",
    "import numpy as np\n",
    "import matplotlib.pyplot as plt\n"
   ]
  },
  {
   "cell_type": "markdown",
   "source": [
    "Cubic\n",
    "Part1"
   ],
   "metadata": {
    "collapsed": false
   }
  },
  {
   "cell_type": "code",
   "execution_count": null,
   "outputs": [],
   "source": [
    "t\n"
   ],
   "metadata": {
    "collapsed": false,
    "pycharm": {
     "name": "#%%\n"
    }
   }
  },
  {
   "cell_type": "markdown",
   "source": [
    "Part2"
   ],
   "metadata": {
    "collapsed": false,
    "pycharm": {
     "name": "#%% md\n"
    }
   }
  },
  {
   "cell_type": "code",
   "execution_count": null,
   "outputs": [],
   "source": [
    "Tf2 = 2.5\n",
    "t = np.arange(Tf1, Tf2 + 0.05, 0.05)\n",
    "a0_2 = 3 / 8 * L\n",
    "a2_2 = -(21 / 8 * L) / ((Tf2 - Tf1) ** 2);\n",
    "a3_2 = (14 / 8 * L) / ((Tf2 - Tf1) ** 3)\n",
    "cycle2 = a0_2 + a2_2 * ((t - Tf1) ** 2) + a3_2 * ((t - Tf1) ** 3)\n",
    "cycle2_vel = 2 * (t - Tf1) * a2_2 + 3 * a3_2 * ((t - Tf1) ** 2)\n",
    "fig, ax = plt.subplots(figsize=(10, 5))\n",
    "ax.plot(t, cycle2, 'o-')\n",
    "ax.plot(t, cycle2_vel, '.-')\n",
    "plt.grid()\n",
    "plt.show()"
   ],
   "metadata": {
    "collapsed": false,
    "pycharm": {
     "name": "#%%\n"
    }
   }
  },
  {
   "cell_type": "markdown",
   "source": [
    "Part3"
   ],
   "metadata": {
    "collapsed": false,
    "pycharm": {
     "name": "#%% md\n"
    }
   }
  },
  {
   "cell_type": "code",
   "execution_count": null,
   "outputs": [],
   "source": [
    "Tf3 = 3\n",
    "t = np.arange(Tf2, Tf3 + 0.05, 0.05)\n",
    "a0_3 = -L / 2;\n",
    "a2_3 = (3 / 2 * L) / ((Tf3 - Tf2) ** 2);\n",
    "a3_3 = (- L) / ((Tf3 - Tf2) ** 3)\n",
    "cycle3 = a0_3 + a2_3 * ((t - Tf2) ** 2) + a3_3 * ((t - Tf2) ** 3)\n",
    "cycle3_vel = 2 * (t - Tf2) * a2_3 + 3 * a3_3 * ((t - Tf2) ** 2)\n",
    "fig, ax = plt.subplots(figsize=(10, 5))\n",
    "ax.plot(t, cycle3, 'o-')\n",
    "ax.plot(t, cycle3_vel, '.-')\n",
    "plt.grid()\n",
    "plt.show()"
   ],
   "metadata": {
    "collapsed": false,
    "pycharm": {
     "name": "#%%\n"
    }
   }
  },
  {
   "cell_type": "markdown",
   "source": [
    "Complete trajectory"
   ],
   "metadata": {
    "collapsed": false,
    "pycharm": {
     "name": "#%% md\n"
    }
   }
  },
  {
   "cell_type": "code",
   "execution_count": null,
   "outputs": [],
   "source": [
    "time = np.arange(0, 3.05, 0.05)\n",
    "traj = np.concatenate((cycle1.T, cycle2[1:(len(cycle2))].T, cycle3[1:(len(cycle3))].T))\n",
    "traj_vel = np.concatenate((cycle1_vel.T, cycle2_vel[1:(len(cycle2_vel))].T, cycle3_vel[1:(len(cycle3_vel))].T))\n",
    "fig, ax = plt.subplots(figsize=(20, 10))\n",
    "ax.plot(time, traj, 'o-', label='pos')\n",
    "ax.plot(time, traj_vel, '.-', label='vel')\n",
    "ax.legend(loc='lower left', ncol=2)\n",
    "plt.grid()\n",
    "plt.show()"
   ],
   "metadata": {
    "collapsed": false,
    "pycharm": {
     "name": "#%%\n"
    }
   }
  },
  {
   "cell_type": "markdown",
   "source": [
    "Spline"
   ],
   "metadata": {
    "collapsed": false,
    "pycharm": {
     "name": "#%% md\n"
    }
   }
  },
  {
   "cell_type": "code",
   "execution_count": null,
   "outputs": [],
   "source": [
    "\n",
    "spline_plot = 0\n",
    "\n",
    "tt = np.array([0, 1, 2.5, 3])\n",
    "xx = np.array([0, 3 / 8 * L, -L / 2, 0])\n",
    "cs = CubicSpline(tt, xx)\n",
    "xs = np.arange(0, 3.01, 0.01)\n",
    "xx_ref = cs(xs)\n",
    "fig, ax = plt.subplots(figsize=(20, 10))\n",
    "if spline_plot:\n",
    "    ax.plot(xs, cs(xs), label=\"Spline\")\n",
    "    ax.plot(xs, cs(xs, 1), label=\"S'\")\n",
    "    ax.plot(xs, cs(xs, 2), label=\"S''\")\n",
    "    ax.plot(xs, cs(xs, 3), label=\"S'''\")\n",
    "    ax.legend(loc='lower left', ncol=2)\n",
    "ax.plot(xs, xx_ref)\n",
    "plt.grid()\n",
    "plt.show"
   ],
   "metadata": {
    "collapsed": false,
    "pycharm": {
     "name": "#%%\n"
    }
   }
  },
  {
   "cell_type": "markdown",
   "source": [
    "Confronto fra titani"
   ],
   "metadata": {
    "collapsed": false,
    "pycharm": {
     "name": "#%% md\n"
    }
   }
  },
  {
   "cell_type": "code",
   "execution_count": null,
   "outputs": [],
   "source": [
    "fig, ax = plt.subplots(figsize=(20, 10))\n",
    "ax.plot(time, traj, '*-', label='cubic')\n",
    "#ax.plot(time, traj_vel, 'o-',label ='vel')\n",
    "ax.plot(xs, xx_ref, '.-', label='spline')\n",
    "ax.legend(loc='lower left', ncol=1)\n",
    "plt.grid()\n",
    "plt.show()"
   ],
   "metadata": {
    "collapsed": false,
    "pycharm": {
     "name": "#%%\n"
    }
   }
  }
 ],
 "metadata": {
  "kernelspec": {
   "display_name": "Python 3",
   "language": "python",
   "name": "python3"
  },
  "language_info": {
   "codemirror_mode": {
    "name": "ipython",
    "version": 2
   },
   "file_extension": ".py",
   "mimetype": "text/x-python",
   "name": "python",
   "nbconvert_exporter": "python",
   "pygments_lexer": "ipython2",
   "version": "2.7.6"
  }
 },
 "nbformat": 4,
 "nbformat_minor": 0
}