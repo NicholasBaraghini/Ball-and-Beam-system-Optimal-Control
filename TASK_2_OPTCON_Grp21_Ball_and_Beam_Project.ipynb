{
 "nbformat": 4,
 "nbformat_minor": 0,
 "metadata": {
  "colab": {
   "name": "OPTCON_Grp21_Ball and Beam Project.ipynb",
   "provenance": [],
   "collapsed_sections": [],
   "include_colab_link": true
  },
  "kernelspec": {
   "name": "python3",
   "display_name": "Python 3"
  },
  "language_info": {
   "name": "python"
  }
 },
 "cells": [
  {
   "cell_type": "markdown",
   "metadata": {
    "id": "view-in-github",
    "colab_type": "text"
   },
   "source": [
    "<a href=\"https://colab.research.google.com/github/NicholasBaraghini/Ball-and-Beam-system-Optimal-Control/blob/main/OPTCON_Grp21_Ball_and_Beam_Project.ipynb\" target=\"_parent\"><img src=\"https://colab.research.google.com/assets/colab-badge.svg\" alt=\"Open In Colab\"/></a>"
   ]
  },
  {
   "cell_type": "markdown",
   "source": [
    "**OPTIMAL CONTROL EXAM PROJECT**\n",
    "\n",
    " Group 21:\n",
    "   - Baraghini Nicholas 0000984041 \n",
    "   - Curto Fabio\n",
    "   - Iadarola Federico"
   ],
   "metadata": {
    "id": "-tfPflu26Rvx"
   }
  },
  {
   "cell_type": "code",
   "execution_count": 15,
   "metadata": {
    "id": "AuKEbT846pKd"
   },
   "outputs": [],
   "source": [
    "# Libraries\n",
    "\n",
    "import numpy as np\n",
    "import matplotlib\n",
    "\n",
    "import system_dynamic as sd\n",
    "import optcon as opt\n",
    "import cost_function\n",
    "import matplotlib.pyplot as plt_\n",
    "import Reference_Trajectory as RT\n",
    "%matplotlib widget\n",
    "\n",
    "\n",
    "import visualization as visu"
   ]
  },
  {
   "cell_type": "markdown",
   "source": [],
   "metadata": {
    "collapsed": false,
    "id": "lrTQrNcZVaPn"
   }
  },
  {
   "cell_type": "markdown",
   "source": [
    "**TRAJECTORY OPTIMIZATION** (Task 2)"
   ],
   "metadata": {
    "collapsed": false,
    "pycharm": {
     "name": "#%% md\n"
    }
   }
  },
  {
   "cell_type": "code",
   "execution_count": 16,
   "outputs": [],
   "source": [
    "# PARAMETERS SETTING\n",
    "\n",
    "max_iterations = 200;\n",
    "STOP_ITER = 1E-1; #Stop Iteration descent threshold\n",
    "\n",
    "step_size = 0.1;\n",
    "cc = 0.05\n",
    "beta = 0.5\n",
    "\n",
    "nx = 4; # nmumber of states\n",
    "nu = 1; # number of inputs\n",
    "dim = [nx, nu]\n",
    "tf = 30; # Seconds\n",
    "\n",
    "params = {'dt':0.001,   # Step size - Forward Euler method\n",
    "          'gg':9.81,    # gravitational acceleration [m/s^2]\n",
    "          'mm':0.0012,    # ball mass [kg]\n",
    "          'rr':0.0015,   # ball radius [m]\n",
    "          'ii':11.6E-6, # ball inertia [kg*m^2]\n",
    "          'II':0.001125,  # beam inertia [kg*m^2]\n",
    "          'LL':1,        # beam lenght [m]\n",
    "          'QQ':np.array([[1, 0, 0 , 0],\n",
    "                        [ 0 ,1, 0 , 0],\n",
    "                        [ 0 , 0,1, 0],\n",
    "                        [ 0 , 0, 0 ,1]]),\n",
    "          'RR':1,\n",
    "          'QQ_T':np.array([[1, 0, 0 , 0],\n",
    "                          [ 0 ,1, 0 , 0],\n",
    "                          [ 0 , 0,1, 0],\n",
    "                          [ 0 , 0, 0 ,1]])\n",
    "              }\n",
    "\n",
    "TT = int(tf/params['dt']); # rounding down of the time span divided in time in number oof time intervals\n",
    "\n",
    "xx_init = np.zeros((nx,1)); # initial state\n"
   ],
   "metadata": {
    "collapsed": false,
    "pycharm": {
     "name": "#%%\n"
    }
   }
  },
  {
   "cell_type": "markdown",
   "source": [
    "**Reference Definition** \\\n",
    "Step reference change between two equilibria"
   ],
   "metadata": {
    "collapsed": false
   }
  },
  {
   "cell_type": "code",
   "source": [
    "\n",
    "# REFERENCE DEFINITION\n",
    "ref_pos = 0.1*params['LL']/2; # ball reference position on the beam [m]\n",
    "ref_inp = params['mm']*params['gg']*ref_pos; # input reference torque at reference pos ref_pos\n",
    "\n",
    "# state reference definition:\n",
    "xx_ref = np.zeros((nx,TT));\n",
    "xx_ref[0,round(TT/2):TT] = ref_pos;\n",
    "\n",
    "# input reference definition\n",
    "uu_ref = np.zeros((nu,TT));\n",
    "uu_ref[0,round(TT/2):TT] = ref_inp;\n",
    "#xx = np.zeros((nx,TT,max_iterations)); # state tensor uu = np.zeros((nu,TT,max_iterations)); # input tensor\n",
    "\n",
    "cost = np.zeros((max_iterations,1)); # cost function values memory descent = np.zeros((max_iterations,1));"
   ],
   "metadata": {
    "pycharm": {
     "name": "#%%\n"
    },
    "id": "Dl3mxosEVaPv",
    "outputId": "67ab1697-de65-4326-9f9f-98fb93841dc8"
   },
   "execution_count": 17,
   "outputs": []
  },
  {
   "cell_type": "code",
   "execution_count": 3,
   "outputs": [],
   "source": [],
   "metadata": {
    "collapsed": false,
    "pycharm": {
     "name": "#%%\n"
    }
   }
  },
  {
   "cell_type": "markdown",
   "source": [
    "**OPTIMIZATION LOOP**"
   ],
   "metadata": {
    "id": "d2fbcGzp2QZQ",
    "pycharm": {
     "name": "#%% md\n"
    }
   }
  },
  {
   "cell_type": "code",
   "execution_count": 4,
   "outputs": [
    {
     "name": "stdout",
     "output_type": "stream",
     "text": [
      "iteration: 0\n",
      "cost [37.5051964]\n",
      "descent [0.]\n",
      "DDP_comp FINISHED\n",
      "iteration: 0\n",
      "cost [37.5051964]\n",
      "descent [226675.4108825]\n"
     ]
    },
    {
     "ename": "KeyboardInterrupt",
     "evalue": "",
     "output_type": "error",
     "traceback": [
      "\u001B[0;31m---------------------------------------------------------------------------\u001B[0m",
      "\u001B[0;31mKeyboardInterrupt\u001B[0m                         Traceback (most recent call last)",
      "\u001B[0;32m<ipython-input-4-75f8cf2c743e>\u001B[0m in \u001B[0;36m<module>\u001B[0;34m\u001B[0m\n\u001B[1;32m     40\u001B[0m     \u001B[0mdd\u001B[0m \u001B[0;34m=\u001B[0m \u001B[0;36m0\u001B[0m\u001B[0;34m\u001B[0m\u001B[0;34m\u001B[0m\u001B[0m\n\u001B[1;32m     41\u001B[0m     \u001B[0;31m# Computation of the K, p, P, Sigma, and descent\u001B[0m\u001B[0;34m\u001B[0m\u001B[0;34m\u001B[0m\u001B[0;34m\u001B[0m\u001B[0m\n\u001B[0;32m---> 42\u001B[0;31m     \u001B[0mKK\u001B[0m\u001B[0;34m,\u001B[0m\u001B[0mSS\u001B[0m\u001B[0;34m,\u001B[0m\u001B[0mPP\u001B[0m\u001B[0;34m,\u001B[0m\u001B[0mpp\u001B[0m\u001B[0;34m,\u001B[0m\u001B[0mdd\u001B[0m \u001B[0;34m=\u001B[0m \u001B[0mopt\u001B[0m\u001B[0;34m.\u001B[0m\u001B[0mDDP_comp_t_k\u001B[0m\u001B[0;34m(\u001B[0m\u001B[0mkk\u001B[0m\u001B[0;34m,\u001B[0m \u001B[0mxx\u001B[0m\u001B[0;34m,\u001B[0m \u001B[0muu\u001B[0m\u001B[0;34m,\u001B[0m \u001B[0mxx_ref\u001B[0m\u001B[0;34m,\u001B[0m \u001B[0muu_ref\u001B[0m\u001B[0;34m,\u001B[0m\u001B[0mdd\u001B[0m\u001B[0;34m,\u001B[0m \u001B[0mTT\u001B[0m\u001B[0;34m,\u001B[0m \u001B[0mparams\u001B[0m\u001B[0;34m)\u001B[0m\u001B[0;34m.\u001B[0m\u001B[0mvalues\u001B[0m\u001B[0;34m(\u001B[0m\u001B[0;34m)\u001B[0m\u001B[0;34m\u001B[0m\u001B[0;34m\u001B[0m\u001B[0m\n\u001B[0m\u001B[1;32m     43\u001B[0m     \u001B[0;31m#gammas = opt.Armijo(kk, xx, uu, xx_init, xx_ref, uu_ref, TT, cost, descent[kk], cc, beta, SS, KK, pp, params)\u001B[0m\u001B[0;34m\u001B[0m\u001B[0;34m\u001B[0m\u001B[0;34m\u001B[0m\u001B[0m\n\u001B[1;32m     44\u001B[0m     \u001B[0mxx\u001B[0m\u001B[0;34m,\u001B[0m\u001B[0muu\u001B[0m\u001B[0;34m,\u001B[0m\u001B[0mcost\u001B[0m \u001B[0;34m=\u001B[0m \u001B[0mopt\u001B[0m\u001B[0;34m.\u001B[0m\u001B[0mTrajectory_Update\u001B[0m\u001B[0;34m(\u001B[0m\u001B[0mkk\u001B[0m\u001B[0;34m,\u001B[0m \u001B[0mxx\u001B[0m\u001B[0;34m,\u001B[0m \u001B[0muu\u001B[0m\u001B[0;34m,\u001B[0m \u001B[0mxx_ref\u001B[0m\u001B[0;34m,\u001B[0m \u001B[0muu_ref\u001B[0m\u001B[0;34m,\u001B[0m \u001B[0mxx_init\u001B[0m\u001B[0;34m,\u001B[0m \u001B[0mTT\u001B[0m\u001B[0;34m,\u001B[0m \u001B[0mcost\u001B[0m\u001B[0;34m,\u001B[0m \u001B[0;36m0.025\u001B[0m\u001B[0;34m,\u001B[0m \u001B[0mSS\u001B[0m\u001B[0;34m,\u001B[0m \u001B[0mKK\u001B[0m\u001B[0;34m,\u001B[0m \u001B[0mpp\u001B[0m\u001B[0;34m,\u001B[0m \u001B[0mparams\u001B[0m\u001B[0;34m)\u001B[0m\u001B[0;34m.\u001B[0m\u001B[0mvalues\u001B[0m\u001B[0;34m(\u001B[0m\u001B[0;34m)\u001B[0m\u001B[0;34m\u001B[0m\u001B[0;34m\u001B[0m\u001B[0m\n",
      "\u001B[0;32m~/PycharmProjects/Ball-and-Beam-system-Optimal-Control/optcon.py\u001B[0m in \u001B[0;36mDDP_comp_t_k\u001B[0;34m(kk, xx, uu, xx_ref, uu_ref, descent, TT, params)\u001B[0m\n\u001B[1;32m     94\u001B[0m         \u001B[0mSS\u001B[0m\u001B[0;34m[\u001B[0m\u001B[0;34m:\u001B[0m\u001B[0;34m,\u001B[0m \u001B[0mtt\u001B[0m\u001B[0;34m:\u001B[0m\u001B[0mtt\u001B[0m \u001B[0;34m+\u001B[0m \u001B[0;36m1\u001B[0m\u001B[0;34m]\u001B[0m \u001B[0;34m=\u001B[0m \u001B[0;34m-\u001B[0m\u001B[0mnp\u001B[0m\u001B[0;34m.\u001B[0m\u001B[0mmatmul\u001B[0m\u001B[0;34m(\u001B[0m\u001B[0mKS_inv_term\u001B[0m\u001B[0;34m,\u001B[0m \u001B[0mSS_dir_term\u001B[0m\u001B[0;34m)\u001B[0m\u001B[0;34m\u001B[0m\u001B[0;34m\u001B[0m\u001B[0m\n\u001B[1;32m     95\u001B[0m         \u001B[0;31m# PP update\u001B[0m\u001B[0;34m\u001B[0m\u001B[0;34m\u001B[0m\u001B[0;34m\u001B[0m\u001B[0m\n\u001B[0;32m---> 96\u001B[0;31m         \u001B[0mPP_1_term\u001B[0m \u001B[0;34m=\u001B[0m \u001B[0mLxx_kk\u001B[0m \u001B[0;34m+\u001B[0m \u001B[0msd\u001B[0m\u001B[0;34m.\u001B[0m\u001B[0mdot3\u001B[0m\u001B[0;34m(\u001B[0m\u001B[0mfx\u001B[0m\u001B[0;34m,\u001B[0m \u001B[0mPP_next\u001B[0m\u001B[0;34m,\u001B[0m \u001B[0mfx\u001B[0m\u001B[0;34m.\u001B[0m\u001B[0mT\u001B[0m\u001B[0;34m)\u001B[0m \u001B[0;34m+\u001B[0m \u001B[0mpfxx_kk\u001B[0m  \u001B[0;31m# PP first term (DDP formula)\u001B[0m\u001B[0;34m\u001B[0m\u001B[0;34m\u001B[0m\u001B[0m\n\u001B[0m\u001B[1;32m     97\u001B[0m         \u001B[0mPP_2_term\u001B[0m \u001B[0;34m=\u001B[0m \u001B[0msd\u001B[0m\u001B[0;34m.\u001B[0m\u001B[0mdot3\u001B[0m\u001B[0;34m(\u001B[0m\u001B[0mKK_tt\u001B[0m\u001B[0;34m.\u001B[0m\u001B[0mT\u001B[0m\u001B[0;34m,\u001B[0m \u001B[0mKS_dir_term\u001B[0m\u001B[0;34m,\u001B[0m \u001B[0mKK_tt\u001B[0m\u001B[0;34m)\u001B[0m  \u001B[0;31m# PP second term (DDP formula)\u001B[0m\u001B[0;34m\u001B[0m\u001B[0;34m\u001B[0m\u001B[0m\n\u001B[1;32m     98\u001B[0m         \u001B[0;31m#print('PP[:, :, tt:tt + 1] :',PP[:, :, tt:tt + 1] )\u001B[0m\u001B[0;34m\u001B[0m\u001B[0;34m\u001B[0m\u001B[0;34m\u001B[0m\u001B[0m\n",
      "\u001B[0;32m~/PycharmProjects/Ball-and-Beam-system-Optimal-Control/system_dynamic.py\u001B[0m in \u001B[0;36mdot3\u001B[0;34m(a, B, c)\u001B[0m\n\u001B[1;32m     11\u001B[0m     \u001B[0;31m#   B : matrix NxN\u001B[0m\u001B[0;34m\u001B[0m\u001B[0;34m\u001B[0m\u001B[0;34m\u001B[0m\u001B[0m\n\u001B[1;32m     12\u001B[0m     \u001B[0;31m#   c : column vector Nx1\u001B[0m\u001B[0;34m\u001B[0m\u001B[0;34m\u001B[0m\u001B[0;34m\u001B[0m\u001B[0m\n\u001B[0;32m---> 13\u001B[0;31m     \u001B[0mH\u001B[0m \u001B[0;34m=\u001B[0m \u001B[0mnp\u001B[0m\u001B[0;34m.\u001B[0m\u001B[0mmatmul\u001B[0m\u001B[0;34m(\u001B[0m\u001B[0mB\u001B[0m\u001B[0;34m,\u001B[0m \u001B[0mc\u001B[0m\u001B[0;34m)\u001B[0m\u001B[0;34m\u001B[0m\u001B[0;34m\u001B[0m\u001B[0m\n\u001B[0m\u001B[1;32m     14\u001B[0m     \u001B[0md\u001B[0m \u001B[0;34m=\u001B[0m \u001B[0mnp\u001B[0m\u001B[0;34m.\u001B[0m\u001B[0mmatmul\u001B[0m\u001B[0;34m(\u001B[0m\u001B[0ma\u001B[0m\u001B[0;34m,\u001B[0m \u001B[0mH\u001B[0m\u001B[0;34m)\u001B[0m\u001B[0;34m\u001B[0m\u001B[0;34m\u001B[0m\u001B[0m\n\u001B[1;32m     15\u001B[0m     \u001B[0;31m# GIMMY\u001B[0m\u001B[0;34m\u001B[0m\u001B[0;34m\u001B[0m\u001B[0;34m\u001B[0m\u001B[0m\n",
      "\u001B[0;31mKeyboardInterrupt\u001B[0m: "
     ]
    }
   ],
   "source": [
    "## ITERATION LOOP\n",
    "\n",
    "# Initializations\n",
    "xx = np.zeros((nx,TT,max_iterations)) # state tensor\n",
    "uu = np.zeros((nu,TT,max_iterations)) # input tensor\n",
    "\n",
    "cost = np.zeros((max_iterations,1)) # cost function values memory\n",
    "\n",
    "descent = np.zeros((max_iterations,1)) # descent vector\n",
    "\n",
    "#initialize trajectory\n",
    "kk = 0\n",
    "for tt in range(0,TT-1):\n",
    "\n",
    "    uu_tk = uu[:, tt:tt + 1, kk:kk + 1] # shape (1,1,1)\n",
    "    uu_ref_tt = uu_ref[:, tt:tt + 1] # shape (1,1)\n",
    "    xx_tk = xx[:, tt:tt + 1, kk:kk + 1] # shape (4,1,1)\n",
    "    xx_ref_tt = xx_ref[:, tt:tt + 1] # shape (4,1)\n",
    "\n",
    "    cost_temp = cost_function.Stage_Cost(xx_tk, uu_tk, xx_ref_tt, uu_ref_tt, params)['cost_t']\n",
    "    cost[kk] = cost[kk] + cost_temp[0]\n",
    "\n",
    "xx_Tk = xx[:,TT-1:TT,kk:kk+1]\n",
    "xx_ref_TT = xx_ref[:,TT-1:TT]\n",
    "cost_temp = cost_function.Terminal_Cost(xx_Tk, xx_ref_TT,params)['cost_T']\n",
    "\n",
    "cost[kk] = cost[kk] + cost_temp[0]\n",
    "\n",
    "print('iteration:', kk )\n",
    "print('cost', cost[kk])\n",
    "print('descent', descent[kk])\n",
    "\n",
    "# LOOP\n",
    "for kk in range(0,max_iterations-1):\n",
    "\n",
    "    KK = np.zeros((nu,nx,TT))\n",
    "    SS = np.zeros((nu,TT)) #Sigma\n",
    "    pp = np.zeros((nx,TT))\n",
    "    PP = np.zeros((nx,nx,TT))\n",
    "    dd = 0\n",
    "    # Computation of the K, p, P, Sigma, and descent\n",
    "    KK,SS,PP,pp,dd = opt.DDP_comp_t_k(kk, xx, uu, xx_ref, uu_ref,dd, TT, params).values()\n",
    "    #gammas = opt.Armijo(kk, xx, uu, xx_init, xx_ref, uu_ref, TT, cost, descent[kk], cc, beta, SS, KK, pp, params)\n",
    "    xx,uu,cost = opt.Trajectory_Update(kk, xx, uu, xx_ref, uu_ref, xx_init, TT, cost, 0.025, SS, KK, pp, params).values()\n",
    "\n",
    "    dd = np.reshape(dd, 1)\n",
    "\n",
    "    print('iteration:', kk )\n",
    "    print('cost', cost[kk])\n",
    "    print('descent', dd)\n",
    "\n",
    "    if np.abs(dd)<STOP_ITER: #STOP CRITERION\n",
    "       Max_Iter = kk\n",
    "       print(\"GG WP\")\n",
    "       break\n",
    "    descent[kk] = dd\n",
    "    Max_Iter = kk\n"
   ],
   "metadata": {
    "collapsed": false,
    "pycharm": {
     "name": "#%%\n"
    }
   }
  },
  {
   "cell_type": "code",
   "execution_count": null,
   "outputs": [],
   "source": [
    "# Plotting the Graph\n",
    "t = range(0,TT)\n",
    "fig0, ax0 = plt_.subplots(figsize=(10, 5))\n",
    "ax0.plot(t, xx_ref[0, :], 'o-', label='xx_ref_0')\n",
    "ax0.plot(t, xx[0, :,Max_Iter], '.-', label='xx_0')\n",
    "plt_.title(\"Ball Reference Position\")\n",
    "plt_.xlabel(\"t\")\n",
    "plt_.ylabel(\"p(t)\")\n",
    "plt_.grid()\n",
    "plt_.show()\n",
    "\n",
    "# Plotting the Graph\n",
    "t = range(0,TT)\n",
    "fig1, ax1 = plt_.subplots(figsize=(10, 5))\n",
    "ax1.plot(t, xx_ref[1, :], 'o-', label='xx_ref_1')\n",
    "ax1.plot(t, xx[1, :,Max_Iter], '.-', label='xx_1')\n",
    "plt_.title(\"Ball Reference Velocity\")\n",
    "plt_.xlabel(\"t\")\n",
    "plt_.ylabel(\"p_dot(t)\")\n",
    "plt_.grid()\n",
    "plt_.show()\n",
    "\n",
    "# Plotting the Graph\n",
    "t = range(0,TT)\n",
    "fig2, ax2 = plt_.subplots(figsize=(10, 5))\n",
    "ax2.plot(t, xx_ref[2, :], 'o-', label='xx_ref_2')\n",
    "ax2.plot(t, xx[2, :,Max_Iter], '.-', label='xx_2')\n",
    "plt_.title(\"Beam Reference Position\")\n",
    "plt_.xlabel(\"t\")\n",
    "plt_.ylabel(\"theta(t)\")\n",
    "plt_.grid()\n",
    "plt_.show()\n",
    "\n",
    "# Plotting the Graph\n",
    "t = range(0,TT)\n",
    "fig3, ax3 = plt_.subplots(figsize=(10, 5))\n",
    "ax3.plot(t, xx_ref[3, :], 'o-', label='xx_ref_3')\n",
    "ax3.plot(t, xx[3, :,Max_Iter], '.-', label='xx_3')\n",
    "plt_.title(\"Beam Reference velocity\")\n",
    "plt_.xlabel(\"t\")\n",
    "plt_.ylabel(\"theta_dot(t)\")\n",
    "plt_.grid()\n",
    "plt_.show()\n",
    "\n",
    "# Plotting the Graph\n",
    "t = range(0,TT)\n",
    "fig, ax = plt_.subplots(figsize=(10, 5))\n",
    "ax.plot(t, uu_ref[0, :], 'o-', label='uu_ref')\n",
    "ax.plot(t, uu[0, :,Max_Iter], '.-', label='uu')\n",
    "plt_.title(\"Input Torque\")\n",
    "plt_.xlabel(\"t\")\n",
    "plt_.ylabel(\"torque(t)\")\n",
    "plt_.grid()\n"
   ],
   "metadata": {
    "collapsed": false,
    "pycharm": {
     "name": "#%%\n"
    }
   }
  },
  {
   "cell_type": "code",
   "execution_count": null,
   "outputs": [],
   "source": [
    "plot = 1\n",
    "\n",
    "L = params['LL']\n",
    "xx = np.array([0, 3 / 8 * L, -L / 2, 0])\n",
    "tt = np.array([0, 1, 2.5, 3])\n",
    "Time = 3\n",
    "prova = RT.Spline_Ref(Time, params,xx, tt, plot ,TT, dim )\n",
    "print(prova['xx_ref'].shape)\n",
    "print(prova['uu_ref'].shape)"
   ],
   "metadata": {
    "collapsed": false,
    "pycharm": {
     "name": "#%%\n"
    }
   }
  },
  {
   "cell_type": "code",
   "execution_count": null,
   "outputs": [],
   "source": [
    "time = [1,2.5,3]\n",
    "traj = RT.Cubic_Ref(time,params, plot, TT, dim)"
   ],
   "metadata": {
    "collapsed": false,
    "pycharm": {
     "name": "#%%\n"
    }
   }
  },
  {
   "cell_type": "code",
   "execution_count": 18,
   "outputs": [
    {
     "name": "stdout",
     "output_type": "stream",
     "text": [
      "[[0.0]\n",
      " [0.0]\n",
      " [0.0]\n",
      " [array([0.])]]\n",
      "[[1 0.001 0.0 0.0]\n",
      " [0.0 1.0 -2.282830720435761e-06 0.0]\n",
      " [0 0.0 1.0 0.001]\n",
      " [array([-0.010464]) -0.0 0.0 1.0]]\n",
      "[[0.        ]\n",
      " [0.        ]\n",
      " [0.        ]\n",
      " [0.88888889]]\n",
      "[[ 0.  0.  0.  0.]\n",
      " [-0.  0.  0. -0.]\n",
      " [ 0.  0.  0.  0.]\n",
      " [ 0. -0.  0.  0.]]\n",
      "[[0. 0. 0. 0.]]\n",
      "[[0.]]\n"
     ]
    }
   ],
   "source": [
    "dyn = sd.BB_Dynamics(xx_ref[:,0], uu_ref[:,0], pp[:,0], params)\n",
    "\n",
    "for i in range(0,6):\n",
    "    print(list(dyn.values())[i], sep='/n')"
   ],
   "metadata": {
    "collapsed": false,
    "pycharm": {
     "name": "#%%\n"
    }
   }
  },
  {
   "cell_type": "code",
   "execution_count": null,
   "outputs": [],
   "source": [],
   "metadata": {
    "collapsed": false,
    "pycharm": {
     "name": "#%%\n"
    }
   }
  }
 ]
}