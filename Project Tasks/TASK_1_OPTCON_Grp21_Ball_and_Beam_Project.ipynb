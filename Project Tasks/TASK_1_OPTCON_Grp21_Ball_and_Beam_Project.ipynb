{
 "nbformat": 4,
 "nbformat_minor": 0,
 "metadata": {
  "colab": {
   "name": "OPTCON_Grp21_Ball and Beam Project.ipynb",
   "provenance": [],
   "collapsed_sections": [],
   "include_colab_link": true
  },
  "kernelspec": {
   "name": "python3",
   "display_name": "Python 3"
  },
  "language_info": {
   "name": "python"
  }
 },
 "cells": [
  {
   "cell_type": "markdown",
   "metadata": {
    "id": "view-in-github",
    "colab_type": "text"
   },
   "source": [
    "<a href=\"https://colab.research.google.com/github/NicholasBaraghini/Ball-and-Beam-system-Optimal-Control/blob/main/OPTCON_Grp21_Ball_and_Beam_Project.ipynb\" target=\"_parent\"><img src=\"https://colab.research.google.com/assets/colab-badge.svg\" alt=\"Open In Colab\"/></a>"
   ]
  },
  {
   "cell_type": "markdown",
   "source": [
    "**OPTIMAL CONTROL EXAM PROJECT**\n",
    "\n",
    " Group 21:\n",
    "   - Baraghini Nicholas 0000984041 \n",
    "   - Curto Fabio\n",
    "   - Iadarola Federico"
   ],
   "metadata": {
    "id": "-tfPflu26Rvx"
   }
  },
  {
   "cell_type": "code",
   "execution_count": 1,
   "metadata": {
    "id": "AuKEbT846pKd"
   },
   "outputs": [],
   "source": [
    "# Libraries\n",
    "import numpy as np\n",
    "import matplotlib\n",
    "import sys\n",
    "sys.path.insert(1, 'C:/Users/Baraghini/PycharmProjects/Ball-and-Beam-system-Optimal-Control/Project Modules')\n",
    "import system_dynamic as sd\n",
    "import optcon as opt\n",
    "import cost_function\n",
    "import matplotlib.pyplot as plt_\n",
    "import Reference_Trajectory as RT\n",
    "import visualization as visu\n",
    "%matplotlib widget"
   ]
  },
  {
   "cell_type": "markdown",
   "source": [],
   "metadata": {
    "collapsed": false,
    "id": "lrTQrNcZVaPn"
   }
  },
  {
   "cell_type": "markdown",
   "source": [
    "**TRAJECTORY EXPLORATION** (Task 1)"
   ],
   "metadata": {
    "id": "MCfkicYm15uQ"
   }
  },
  {
   "cell_type": "code",
   "source": [
    "# PARAMETERS SETTING\n",
    "\n",
    "max_iterations = 10;\n",
    "STOP_ITER = 1E-6; #Stop Iteration descent threshold\n",
    "\n",
    "#step_size = 0.1;\n",
    "cc = 0.05\n",
    "beta = 0.5\n",
    "\n",
    "nx = 4  # number of states\n",
    "nu = 1  # number of inputs\n",
    "tf = 7 # seconds\n",
    "\n",
    "params = {'tf': tf, # Seconds\n",
    "          'dt':0.01,   # Step size - Forward Euler method\n",
    "          'gg':9.81,    # gravitational acceleration [m/s^2]\n",
    "          'mm':6.4352E-5,    # ball mass [kg]\n",
    "          'rr':0.0127,   # ball radius [m]\n",
    "          'ii': 3.2691E-8, # ball inertia [kg*m^2]\n",
    "          'II':0.0083,  # beam inertia [kg*m^2]\n",
    "          'dim_X': nx,\n",
    "          'dim_U': nu,\n",
    "          'LL':1,        # beam lenght [m]\n",
    "          'QQ':np.array([[5000, 0, 0 , 0],\n",
    "                        [ 0 ,2, 0 , 0],\n",
    "                        [ 0 , 0,1000, 0],\n",
    "                        [ 0 , 0, 0 ,2]]),\n",
    "          'RR':1,\n",
    "          'QQ_T':np.array([[1000, 0, 0 , 0],\n",
    "                          [ 0 ,1000, 0 , 0],\n",
    "                          [ 0 , 0,10, 0],\n",
    "                          [ 0 , 0, 0 ,1000]])\n",
    "              }\n",
    "\n",
    "TT = int(params['tf']/params['dt']); # rounding down of the time span divided in time in number oof time intervals"
   ],
   "metadata": {
    "id": "CJYzDXzC2RrC"
   },
   "execution_count": 2,
   "outputs": []
  },
  {
   "cell_type": "markdown",
   "source": [
    "**Reference Definition** \\\n",
    "Step reference change between two equilibria "
   ],
   "metadata": {
    "id": "N9uWhNOM1tCB"
   }
  },
  {
   "cell_type": "code",
   "source": [
    "# REFERENCE DEFINITION\n",
    "ref_pos = -0.8*0.5*params['LL'] # ball reference position on the beam [m]\n",
    "init_pos = 0*0.5*params['LL'] # ball initial position on the beam [m]\n",
    "ref_inp = params['mm']*params['gg']*ref_pos; # input reference torque at reference pos ref_pos\n",
    "init_inp = params['mm']*params['gg']*init_pos # input reference torque at init position\n",
    "# state reference definition:\n",
    "xx_ref = np.zeros((nx,TT))\n",
    "xx_ref[0,0:round(TT/2)] = init_pos\n",
    "xx_ref[0,round(TT/2):TT] = ref_pos\n",
    "\n",
    "# input reference definition\n",
    "uu_ref = np.zeros((nu,TT))\n",
    "uu_ref[0,0:round(TT/2)] = init_inp\n",
    "uu_ref[0,round(TT/2):TT] = ref_inp\n",
    "\n",
    "xx_init = np.zeros((nx,1))\n",
    "xx_init[0] = init_pos # initial state\n"
   ],
   "metadata": {
    "id": "8QOtAIm6tkUA"
   },
   "execution_count": 3,
   "outputs": []
  },
  {
   "cell_type": "markdown",
   "source": [
    "**OPTIMIZATION LOOP**"
   ],
   "metadata": {
    "id": "xVkWD_vKP1-Y"
   }
  },
  {
   "cell_type": "code",
   "execution_count": 4,
   "outputs": [
    {
     "name": "stdout",
     "output_type": "stream",
     "text": [
      "Initial cost :  [279360.00002225]\n",
      "DDP_comp FINISHED\n",
      "ARMIJO found\n"
     ]
    },
    {
     "ename": "NameError",
     "evalue": "name 'TT' is not defined",
     "output_type": "error",
     "traceback": [
      "\u001B[1;31m---------------------------------------------------------------------------\u001B[0m",
      "\u001B[1;31mNameError\u001B[0m                                 Traceback (most recent call last)",
      "\u001B[1;32m<ipython-input-4-2dab405e5f59>\u001B[0m in \u001B[0;36m<module>\u001B[1;34m\u001B[0m\n\u001B[0;32m     41\u001B[0m     \u001B[0mKK\u001B[0m\u001B[1;33m,\u001B[0m\u001B[0mSS\u001B[0m\u001B[1;33m,\u001B[0m\u001B[0mPP\u001B[0m\u001B[1;33m,\u001B[0m\u001B[0mpp\u001B[0m\u001B[1;33m,\u001B[0m\u001B[0mdd\u001B[0m \u001B[1;33m=\u001B[0m \u001B[0mopt\u001B[0m\u001B[1;33m.\u001B[0m\u001B[0mDDP_comp_t_k\u001B[0m\u001B[1;33m(\u001B[0m\u001B[0mkk\u001B[0m\u001B[1;33m,\u001B[0m \u001B[0mxx\u001B[0m\u001B[1;33m,\u001B[0m \u001B[0muu\u001B[0m\u001B[1;33m,\u001B[0m \u001B[0mxx_ref\u001B[0m\u001B[1;33m,\u001B[0m \u001B[0muu_ref\u001B[0m\u001B[1;33m,\u001B[0m \u001B[0mTT\u001B[0m\u001B[1;33m,\u001B[0m \u001B[0mparams\u001B[0m\u001B[1;33m)\u001B[0m\u001B[1;33m.\u001B[0m\u001B[0mvalues\u001B[0m\u001B[1;33m(\u001B[0m\u001B[1;33m)\u001B[0m\u001B[1;33m\u001B[0m\u001B[1;33m\u001B[0m\u001B[0m\n\u001B[0;32m     42\u001B[0m     \u001B[0mgammas\u001B[0m \u001B[1;33m=\u001B[0m \u001B[0mopt\u001B[0m\u001B[1;33m.\u001B[0m\u001B[0mArmijo\u001B[0m\u001B[1;33m(\u001B[0m\u001B[0mkk\u001B[0m\u001B[1;33m,\u001B[0m \u001B[0mxx\u001B[0m\u001B[1;33m,\u001B[0m \u001B[0muu\u001B[0m\u001B[1;33m,\u001B[0m \u001B[0mxx_init\u001B[0m\u001B[1;33m,\u001B[0m \u001B[0minit_inp\u001B[0m\u001B[1;33m,\u001B[0m \u001B[0mxx_ref\u001B[0m\u001B[1;33m,\u001B[0m \u001B[0muu_ref\u001B[0m\u001B[1;33m,\u001B[0m \u001B[0mTT\u001B[0m\u001B[1;33m,\u001B[0m \u001B[0mcost\u001B[0m\u001B[1;33m,\u001B[0m \u001B[0mdescent\u001B[0m\u001B[1;33m[\u001B[0m\u001B[0mkk\u001B[0m\u001B[1;33m]\u001B[0m\u001B[1;33m,\u001B[0m \u001B[0mcc\u001B[0m\u001B[1;33m,\u001B[0m \u001B[0mbeta\u001B[0m\u001B[1;33m,\u001B[0m \u001B[0mSS\u001B[0m\u001B[1;33m,\u001B[0m \u001B[0mKK\u001B[0m\u001B[1;33m,\u001B[0m \u001B[0mpp\u001B[0m\u001B[1;33m,\u001B[0m \u001B[0mparams\u001B[0m\u001B[1;33m)\u001B[0m\u001B[1;33m\u001B[0m\u001B[1;33m\u001B[0m\u001B[0m\n\u001B[1;32m---> 43\u001B[1;33m     \u001B[0mxx\u001B[0m\u001B[1;33m,\u001B[0m\u001B[0muu\u001B[0m\u001B[1;33m,\u001B[0m\u001B[0mcost\u001B[0m \u001B[1;33m=\u001B[0m \u001B[0mopt\u001B[0m\u001B[1;33m.\u001B[0m\u001B[0mTrajectory_Update\u001B[0m\u001B[1;33m(\u001B[0m\u001B[0mkk\u001B[0m\u001B[1;33m,\u001B[0m \u001B[0mxx\u001B[0m\u001B[1;33m,\u001B[0m \u001B[0muu\u001B[0m\u001B[1;33m,\u001B[0m \u001B[0mxx_ref\u001B[0m\u001B[1;33m,\u001B[0m \u001B[0muu_ref\u001B[0m\u001B[1;33m,\u001B[0m \u001B[0mxx_init\u001B[0m\u001B[1;33m,\u001B[0m \u001B[0minit_inp\u001B[0m\u001B[1;33m,\u001B[0m \u001B[0mTT\u001B[0m\u001B[1;33m,\u001B[0m \u001B[0mcost\u001B[0m\u001B[1;33m,\u001B[0m \u001B[0mgammas\u001B[0m\u001B[1;33m[\u001B[0m\u001B[1;33m-\u001B[0m\u001B[1;36m1\u001B[0m\u001B[1;33m]\u001B[0m\u001B[1;33m,\u001B[0m \u001B[0mSS\u001B[0m\u001B[1;33m,\u001B[0m \u001B[0mKK\u001B[0m\u001B[1;33m,\u001B[0m \u001B[0mpp\u001B[0m\u001B[1;33m,\u001B[0m \u001B[0mparams\u001B[0m\u001B[1;33m)\u001B[0m\u001B[1;33m.\u001B[0m\u001B[0mvalues\u001B[0m\u001B[1;33m(\u001B[0m\u001B[1;33m)\u001B[0m\u001B[1;33m\u001B[0m\u001B[1;33m\u001B[0m\u001B[0m\n\u001B[0m\u001B[0;32m     44\u001B[0m \u001B[1;33m\u001B[0m\u001B[0m\n\u001B[0;32m     45\u001B[0m     \u001B[0mdd\u001B[0m \u001B[1;33m=\u001B[0m \u001B[0mnp\u001B[0m\u001B[1;33m.\u001B[0m\u001B[0mreshape\u001B[0m\u001B[1;33m(\u001B[0m\u001B[0mdd\u001B[0m\u001B[1;33m,\u001B[0m \u001B[1;36m1\u001B[0m\u001B[1;33m)\u001B[0m\u001B[1;33m\u001B[0m\u001B[1;33m\u001B[0m\u001B[0m\n",
      "\u001B[1;32mC:/Users/Baraghini/PycharmProjects/Ball-and-Beam-system-Optimal-Control/Project Modules\\optcon.py\u001B[0m in \u001B[0;36mTrajectory_Update\u001B[1;34m(kk, xx, uu, xx_ref, uu_ref, xx_init, uu_init, whilòTT, cost, gamma, Sigma, KK, pp, params)\u001B[0m\n\u001B[0;32m    220\u001B[0m \u001B[1;33m\u001B[0m\u001B[0m\n\u001B[0;32m    221\u001B[0m     \u001B[1;31m#Trajectory update\u001B[0m\u001B[1;33m\u001B[0m\u001B[1;33m\u001B[0m\u001B[1;33m\u001B[0m\u001B[0m\n\u001B[1;32m--> 222\u001B[1;33m     \u001B[1;32mfor\u001B[0m \u001B[0mtt\u001B[0m \u001B[1;32min\u001B[0m \u001B[0mrange\u001B[0m\u001B[1;33m(\u001B[0m\u001B[1;36m0\u001B[0m\u001B[1;33m,\u001B[0m \u001B[0mTT\u001B[0m \u001B[1;33m-\u001B[0m \u001B[1;36m1\u001B[0m\u001B[1;33m)\u001B[0m\u001B[1;33m:\u001B[0m\u001B[1;33m\u001B[0m\u001B[1;33m\u001B[0m\u001B[0m\n\u001B[0m\u001B[0;32m    223\u001B[0m         \u001B[0muu_tk\u001B[0m \u001B[1;33m=\u001B[0m \u001B[0mnp\u001B[0m\u001B[1;33m.\u001B[0m\u001B[0mreshape\u001B[0m\u001B[1;33m(\u001B[0m\u001B[0muu\u001B[0m\u001B[1;33m[\u001B[0m\u001B[1;33m:\u001B[0m\u001B[1;33m,\u001B[0m \u001B[0mtt\u001B[0m\u001B[1;33m:\u001B[0m\u001B[1;33m(\u001B[0m\u001B[0mtt\u001B[0m \u001B[1;33m+\u001B[0m \u001B[1;36m1\u001B[0m\u001B[1;33m)\u001B[0m\u001B[1;33m,\u001B[0m \u001B[0mkk\u001B[0m\u001B[1;33m:\u001B[0m\u001B[1;33m(\u001B[0m\u001B[0mkk\u001B[0m \u001B[1;33m+\u001B[0m \u001B[1;36m1\u001B[0m\u001B[1;33m)\u001B[0m\u001B[1;33m]\u001B[0m\u001B[1;33m,\u001B[0m \u001B[1;33m(\u001B[0m\u001B[1;36m1\u001B[0m\u001B[1;33m,\u001B[0m \u001B[1;36m1\u001B[0m\u001B[1;33m)\u001B[0m\u001B[1;33m)\u001B[0m\u001B[1;33m\u001B[0m\u001B[1;33m\u001B[0m\u001B[0m\n\u001B[0;32m    224\u001B[0m         \u001B[0muu_ref_tt\u001B[0m \u001B[1;33m=\u001B[0m \u001B[0muu_ref\u001B[0m\u001B[1;33m[\u001B[0m\u001B[1;33m:\u001B[0m\u001B[1;33m,\u001B[0m \u001B[0mtt\u001B[0m\u001B[1;33m:\u001B[0m\u001B[1;33m(\u001B[0m\u001B[0mtt\u001B[0m \u001B[1;33m+\u001B[0m \u001B[1;36m1\u001B[0m\u001B[1;33m)\u001B[0m\u001B[1;33m]\u001B[0m\u001B[1;33m\u001B[0m\u001B[1;33m\u001B[0m\u001B[0m\n",
      "\u001B[1;31mNameError\u001B[0m: name 'TT' is not defined"
     ]
    }
   ],
   "source": [
    "## ITERATION LOOP\n",
    "\n",
    "# Initializations\n",
    "xx = np.zeros((nx,TT,max_iterations)) # state tensor\n",
    "xx[0,0,:] = init_pos # init ball position\n",
    "uu = np.zeros((nu,TT,max_iterations)) # input tensor\n",
    "uu[0,0,:] = init_inp  # init torque input\n",
    "\n",
    "cost = np.zeros((max_iterations,1)) # cost function values memory\n",
    "\n",
    "descent = np.zeros((max_iterations,1)) # descent vector\n",
    "\n",
    "#initialize trajectory\n",
    "kk = 0\n",
    "for tt in range(0,TT-1):\n",
    "\n",
    "    uu_tk = uu[:, tt:tt + 1, kk:kk + 1] # shape (1,1,1)\n",
    "    uu_ref_tt = uu_ref[:, tt:tt + 1] # shape (1,1)\n",
    "    xx_tk = xx[:, tt:tt + 1, kk:kk + 1] # shape (4,1,1)\n",
    "    xx_ref_tt = xx_ref[:, tt:tt + 1] # shape (4,1)\n",
    "\n",
    "    cost_temp = cost_function.Stage_Cost(xx_tk, uu_tk, xx_ref_tt, uu_ref_tt, params)['cost_t']\n",
    "    cost[kk] = cost[kk] + cost_temp[0]\n",
    "\n",
    "xx_Tk = xx[:,TT-1:TT,kk:kk+1]\n",
    "xx_ref_TT = xx_ref[:,TT-1:TT]\n",
    "cost_temp = cost_function.Terminal_Cost(xx_Tk, xx_ref_TT,params)['cost_T']\n",
    "\n",
    "cost[kk] = cost[kk] + cost_temp[0]\n",
    "print('Initial cost : ', cost[kk])\n",
    "\n",
    "# LOOP\n",
    "for kk in range(0,max_iterations-1):\n",
    "\n",
    "    KK = np.zeros((nu,nx,TT))\n",
    "    SS = np.zeros((nu,TT)) #Sigma\n",
    "    pp = np.zeros((nx,TT))\n",
    "    PP = np.zeros((nx,nx,TT))\n",
    "    dd = 0\n",
    "    # Computation of the K, p, P, Sigma, and descent\n",
    "    KK,SS,PP,pp,dd = opt.DDP_comp_t_k(kk, xx, uu, xx_ref, uu_ref, TT, params).values()\n",
    "    gammas = opt.Armijo(kk, xx, uu, xx_init, init_inp, xx_ref, uu_ref, TT, cost, descent[kk], cc, beta, SS, KK, pp, params)\n",
    "    xx,uu,cost = opt.Trajectory_Update(kk, xx, uu, xx_ref, uu_ref, xx_init, init_inp, TT, cost, gammas[-1], SS, KK, pp, params).values()\n",
    "\n",
    "    dd = np.reshape(dd, 1)\n",
    "\n",
    "    print('iteration:  {}'.format(kk ))\n",
    "    print('cost:       {}'.format(cost[kk]))\n",
    "    print('descent:    {}'.format( dd), end='\\n')\n",
    "\n",
    "\n",
    "    if np.abs(dd)<STOP_ITER: #STOP CRITERION\n",
    "       Max_Iter = kk\n",
    "       print(\"GJ WP\")\n",
    "       break\n",
    "    descent[kk] = dd\n",
    "    Max_Iter = kk\n"
   ],
   "metadata": {
    "pycharm": {
     "name": "#%%\n"
    },
    "id": "Dl3mxosEVaPv",
    "outputId": "67ab1697-de65-4326-9f9f-98fb93841dc8"
   }
  },
  {
   "cell_type": "markdown",
   "source": [
    "**PLOTTING**"
   ],
   "metadata": {
    "collapsed": false
   }
  },
  {
   "cell_type": "code",
   "execution_count": null,
   "outputs": [],
   "source": [
    "t = np.arange(0,params['tf'],params['dt'])\n",
    "fig, axs = plt_.subplots(2, 2, figsize=(18,10))\n",
    "fig.suptitle('State Reference Trajectories')\n",
    "#pos\n",
    "axs[0,0].plot(t, xx_ref[0, :], '-', label='xx_ref_0')\n",
    "axs[0,0].plot(t, xx[0, :,Max_Iter], '-', label='xx_0_optimal',lw = 3.5)\n",
    "axs[0,0].legend(loc='lower left', ncol=1)\n",
    "axs[0, 0].set_title(\"Ball Reference Position\")\n",
    "#vel\n",
    "axs[1,0].plot(t, xx_ref[1, :], '-', label='xx_ref_1')\n",
    "axs[1,0].plot(t, xx[1, :,Max_Iter], '-', label='xx_1_optimal',lw = 3.5)\n",
    "axs[1,0].legend(loc='lower left', ncol=1)\n",
    "axs[1, 0].sharex(axs[0, 0])\n",
    "axs[1, 0].set_title(\"Ball Reference Velocity\")\n",
    "#beam pos\n",
    "axs[0,1].plot(t, xx_ref[2, :], '-', label='xx_ref_2')\n",
    "axs[0,1].plot(t, xx[2, :,Max_Iter], '-', label='xx_2_optimal',lw = 3.5)\n",
    "axs[0,1].legend(loc='lower left', ncol=1)\n",
    "axs[0,1].set_title(\"Beam Reference Position\")\n",
    "#beam vel\n",
    "axs[1,1].plot(t, xx_ref[3, :], '-', label='xx_ref_3')\n",
    "axs[1,1].plot(t, xx[3, :,Max_Iter], '-', label='xx_3_optimal',lw = 3.5)\n",
    "axs[1,1].legend(loc='lower left', ncol=1)\n",
    "axs[1,1].set_title(\"Beam Reference Velocity\")\n",
    "axs[1,1].sharex(axs[0,1])\n",
    "axs[0,0].grid()\n",
    "axs[0,1].grid()\n",
    "axs[1,0].grid()\n",
    "axs[1,1].grid()\n",
    "plt_.show()\n",
    "plt_.close(fig)\n",
    "fig.savefig('plot/task_1_state_reference.jpg', transparent = True)"
   ],
   "metadata": {
    "collapsed": false,
    "pycharm": {
     "name": "#%%\n"
    }
   }
  },
  {
   "cell_type": "code",
   "execution_count": null,
   "outputs": [],
   "source": [
    "# Plotting the Graph p(t)\n",
    "#t = range(0,TT)\n",
    "#fig0, ax0 = plt_.subplots(figsize=(10, 5))\n",
    "#ax0.plot(t, xx_ref[0, :], '-', label='xx_ref_pos')\n",
    "#ax0.plot(t, xx[0, :,Max_Iter], '--', label='xx_opt_0',lw = 3)\n",
    "#ax0.legend(loc='lower left', ncol=1)\n",
    "#plt_.title(\"Ball Position\")\n",
    "#plt_.xlabel(\"t\")\n",
    "#plt_.ylabel(\"p(t)\")\n",
    "#plt_.grid()\n",
    "#plt_.show()\n",
    "#plt_.close(fig0)\n",
    "\n",
    "# Plotting the Graph p_dot(t)\n",
    "#t = range(0,TT)\n",
    "#fig1, ax1 = plt_.subplots(figsize=(10, 5))\n",
    "#ax1.plot(t, xx_ref[1, :], '-', label='xx_ref_1')\n",
    "#ax1.plot(t, xx[1, :,Max_Iter], '--', label='xx_opt_1',lw = 3)\n",
    "#ax1.legend(loc='lower left', ncol=1)\n",
    "#plt_.title(\"Ball Velocity\")\n",
    "#plt_.xlabel(\"t\")\n",
    "#plt_.ylabel(\"p_dot(t)\")\n",
    "#plt_.grid()\n",
    "#plt_.show()\n",
    "#plt_.close(fig1)\n",
    "\n",
    "# Plotting the Graph theta(t)\n",
    "#t = range(0,TT)\n",
    "#fig2, ax2 = plt_.subplots(figsize=(10, 5))\n",
    "#ax2.plot(t, xx_ref[2, :], '-', label='xx_ref_2')\n",
    "#ax2.plot(t, xx[2, :,Max_Iter], '--', label='xx_opt_2',lw = 3)\n",
    "#ax2.legend(loc='lower left', ncol=1)\n",
    "#plt_.title(\"Beam Position\")\n",
    "#plt_.xlabel(\"t\")\n",
    "#plt_.ylabel(\"theta(t)\")\n",
    "#plt_.grid()\n",
    "#plt_.show()\n",
    "#plt_.close(fig2)\n",
    "\n",
    "# Plotting the Graph theta_dot(t)\n",
    "#t = range(0,TT)\n",
    "#fig3, ax3 = plt_.subplots(figsize=(10, 5))\n",
    "#ax3.plot(t, xx_ref[3, :], '-', label='xx_ref_3')\n",
    "#ax3.plot(t, xx[3, :,Max_Iter], '--', label='xx_opt_3',lw = 3)\n",
    "#ax3.legend(loc='lower left', ncol=1)\n",
    "#plt_.title(\"Beam velocity\")\n",
    "#plt_.xlabel(\"t\")\n",
    "#plt_.ylabel(\"theta_dot(t)\")\n",
    "#plt_.grid()\n",
    "#plt_.show()\n",
    "#plt_.close(fig3)\n",
    "\n",
    "# Plotting the Graph torque(t)\n",
    "t = range(0,TT)\n",
    "fig, ax = plt_.subplots(figsize=(10, 5))\n",
    "ax.plot(t, uu_ref[0, 0:TT], '-', label='uu_ref')\n",
    "ax.plot(t, uu[0, 0:TT,Max_Iter], '--', label='uu_opt',lw = 3)\n",
    "ax.legend(loc='lower left', ncol=1)\n",
    "plt_.title(\"Input Torque\")\n",
    "plt_.xlabel(\"t\")\n",
    "plt_.ylabel(\"torque(t)\")\n",
    "plt_.grid()\n",
    "plt_.show()\n",
    "plt_.close(fig)\n",
    "\n",
    "#plotting the descent\n",
    "iter = range(0,Max_Iter+1)\n",
    "figd, axd = plt_.subplots(figsize=(10, 5))\n",
    "#axd.plot(iter, np.abs(descent[0:Max_Iter+1,0]), '-', label='descent')\n",
    "plt_.semilogy(iter, np.abs(descent[0:Max_Iter+1,0]))\n",
    "plt_.title('Descent')\n",
    "plt_.xlabel('iteration')\n",
    "plt_.grid()\n",
    "plt_.show()\n",
    "plt_.close(figd)\n",
    "\n",
    "#plotting the cost\n",
    "iterc = range(0,Max_Iter+1)\n",
    "JJ = np.abs(np.dot((cost[0:Max_Iter+1,0]-cost[Max_Iter,0]),cost[Max_Iter,0]**(-1)))\n",
    "figc, axc = plt_.subplots(figsize=(10, 5))\n",
    "plt_.semilogy(iterc,JJ)\n",
    "#axc.plot(iterc,JJ, '-', label='cost')\n",
    "plt_.yscale('symlog')\n",
    "plt_.title('Cost')\n",
    "plt_.xlabel('iteration')\n",
    "plt_.grid()\n",
    "plt_.show()\n",
    "plt_.close(figc)\n",
    "\n",
    "#save plot as images for report#\n",
    "#fig0.savefig('plot/task_1_pos.jpg',transparent = True)\n",
    "#fig1.savefig('plot/task_1_vel.jpg',transparent = True)\n",
    "#fig2.savefig('plot/task_1_beam.jpg',transparent = True)\n",
    "#fig3.savefig('plot/task_1_beamV.jpg',transparent = True)\n",
    "fig.savefig('plot/task_1_torque.jpg',transparent = True)\n",
    "figd.savefig('plot/descent_task_1.jpg',transparent = True)\n",
    "figc.savefig('plot/cost_task_1.jpg',transparent = True)"
   ],
   "metadata": {
    "collapsed": false,
    "pycharm": {
     "name": "#%%\n"
    }
   }
  },
  {
   "cell_type": "markdown",
   "source": [
    "**ANIMATION**"
   ],
   "metadata": {
    "collapsed": false
   }
  },
  {
   "cell_type": "code",
   "execution_count": null,
   "outputs": [],
   "source": [
    "x_limit = params['LL']\n",
    "y_limit = params['LL']\n",
    "history_len = 100;\n",
    "ball_rad = params['rr']\n",
    "beam_len = params['LL']\n",
    "frame_rate = params['dt']\n",
    "theta = xx[2, :, Max_Iter:Max_Iter+1]\n",
    "Xp    = xx[0, :, Max_Iter:Max_Iter+1]\n",
    "\n",
    "anim = visu.animate(x_limit,\n",
    "             y_limit,\n",
    "             history_len,\n",
    "             ball_rad,\n",
    "             beam_len,\n",
    "             frame_rate,\n",
    "             theta,\n",
    "             Xp )"
   ],
   "metadata": {
    "collapsed": false,
    "pycharm": {
     "name": "#%%\n"
    }
   }
  },
  {
   "cell_type": "code",
   "execution_count": null,
   "outputs": [],
   "source": [
    "# SAVE ANIMATION AS GIF\n",
    "anim.save('animations/Task_1.gif', writer='Pillow', fps=30)"
   ],
   "metadata": {
    "collapsed": false,
    "pycharm": {
     "name": "#%%\n"
    }
   }
  }
 ]
}