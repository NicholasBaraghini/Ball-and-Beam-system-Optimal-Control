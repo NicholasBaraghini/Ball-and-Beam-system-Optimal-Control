{
 "nbformat": 4,
 "nbformat_minor": 0,
 "metadata": {
  "colab": {
   "name": "OPTCON_Grp21_Ball and Beam Project.ipynb",
   "provenance": [],
   "collapsed_sections": [],
   "include_colab_link": true
  },
  "kernelspec": {
   "name": "python3",
   "display_name": "Python 3"
  },
  "language_info": {
   "name": "python"
  }
 },
 "cells": [
  {
   "cell_type": "markdown",
   "metadata": {
    "id": "view-in-github",
    "colab_type": "text"
   },
   "source": [
    "<a href=\"https://colab.research.google.com/github/NicholasBaraghini/Ball-and-Beam-system-Optimal-Control/blob/main/OPTCON_Grp21_Ball_and_Beam_Project.ipynb\" target=\"_parent\"><img src=\"https://colab.research.google.com/assets/colab-badge.svg\" alt=\"Open In Colab\"/></a>"
   ]
  },
  {
   "cell_type": "markdown",
   "source": [
    "**OPTIMAL CONTROL EXAM PROJECT**\n",
    "\n",
    " Group 21:\n",
    "   - Baraghini Nicholas 0000984041 \n",
    "   - Curto Fabio\n",
    "   - Iadarola Federico"
   ],
   "metadata": {
    "id": "-tfPflu26Rvx"
   }
  },
  {
   "cell_type": "code",
   "execution_count": 1,
   "metadata": {
    "id": "AuKEbT846pKd"
   },
   "outputs": [],
   "source": [
    "# Libraries\n",
    "import numpy as np\n",
    "import matplotlib\n",
    "\n",
    "import system_dynamic as sd\n",
    "import optcon as opt\n",
    "import cost_function\n",
    "import matplotlib.pyplot as plt_\n",
    "%matplotlib widget\n",
    "\n",
    "import visualization as visu"
   ]
  },
  {
   "cell_type": "markdown",
   "source": [],
   "metadata": {
    "collapsed": false,
    "id": "lrTQrNcZVaPn"
   }
  },
  {
   "cell_type": "markdown",
   "source": [
    "**TRAJECTORY EXPLORATION** (Task 1)"
   ],
   "metadata": {
    "id": "MCfkicYm15uQ"
   }
  },
  {
   "cell_type": "code",
   "source": [
    "# PARAMETERS SETTING\n",
    "\n",
    "max_iterations = 200;\n",
    "STOP_ITER = 1E-1; #Stop Iteration descent threshold\n",
    "\n",
    "step_size = 0.1;\n",
    "cc = 0.05\n",
    "beta = 0.5\n",
    "\n",
    "nx = 4; # nmumber of states\n",
    "nu = 1; # number of inputs\n",
    "tf = 30; # Seconds\n",
    "\n",
    "params = {'dt':0.001,   # Step size - Forward Euler method\n",
    "          'gg':9.81,    # gravitational acceleration [m/s^2]\n",
    "          'mm': 6.4352E-5,    # ball mass [kg]\n",
    "          'rr':0.0127,   # ball radius [m]\n",
    "          'ii': 3.2691E-8, # ball inertia [kg*m^2]\n",
    "          'II':0.0083,  # beam inertia [kg*m^2]\n",
    "          'LL':1,        # beam lenght [m]\n",
    "          'QQ':np.array([[10, 0, 0 , 0],\n",
    "                        [ 0 ,1, 0 , 0],\n",
    "                        [ 0 , 0,10, 0],\n",
    "                        [ 0 , 0, 0 ,1]]),\n",
    "          'RR':1,\n",
    "          'QQ_T':np.array([[1, 0, 0 , 0],\n",
    "                          [ 0 ,1, 0 , 0],\n",
    "                          [ 0 , 0,1, 0],\n",
    "                          [ 0 , 0, 0 ,1]])\n",
    "              }\n",
    "\n",
    "TT = int(tf/params['dt']); # rounding down of the time span divided in time in number oof time intervals\n",
    "\n",
    "xx_init = np.zeros((nx,1)); # initial state\n"
   ],
   "metadata": {
    "id": "CJYzDXzC2RrC"
   },
   "execution_count": 2,
   "outputs": []
  },
  {
   "cell_type": "markdown",
   "source": [
    "**Reference Definition** \\\n",
    "Step reference change between two equilibria "
   ],
   "metadata": {
    "id": "N9uWhNOM1tCB"
   }
  },
  {
   "cell_type": "code",
   "source": [
    "\n",
    "# REFERENCE DEFINITION\n",
    "ref_pos = -0.2*0.5*params['LL']; # ball reference position on the beam [m]\n",
    "ref_inp = params['mm']*params['gg']*ref_pos; # input reference torque at reference pos ref_pos\n",
    "\n",
    "# state reference definition:\n",
    "xx_ref = np.zeros((nx,TT));\n",
    "xx_ref[0,round(TT/2):TT] = ref_pos;\n",
    "\n",
    "# input reference definition\n",
    "uu_ref = np.zeros((nu,TT));\n",
    "uu_ref[0,round(TT/2):TT] = ref_inp;\n",
    "xx = np.zeros((nx,TT,max_iterations)); # state tensor uu = np.zeros((nu,TT,max_iterations)); # input tensor\n",
    "\n",
    "cost = np.zeros((max_iterations,1)); # cost function values memory descent = np.zeros((max_iterations,1));"
   ],
   "metadata": {
    "id": "8QOtAIm6tkUA"
   },
   "execution_count": 3,
   "outputs": []
  },
  {
   "cell_type": "code",
   "execution_count": 3,
   "outputs": [],
   "source": [],
   "metadata": {
    "collapsed": false,
    "pycharm": {
     "name": "#%%\n"
    }
   }
  },
  {
   "cell_type": "markdown",
   "source": [
    "**OPTIMIZATION LOOP**"
   ],
   "metadata": {
    "id": "xVkWD_vKP1-Y"
   }
  },
  {
   "cell_type": "code",
   "execution_count": null,
   "outputs": [
    {
     "name": "stdout",
     "output_type": "stream",
     "text": [
      "iteration: 0\n",
      "cost [1499.91005978]\n",
      "descent [0.]\n",
      "DDP_comp FINISHED\n",
      "in boca mamm t : [-0.67622561]\n",
      "in boca mamm t : [5.33999841]\n",
      "in boca mamm t : [5.71140944]\n",
      "in boca mamm t : [142.25421083]\n",
      "in boca mamm t : [575.13648738]\n",
      "in boca mamm t : [511247.09281631]\n",
      "in boca mamm t : [47582307.4910783]\n",
      "in boca mamm t : [6.98113097e+14]\n",
      "in boca mamm t : [9.46467085e+25]\n",
      "in boca mamm t : [2.76212312e+51]\n",
      "in boca mamm t : [1.48163084e+99]\n",
      "in boca mamm t : [6.76880524e+197]\n",
      "in boca mamm t : [inf]\n",
      "in boca mamm t : [inf]\n"
     ]
    },
    {
     "name": "stderr",
     "output_type": "stream",
     "text": [
      "C:\\Users\\Baraghini\\PycharmProjects\\Ball-and-Beam-system-Optimal-Control\\system_dynamic.py:57: RuntimeWarning: overflow encountered in double_scalars\n",
      "  (mm * xx[0] * (xx[3] ** 2) - mm * gg * np.sin(xx[2])) * d1,\n",
      "C:\\Users\\Baraghini\\PycharmProjects\\Ball-and-Beam-system-Optimal-Control\\system_dynamic.py:59: RuntimeWarning: overflow encountered in double_scalars\n",
      "  -(2 * mm * xx[0] * xx[1] * xx[3] + mm * gg * xx[0] * np.cos(xx[2]) - uu) / d22]\n",
      "C:\\Users\\Baraghini\\PycharmProjects\\Ball-and-Beam-system-Optimal-Control\\system_dynamic.py:71: RuntimeWarning: overflow encountered in double_scalars\n",
      "  fx1_4_num = (-(2 * mm * xx[1] * xx[3] + mm * gg * np.cos(xx[2])) * d22 + (2 * mm * xx[0] * xx[1] * xx[3] + mm * gg * xx[0] * np.cos(xx[2]) - uu) * (2 * mm * xx[0]))\n",
      "C:\\Users\\Baraghini\\PycharmProjects\\Ball-and-Beam-system-Optimal-Control\\system_dynamic.py:71: RuntimeWarning: invalid value encountered in add\n",
      "  fx1_4_num = (-(2 * mm * xx[1] * xx[3] + mm * gg * np.cos(xx[2])) * d22 + (2 * mm * xx[0] * xx[1] * xx[3] + mm * gg * xx[0] * np.cos(xx[2]) - uu) * (2 * mm * xx[0]))\n",
      "C:\\Users\\Baraghini\\PycharmProjects\\Ball-and-Beam-system-Optimal-Control\\system_dynamic.py:76: RuntimeWarning: overflow encountered in double_scalars\n",
      "  dt * (mm * (xx[3] ** 2) * d1),\n",
      "C:\\Users\\Baraghini\\PycharmProjects\\Ball-and-Beam-system-Optimal-Control\\system_dynamic.py:113: RuntimeWarning: overflow encountered in double_scalars\n",
      "  fx1x1_4_num = (2 * mm * (2 * mm * xx[0] * xx[1] * xx[3] + mm * gg * xx[0] * np.cos(xx[2]) - uu) * (d22**2)) - (\n",
      "C:\\Users\\Baraghini\\PycharmProjects\\Ball-and-Beam-system-Optimal-Control\\system_dynamic.py:14: RuntimeWarning: overflow encountered in matmul\n",
      "  d = np.matmul(a, H)\n",
      "C:\\Users\\Baraghini\\PycharmProjects\\Ball-and-Beam-system-Optimal-Control\\cost_function.py:33: RuntimeWarning: overflow encountered in square\n",
      "  L_t = np.reshape(system_dynamic.dot3(state_err.T, QQ, state_err),1) + RR * (input_err ** 2)  # cost function evaluated at time t\n",
      "C:\\Users\\Baraghini\\PycharmProjects\\Ball-and-Beam-system-Optimal-Control\\system_dynamic.py:64: RuntimeWarning: invalid value encountered in add\n",
      "  xx_next[3] = xx[3] + xx_dot[3] * dt\n",
      "C:\\Users\\Baraghini\\PycharmProjects\\Ball-and-Beam-system-Optimal-Control\\system_dynamic.py:118: RuntimeWarning: invalid value encountered in double_scalars\n",
      "  pfxx[0, 0] = pp[3] * ((-2 * mm * xx[3] * d22 + 4 * xx[3] * (mm * xx[0]) ** 2) / fx1_4_den) * dt\n",
      "C:\\Users\\Baraghini\\PycharmProjects\\Ball-and-Beam-system-Optimal-Control\\system_dynamic.py:121: RuntimeWarning: invalid value encountered in double_scalars\n",
      "  pfxx[0, 2] = pp[3] * ((-2 * mm * xx[1] * d22 + 4 * xx[1] * (mm * xx[0]) ** 2) / fx1_4_den) * dt\n",
      "C:\\Users\\Baraghini\\PycharmProjects\\Ball-and-Beam-system-Optimal-Control\\system_dynamic.py:137: RuntimeWarning: invalid value encountered in double_scalars\n",
      "  pfxx[3, 0] = (pp[1] * (2 * mm * xx[3] * d1) * dt + pp[3] * (-2 * mm * xx[1] * d2) * dt)\n",
      "C:\\Users\\Baraghini\\PycharmProjects\\Ball-and-Beam-system-Optimal-Control\\system_dynamic.py:13: RuntimeWarning: invalid value encountered in matmul\n",
      "  H = np.matmul(B, c)\n",
      "C:\\Users\\Baraghini\\PycharmProjects\\Ball-and-Beam-system-Optimal-Control\\cost_function.py:36: RuntimeWarning: invalid value encountered in matmul\n",
      "  DLx = 2 * np.matmul(QQ, xx) - 2 * np.matmul(QQ, xx_ref)\n",
      "C:\\Users\\Baraghini\\PycharmProjects\\Ball-and-Beam-system-Optimal-Control\\system_dynamic.py:57: RuntimeWarning: invalid value encountered in sin\n",
      "  (mm * xx[0] * (xx[3] ** 2) - mm * gg * np.sin(xx[2])) * d1,\n",
      "C:\\Users\\Baraghini\\PycharmProjects\\Ball-and-Beam-system-Optimal-Control\\system_dynamic.py:59: RuntimeWarning: invalid value encountered in cos\n",
      "  -(2 * mm * xx[0] * xx[1] * xx[3] + mm * gg * xx[0] * np.cos(xx[2]) - uu) / d22]\n",
      "C:\\Users\\Baraghini\\PycharmProjects\\Ball-and-Beam-system-Optimal-Control\\system_dynamic.py:71: RuntimeWarning: invalid value encountered in cos\n",
      "  fx1_4_num = (-(2 * mm * xx[1] * xx[3] + mm * gg * np.cos(xx[2])) * d22 + (2 * mm * xx[0] * xx[1] * xx[3] + mm * gg * xx[0] * np.cos(xx[2]) - uu) * (2 * mm * xx[0]))\n",
      "C:\\Users\\Baraghini\\PycharmProjects\\Ball-and-Beam-system-Optimal-Control\\system_dynamic.py:88: RuntimeWarning: invalid value encountered in cos\n",
      "  dt * (-mm * gg * np.cos(xx[2]) * d1),\n",
      "C:\\Users\\Baraghini\\PycharmProjects\\Ball-and-Beam-system-Optimal-Control\\system_dynamic.py:90: RuntimeWarning: invalid value encountered in sin\n",
      "  dt * (mm * gg * xx[0] * np.sin(xx[2]) * d2)]])\n",
      "C:\\Users\\Baraghini\\PycharmProjects\\Ball-and-Beam-system-Optimal-Control\\system_dynamic.py:113: RuntimeWarning: invalid value encountered in cos\n",
      "  fx1x1_4_num = (2 * mm * (2 * mm * xx[0] * xx[1] * xx[3] + mm * gg * xx[0] * np.cos(xx[2]) - uu) * (d22**2)) - (\n",
      "C:\\Users\\Baraghini\\PycharmProjects\\Ball-and-Beam-system-Optimal-Control\\system_dynamic.py:120: RuntimeWarning: invalid value encountered in sin\n",
      "  (mm * gg * np.sin(xx[2]) * d22 - 2 * gg * np.sin(xx[2]) * (mm * xx[0]) ** 2) / fx1_4_den) * dt\n",
      "C:\\Users\\Baraghini\\PycharmProjects\\Ball-and-Beam-system-Optimal-Control\\system_dynamic.py:131: RuntimeWarning: invalid value encountered in cos\n",
      "  pfxx[2, 0] = pp[3] * (mm * gg * np.cos(xx[2]) * d2) * dt\n",
      "C:\\Users\\Baraghini\\PycharmProjects\\Ball-and-Beam-system-Optimal-Control\\system_dynamic.py:133: RuntimeWarning: invalid value encountered in sin\n",
      "  pfxx[2, 2] = (pp[1] * (mm * gg * np.sin(xx[2]) * d1) * dt + pp[3] * (-mm * gg * xx[0] * np.sin(xx[2]) * d2) * dt)\n"
     ]
    },
    {
     "name": "stdout",
     "output_type": "stream",
     "text": [
      "iteration: 0\n",
      "cost [1499.91005978]\n",
      "descent [-7013.94443065]\n",
      "in boca mamm t : [inf]\n",
      "in boca mamm t : [inf]\n",
      "in boca mamm t : [6.76880524e+197]\n",
      "in boca mamm t : [1.48163084e+99]\n",
      "in boca mamm t : [2.76212312e+51]\n",
      "in boca mamm t : [9.46467085e+25]\n",
      "in boca mamm t : [6.98113097e+14]\n",
      "in boca mamm t : [47582307.4910783]\n",
      "in boca mamm t : [511247.09281631]\n",
      "in boca mamm t : [575.13648738]\n",
      "in boca mamm t : [142.25421083]\n",
      "in boca mamm t : [5.71140944]\n",
      "in boca mamm t : [5.33999841]\n",
      "in boca mamm t : [-0.67622561]\n",
      "DDP_comp FINISHED\n",
      "iteration: 1\n",
      "cost [nan]\n",
      "descent [nan]\n",
      "DDP_comp FINISHED\n",
      "iteration: 2\n",
      "cost [nan]\n",
      "descent [nan]\n",
      "DDP_comp FINISHED\n",
      "iteration: 3\n",
      "cost [nan]\n",
      "descent [nan]\n"
     ]
    }
   ],
   "source": [
    "## ITERATION LOOP\n",
    "\n",
    "# Initializations\n",
    "xx = np.zeros((nx,TT,max_iterations)) # state tensor\n",
    "uu = np.zeros((nu,TT,max_iterations)) # input tensor\n",
    "\n",
    "cost = np.zeros((max_iterations,1)) # cost function values memory\n",
    "\n",
    "descent = np.zeros((max_iterations,1)) # descent vector\n",
    "\n",
    "#initialize trajectory\n",
    "kk = 0\n",
    "for tt in range(0,TT-1):\n",
    "\n",
    "    uu_tk = uu[:, tt:tt + 1, kk:kk + 1] # shape (1,1,1)\n",
    "    uu_ref_tt = uu_ref[:, tt:tt + 1] # shape (1,1)\n",
    "    xx_tk = xx[:, tt:tt + 1, kk:kk + 1] # shape (4,1,1)\n",
    "    xx_ref_tt = xx_ref[:, tt:tt + 1] # shape (4,1)\n",
    "\n",
    "    cost_temp = cost_function.Stage_Cost(xx_tk, uu_tk, xx_ref_tt, uu_ref_tt, params)['cost_t']\n",
    "    cost[kk] = cost[kk] + cost_temp[0]\n",
    "\n",
    "xx_Tk = xx[:,TT-1:TT,kk:kk+1]\n",
    "xx_ref_TT = xx_ref[:,TT-1:TT]\n",
    "cost_temp = cost_function.Terminal_Cost(xx_Tk, xx_ref_TT,params)['cost_T']\n",
    "\n",
    "cost[kk] = cost[kk] + cost_temp[0]\n",
    "\n",
    "print('iteration:', kk )\n",
    "print('cost', cost[kk])\n",
    "print('descent', descent[kk])\n",
    "\n",
    "# LOOP\n",
    "for kk in range(0,max_iterations-1):\n",
    "\n",
    "    KK = np.zeros((nu,nx,TT))\n",
    "    SS = np.zeros((nu,TT)) #Sigma\n",
    "    pp = np.zeros((nx,TT))\n",
    "    PP = np.zeros((nx,nx,TT))\n",
    "    dd = 0\n",
    "    # Computation of the K, p, P, Sigma, and descent\n",
    "    KK,SS,PP,pp,dd = opt.DDP_comp_t_k(kk, xx, uu, xx_ref, uu_ref, TT, params).values()\n",
    "    #gammas = opt.Armijo(kk, xx, uu, xx_init, xx_ref, uu_ref, TT, cost, descent[kk], cc, beta, SS, KK, pp, params)\n",
    "    xx,uu,cost = opt.Trajectory_Update(kk, xx, uu, xx_ref, uu_ref, xx_init, TT, cost, 0.025, SS, KK, pp, params).values()\n",
    "\n",
    "    dd = np.reshape(dd, 1)\n",
    "\n",
    "    print('iteration:', kk )\n",
    "    print('cost', cost[kk])\n",
    "    print('descent', dd)\n",
    "\n",
    "    if np.abs(dd)<STOP_ITER: #STOP CRITERION\n",
    "       Max_Iter = kk\n",
    "       print(\"GG WP\")\n",
    "       break\n",
    "    descent[kk] = dd\n",
    "    Max_Iter = kk\n"
   ],
   "metadata": {
    "pycharm": {
     "name": "#%%\n"
    },
    "id": "Dl3mxosEVaPv",
    "outputId": "67ab1697-de65-4326-9f9f-98fb93841dc8"
   }
  },
  {
   "cell_type": "code",
   "execution_count": null,
   "outputs": [],
   "source": [
    "xx[0,700:29999,:]"
   ],
   "metadata": {
    "collapsed": false,
    "pycharm": {
     "name": "#%%\n"
    }
   }
  },
  {
   "cell_type": "code",
   "execution_count": null,
   "outputs": [],
   "source": [
    "# Plotting the Graph\n",
    "t = range(0,TT)\n",
    "fig0, ax0 = plt_.subplots(figsize=(10, 5))\n",
    "ax0.plot(t, xx_ref[0, :], 'o-', label='xx_ref_0')\n",
    "ax0.plot(t, xx[0, :,Max_Iter], '.-', label='xx_0')\n",
    "plt_.title(\"Ball Reference Position\")\n",
    "plt_.xlabel(\"t\")\n",
    "plt_.ylabel(\"p(t)\")\n",
    "plt_.grid()\n",
    "plt_.show()\n",
    "\n",
    "# Plotting the Graph\n",
    "t = range(0,TT)\n",
    "fig1, ax1 = plt_.subplots(figsize=(10, 5))\n",
    "ax1.plot(t, xx_ref[1, :], 'o-', label='xx_ref_1')\n",
    "ax1.plot(t, xx[1, :,Max_Iter], '.-', label='xx_1')\n",
    "plt_.title(\"Ball Reference Velocity\")\n",
    "plt_.xlabel(\"t\")\n",
    "plt_.ylabel(\"p_dot(t)\")\n",
    "plt_.grid()\n",
    "plt_.show()\n",
    "\n",
    "# Plotting the Graph\n",
    "t = range(0,TT)\n",
    "fig2, ax2 = plt_.subplots(figsize=(10, 5))\n",
    "ax2.plot(t, xx_ref[2, :], 'o-', label='xx_ref_2')\n",
    "ax2.plot(t, xx[2, :,Max_Iter], '.-', label='xx_2')\n",
    "plt_.title(\"Beam Reference Position\")\n",
    "plt_.xlabel(\"t\")\n",
    "plt_.ylabel(\"theta(t)\")\n",
    "plt_.grid()\n",
    "plt_.show()\n",
    "\n",
    "# Plotting the Graph\n",
    "t = range(0,TT)\n",
    "fig3, ax3 = plt_.subplots(figsize=(10, 5))\n",
    "ax3.plot(t, xx_ref[3, :], 'o-', label='xx_ref_3')\n",
    "ax3.plot(t, xx[3, :,Max_Iter], '.-', label='xx_3')\n",
    "plt_.title(\"Beam Reference velocity\")\n",
    "plt_.xlabel(\"t\")\n",
    "plt_.ylabel(\"theta_dot(t)\")\n",
    "plt_.grid()\n",
    "plt_.show()\n",
    "\n",
    "# Plotting the Graph\n",
    "t = range(0,TT)\n",
    "fig, ax = plt_.subplots(figsize=(10, 5))\n",
    "ax.plot(t, uu_ref[0, :], 'o-', label='uu_ref')\n",
    "ax.plot(t, uu[0, :,Max_Iter], '.-', label='uu')\n",
    "plt_.title(\"Input Torque\")\n",
    "plt_.xlabel(\"t\")\n",
    "plt_.ylabel(\"torque(t)\")\n",
    "plt_.grid()\n",
    "plt_.show()"
   ],
   "metadata": {
    "collapsed": false,
    "pycharm": {
     "name": "#%%\n"
    }
   }
  },
  {
   "cell_type": "code",
   "execution_count": null,
   "outputs": [],
   "source": [],
   "metadata": {
    "collapsed": false,
    "pycharm": {
     "name": "#%%\n"
    }
   }
  }
 ]
}