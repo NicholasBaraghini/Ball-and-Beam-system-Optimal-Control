{
  "nbformat": 4,
  "nbformat_minor": 0,
  "metadata": {
    "colab": {
      "name": "OPTCON_Grp21_Ball and Beam Project.ipynb",
      "provenance": [],
      "collapsed_sections": [],
      "authorship_tag": "ABX9TyO/rEG//zzM0PVuTCvI5iWJ",
      "include_colab_link": true
    },
    "kernelspec": {
      "name": "python3",
      "display_name": "Python 3"
    },
    "language_info": {
      "name": "python"
    }
  },
  "cells": [
    {
      "cell_type": "markdown",
      "metadata": {
        "id": "view-in-github",
        "colab_type": "text"
      },
      "source": [
        "<a href=\"https://colab.research.google.com/github/NicholasBaraghini/Ball-and-Beam-system-Optimal-Control/blob/main/OPTCON_Grp21_Ball_and_Beam_Project.ipynb\" target=\"_parent\"><img src=\"https://colab.research.google.com/assets/colab-badge.svg\" alt=\"Open In Colab\"/></a>"
      ]
    },
    {
      "cell_type": "markdown",
      "source": [
        "**OPTIMAL CONTROL EXAM PROJECT**\n",
        "\n",
        " Group 21:\n",
        "   - Baraghini Nicholas 0000984044\n",
        "   - Curto Fabio\n",
        "   - Iadarola Federico"
      ],
      "metadata": {
        "id": "-tfPflu26Rvx"
      }
    },
    {
      "cell_type": "code",
      "execution_count": 7,
      "metadata": {
        "id": "AuKEbT846pKd"
      },
      "outputs": [],
      "source": [
        "# Libraries\n",
        "import numpy as np\n",
        "import matplotlib"
      ]
    },
    {
      "cell_type": "markdown",
      "source": [
        "**SYSTEM DYNAMICS DYNAMICS** (Ball and Beam)"
      ],
      "metadata": {
        "id": "a4eod9CD6oMg"
      }
    },
    {
      "cell_type": "code",
      "source": [
        "# Ball and Beam Dynamics \n",
        "\n",
        "def BB_Dynamics(xx, uu, p_tens, params)\n",
        "  # INPUTS:\n",
        "  #   - xx  : system state at current time t \n",
        "  #   - uu  : input at current time t\n",
        "  #   - p_tens: tensor product term\n",
        "  #   - params: list of parameters\n",
        "\n",
        "  # PARAMETERS EXTRACTION:\n",
        "  dt   = params(1); # Step size - Forward Euler method \n",
        "  gg   = params(2); # gravitational acceleration [m/s^2]\n",
        "  m_bl = params(3); # ball mass [kg]\n",
        "  r_bl = paeams(4); # ball radius [m]\n",
        "  I_bm = params(5); # beam inertia [kg*m^2]\n",
        "  L_bm = params(6); # beam lenght [m]\n",
        "  \n",
        "  nx = 4; # nmumber of states \n",
        "  nu = 1; # number of inputs\n",
        "\n",
        "  # SYSTEM DYNAMICS\n",
        "  xx_next = np.array(np.zeros((nx,1))); # initialization\n",
        "  \n",
        "  xx_dot = np.array([xx[2], \n",
        "                     ( m_bl*xx[1]*(xx[4]**2) - m_bl*gg*np.sin(xx[3]) )/( m_bl + I_bm/(r_bl**2) ),\n",
        "                     xx[4],\n",
        "                     -( 2*m_bl*xx[1]*xx[2]*xx[4] + m_bl*xx[1]*np.cos(xx[3]) - uu )/( I_bm + m_bl*(xx[1]**2) ) ]);\n",
        "\n",
        "  \n",
        "  xx_next[1] = xx[1] + xx_dot[1]*dt\n",
        "  xx_next[2] = xx[2] + xx_dot[2]*dt\n",
        "  xx_next[3] = xx[3] + xx_dot[3]*dt\n",
        "  xx_next[4] = xx[2] + xx_dot[4]*dt\n",
        "\n",
        "\n",
        "\n",
        "\n",
        "\n",
        "  # OUTPUTS: (the fucnction returns an output structure with the follows entries)\n",
        "  #   - xx_next : system state at state (t+1)\n",
        "  #   - fx     : gradient of the system dynamics w.r.t. the system state at time t\n",
        "  #   - fu     : gradient of the system dynamics w.r.t. the input at time t\n",
        "  #   - pfxx   : tensor product\n",
        "  #   - pfux   : tensor product\n",
        "\n"
      ],
      "metadata": {
        "id": "OETOyRMN7Fte",
        "colab": {
          "base_uri": "https://localhost:8080/",
          "height": 136
        },
        "outputId": "b90bb364-fa6b-487e-90c0-89645193af2a"
      },
      "execution_count": 9,
      "outputs": [
        {
          "output_type": "error",
          "ename": "SyntaxError",
          "evalue": "ignored",
          "traceback": [
            "\u001b[0;36m  File \u001b[0;32m\"<ipython-input-9-2f7a9fbbde73>\"\u001b[0;36m, line \u001b[0;32m3\u001b[0m\n\u001b[0;31m    def BB_Dynamics(xs, u_in, p_tens, params)\u001b[0m\n\u001b[0m                                             ^\u001b[0m\n\u001b[0;31mSyntaxError\u001b[0m\u001b[0;31m:\u001b[0m invalid syntax\n"
          ]
        }
      ]
    },
    {
      "cell_type": "code",
      "source": [
        ""
      ],
      "metadata": {
        "id": "Q4patJIHxOkH"
      },
      "execution_count": null,
      "outputs": []
    }
  ]
}