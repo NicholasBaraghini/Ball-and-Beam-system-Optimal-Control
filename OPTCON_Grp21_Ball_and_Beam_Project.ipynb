{
  "nbformat": 4,
  "nbformat_minor": 0,
  "metadata": {
    "colab": {
      "name": "OPTCON_Grp21_Ball and Beam Project.ipynb",
      "provenance": [],
      "collapsed_sections": [],
      "authorship_tag": "ABX9TyM/gO5Z1+4SWdrfCyUZOzqn",
      "include_colab_link": true
    },
    "kernelspec": {
      "name": "python3",
      "display_name": "Python 3"
    },
    "language_info": {
      "name": "python"
    }
  },
  "cells": [
    {
      "cell_type": "markdown",
      "metadata": {
        "id": "view-in-github",
        "colab_type": "text"
      },
      "source": [
        "<a href=\"https://colab.research.google.com/github/NicholasBaraghini/Ball-and-Beam-system-Optimal-Control/blob/main/OPTCON_Grp21_Ball_and_Beam_Project.ipynb\" target=\"_parent\"><img src=\"https://colab.research.google.com/assets/colab-badge.svg\" alt=\"Open In Colab\"/></a>"
      ]
    },
    {
      "cell_type": "markdown",
      "source": [
        "**OPTIMAL CONTROL EXAM PROJECT**\n",
        "\n",
        " Group 21:\n",
        "   - Baraghini Nicholas 0000984044\n",
        "   - Curto Fabio\n",
        "   - Iadarola Federico"
      ],
      "metadata": {
        "id": "-tfPflu26Rvx"
      }
    },
    {
      "cell_type": "code",
      "execution_count": 3,
      "metadata": {
        "id": "AuKEbT846pKd"
      },
      "outputs": [],
      "source": [
        "# Libraries\n",
        "import numpy as np\n",
        "import matplotlib"
      ]
    },
    {
      "cell_type": "markdown",
      "source": [
        "**SYSTEM DYNAMICS DYNAMICS** (Ball and Beam)"
      ],
      "metadata": {
        "id": "a4eod9CD6oMg"
      }
    },
    {
      "cell_type": "code",
      "source": [
        "# Ball and Beam Dynamics \n",
        "\n",
        "def BB_Dynamics(xx, uu, p_tens, params):\n",
        "  # INPUTs:\n",
        "  #   - xx  : system state at current time t \n",
        "  #   - uu  : input at current time t\n",
        "  #   - p_tens: tensor product term\n",
        "  #   - params: list of parameters\n",
        "\n",
        "  # PARAMETERs EXTRACTION:\n",
        "  dt   = params[0]; # Step size - Forward Euler method \n",
        "  gg   = params[1]; # gravitational acceleration [m/s^2]\n",
        "  mm = params[2]; # ball mass [kg]\n",
        "  rr = params[3]; # ball radius [m]\n",
        "  II = params[4]; # beam inertia [kg*m^2]\n",
        "  LL = params[5]; # beam lenght [m]\n",
        "  \n",
        "  # USEFUL VARIABLEs\n",
        "  nx = 4; # nmumber of states \n",
        "  nu = 1; # number of inputs\n",
        "\n",
        "\n",
        "  # SYSTEM DYNAMICS\n",
        "  xx_next = np.array(np.zeros((nx,1))); # initialization\n",
        "  \n",
        "  xx_dot = np.array([[xx[1], \n",
        "                     ( mm*xx[0]*(xx[3]**2) - mm*gg*np.sin(xx[2]) )/( mm + II/(rr**2) ),\n",
        "                     xx[3],\n",
        "                     -( 2*mm*xx[0]*xx[1]*xx[3] + mm*xx[0]*np.cos(xx[2]) - uu )/d22  ]]);\n",
        "\n",
        "  xx_next[0] = xx[0] + xx_dot[0]*dt\n",
        "  xx_next[1] = xx[1] + xx_dot[1]*dt\n",
        "  xx_next[2] = xx[2] + xx_dot[2]*dt\n",
        "  xx_next[3] = xx[3] + xx_dot[3]*dt\n",
        "\n",
        "\n",
        "  # GRADIENTs\n",
        "\n",
        "  # useful notations\n",
        "  d1  = ( mm + II/(rr**2) )**(-1);\n",
        "  d2  = ( II + mm*(xx[0]**2))**(-1);\n",
        "  d22 = ( II + mm*(xx[0]**2));\n",
        "  \n",
        "\n",
        "  fx1_4_num = ( -( 2*mm*xx[1]*xx[3] + mm*gg*np.cos(xx[2]) )*d22 \n",
        "                +( 2*mm*xx[0]*xx[1]*xx[3] + mm*gg*xx[0]*np.cos(xx[2]) - uu )*(2*mm*xx[0]) );\n",
        "  fx1_4_den = d22**(2); \n",
        "\n",
        "  # partial derivative w.r.t. xx[1]:\n",
        "  fx1 = np.array([[1, \n",
        "                  dt * ( mm*(xx[3]**2)*d1 ),\n",
        "                  0,\n",
        "                  dt * (fx1_4_num / fx1_4_den) ]]); \n",
        "\n",
        "  # partial derivative w.r.t. xx[2]:\n",
        "  fx2 = np.array([[dt,\n",
        "                  1,\n",
        "                  0,\n",
        "                  dt * ( -2*mm*xx[0]*xx[3]*d2 )]]);\n",
        "      \n",
        "  # partial derivative w.r.t. xx[3]:\n",
        "  fx3 = np.array([[0,\n",
        "                  dt * ( -mm*gg*np.cos(xx[2])*d1 ),\n",
        "                  1,\n",
        "                  dt * ( mm*gg*xx[0]*np.sin(xx[2])*d2 ) ]]);\n",
        "  \n",
        "  # partial derivative w.r.t. xx[4]:\n",
        "  fx4 = np.array([[0,\n",
        "                  dt * ( 2*xx[0]*xx[3]*d1 ),\n",
        "                  dt,\n",
        "                  1 - dt * ( 2*mm*xx[0]*xx[1]*d2 )]]);\n",
        "  \n",
        "  # Jacobian of the system dynamics:\n",
        "  fx = np.concatenate((fx1.T,fx2.T,fx3.T,fx4.T), axis=1);\n",
        "\n",
        "  # partial derivative w.r.t. the input:\n",
        "  fu = np.array([[0,\n",
        "                  0,\n",
        "                  0,\n",
        "                  dt*d2]]);\n",
        "\n",
        "\n",
        "  # SECOND ORDER GRADIENTs\n",
        "  pfxx = np.array(np.zeros((nx,nx)));\n",
        "  pfux = np.array(np.zeros((nu,nx)));\n",
        "  pfuu = np.array(np.zeros((nu,nu)));\n",
        "  \n",
        "  # useful notations\n",
        "  fx1x1_4_num   = (2*mm*( 2*mm*xx[0]*xx[1]*xx[3] + mm*gg*np.cos(xx[3]) - uu )*fx1_4_den)-(fx1_4_num *(4*d22*mm*xx[0]));\n",
        "  fx1x1_4_den = d22**(4);\n",
        "  \n",
        "\n",
        "  # 1st row of the second derivative matrix nx*nx\n",
        "  pfxx[0,0] = pp[3] * (( -2*mm*xx[3]*d22 + 4*xx[3]*(mm*xx[0])**2 ) / fx1_4_den) * dt;\n",
        "  pfxx[0,1] = pp[3] * (( mm*gg*np.sin(xx[2])*d22 - 2*gg*np.sin(xx[2])*(mm*xx[0])**2)  / fx1_4_den) * dt;\n",
        "  pfxx[0,2] = pp[3] * (( -2*mm*xx[1]*d22 + 4*xx[1]*(mm*xx[0])**2) / fx1_4_den) * dt;\n",
        "  pfxx[0,3] = ( pp[1] * d1* (2*mm*xx[3]) * dt +\n",
        "                pp[3] * (fx1x1_4_num  / fx1x1_4_den) * dt );\n",
        "  \n",
        "  # 2nd row of the second derivative matrix nx*nx\n",
        "  pfxx[1,0] = pp[3] * (-2*mm*xx[3]*d2) * dt;\n",
        "  pfxx[1,1] = 0;\n",
        "  pfxx[1,2] = 0;\n",
        "  pfxx[1,3] = pp[3] * (-2*mm*xx[0]*d2) * dt;\n",
        "\n",
        "  # 3rd row of the second derivative matrix nx*nx\n",
        "  pfxx[2,0] = pp[3] * (mm*gg*np.cos(xx[2])*d2) * dt;\n",
        "  pfxx[2,1] = 0;\n",
        "  pfxx[2,2] =( pp[1] * (mm*gg*np.sin(xx[2])*d1) * dt +\n",
        "               pp[3] * (-mm*gg*xx[0]*np.sin(xx[2])*d2) * dt );\n",
        "  pfxx[2,3] = 0;\n",
        "\n",
        "  # 4th row of the second derivative matrix nx*nx\n",
        "  pfxx[3,0] =( pp[1] * (2*mm*xx[3]*d1) * dt +\n",
        "               pp[3] * (-2*mm*xx[1]*d2) * dt );\n",
        "  pfxx[3,1] = pp[3] * (-2*mm*xx[0]*d2) * dt;\n",
        "  pfxx[3,2] = 0;\n",
        "  pfxx[3,3] = pp[1] * (2*mm*xx[0]*d1) * dt;\n",
        "\n",
        "  # pfuu has all null elements\n",
        "\n",
        "  # pfux has only one non-null element\n",
        "  pfux[3,1] = pp[3] * (2*mm*x[0]*(d2**2)) * dt;\n",
        "\n",
        "\n",
        "  # OUTPUTs: (the fucnction returns an output dictionary with the follows entries)\n",
        "  #   - xx_next : system state at state (t+1)\n",
        "  #   - fx     : gradient of the system dynamics w.r.t. the system state at time t\n",
        "  #   - fu     : gradient of the system dynamics w.r.t. the input at time t\n",
        "  #   - pfxx   : tensor product within the dynamics function seconnd order derivative w.r.t. the state, given vector pp\n",
        "  #   - pfux   : tensor product within the dynamics function seconnd order derivative w.r.t. input and state, given vector pp \n",
        "  #   - pfuu   : tensor product within the dynamics function seconnd order derivative w.r.t. input, given vector pp \n",
        "  out = {\n",
        "         'xx_next':xx_next,\n",
        "         'fx':fx,\n",
        "         'fu':fu,\n",
        "         'pfxx':pfxx,\n",
        "         'pfux':pfux,\n",
        "         'pfuu':pfuu \n",
        "        }\n",
        "\n",
        "  return out;"
      ],
      "metadata": {
        "id": "OETOyRMN7Fte"
      },
      "execution_count": 21,
      "outputs": []
    },
    {
      "cell_type": "code",
      "source": [
        ""
      ],
      "metadata": {
        "colab": {
          "base_uri": "https://localhost:8080/"
        },
        "id": "kpZtx_APEJ1f",
        "outputId": "f725c6b8-782a-4e48-c2c4-d302d7b5f4ac"
      },
      "execution_count": 20,
      "outputs": [
        {
          "output_type": "stream",
          "name": "stdout",
          "text": [
            "True\n"
          ]
        }
      ]
    }
  ]
}