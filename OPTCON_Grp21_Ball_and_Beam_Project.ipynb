{
 "nbformat": 4,
 "nbformat_minor": 0,
 "metadata": {
  "colab": {
   "name": "OPTCON_Grp21_Ball and Beam Project.ipynb",
   "provenance": [],
   "collapsed_sections": [],
   "include_colab_link": true
  },
  "kernelspec": {
   "name": "python3",
   "display_name": "Python 3"
  },
  "language_info": {
   "name": "python"
  }
 },
 "cells": [
  {
   "cell_type": "markdown",
   "metadata": {
    "id": "view-in-github",
    "colab_type": "text"
   },
   "source": [
    "<a href=\"https://colab.research.google.com/github/NicholasBaraghini/Ball-and-Beam-system-Optimal-Control/blob/main/OPTCON_Grp21_Ball_and_Beam_Project.ipynb\" target=\"_parent\"><img src=\"https://colab.research.google.com/assets/colab-badge.svg\" alt=\"Open In Colab\"/></a>"
   ]
  },
  {
   "cell_type": "markdown",
   "source": [
    "**OPTIMAL CONTROL EXAM PROJECT**\n",
    "\n",
    " Group 21:\n",
    "   - Baraghini Nicholas 0000984041 \n",
    "   - Curto Fabio\n",
    "   - Iadarola Federico"
   ],
   "metadata": {
    "id": "-tfPflu26Rvx"
   }
  },
  {
   "cell_type": "code",
   "execution_count": 1,
   "metadata": {
    "id": "AuKEbT846pKd"
   },
   "outputs": [],
   "source": [
    "# Libraries\n",
    "import numpy as np\n",
    "import matplotlib\n",
    "\n",
    "import system_dynamic as sd\n",
    "import optcon as opt\n",
    "import cost_function"
   ]
  },
  {
   "cell_type": "markdown",
   "source": [],
   "metadata": {
    "collapsed": false
   }
  },
  {
   "cell_type": "markdown",
   "source": [
    "**TRAJECTORY EXPLORATION** (Task 1)"
   ],
   "metadata": {
    "id": "MCfkicYm15uQ"
   }
  },
  {
   "cell_type": "code",
   "source": [
    "# PARAMETERS SETTING\n",
    "\n",
    "max_iterations = 200;\n",
    "STOP_ITER = 1E-6; #Stop Iteration descent threshold\n",
    "\n",
    "cc = 0.1\n",
    "beta = 0.5\n",
    "\n",
    "nx = 4; # nmumber of states\n",
    "nu = 1; # number of inputs\n",
    "tf = 50; # Seconds\n",
    "\n",
    "params = {'dt':0.001,   # Step size - Forward Euler method\n",
    "          'gg':9.81,    # gravitational acceleration [m/s^2]\n",
    "          'mm':0.12,    # ball mass [kg]\n",
    "          'rr':0.015,   # ball radius [m]\n",
    "          'ii':11.6E-6, # ball inertia [kg*m^2]\n",
    "          'II':0.1125,  # beam inertia [kg*m^2]\n",
    "          'LL':1,        # beam lenght [m]\n",
    "          'QQ':np.array([[100, 0, 0 , 0],\n",
    "                              [ 0 ,10, 0 , 0],\n",
    "                              [ 0 , 0,100, 0],\n",
    "                              [ 0 , 0, 0 ,10]]),\n",
    "          'RR':1,\n",
    "          'QQ_T':np.array([[100, 0, 0 , 0],\n",
    "                                [ 0 ,10, 0 , 0],\n",
    "                                [ 0 , 0,100, 0],\n",
    "                                [ 0 , 0, 0 ,10]])\n",
    "              }\n",
    "\n",
    "TT = int(tf/params['dt']); # rounding down of the time span divided in time in number oof time intervals\n",
    "\n",
    "xx_init = np.zeros((nx,1)); # initial state\n"
   ],
   "metadata": {
    "id": "CJYzDXzC2RrC"
   },
   "execution_count": 2,
   "outputs": []
  },
  {
   "cell_type": "markdown",
   "source": [
    "**Reference Definition** \\\n",
    "Step reference change between two equilibria "
   ],
   "metadata": {
    "id": "N9uWhNOM1tCB"
   }
  },
  {
   "cell_type": "code",
   "source": [
    "\n",
    "# REFERENCE DEFINITION\n",
    "ref_pos = 0.8; # ball reference position on the beam [m]\n",
    "ref_inp = params['mm']*params['gg']*ref_pos; # input reference torque at reference pos ref_pos\n",
    "\n",
    "# state reference definition:\n",
    "xx_ref = np.zeros((nx,TT));\n",
    "xx_ref[0,round(TT/2):TT] = ref_pos;\n",
    "\n",
    "# input reference definition\n",
    "uu_ref = np.zeros((nu,TT));\n",
    "uu_ref[0,round(TT/2):TT] = ref_inp;\n",
    "xx = np.zeros((nx,TT,max_iterations)); # state tensor uu = np.zeros((nu,TT,max_iterations)); # input tensor\n",
    "\n",
    "cost = np.zeros((max_iterations,1)); # cost function values memory descent = np.zeros((max_iterations,1));"
   ],
   "metadata": {
    "id": "8QOtAIm6tkUA"
   },
   "execution_count": 3,
   "outputs": []
  },
  {
   "cell_type": "markdown",
   "source": [
    "xx = np.zeros((nx,TT,max_iterations)); # state tensor\n",
    "uu = np.zeros((nu,TT,max_iterations)); # input tensor\n",
    "\n",
    "JJ      = np.zeros((max_iterations,1)); # cost function values memory\n",
    "descent = np.zeros((max_iterations,1)); \n",
    "\n",
    "**OPTIMIZATION LOOP**"
   ],
   "metadata": {
    "id": "xVkWD_vKP1-Y"
   }
  },
  {
   "cell_type": "code",
   "execution_count": 4,
   "outputs": [
    {
     "name": "stdout",
     "output_type": "stream",
     "text": [
      "[[0.]\n",
      " [0.]\n",
      " [0.]\n",
      " [0.]]\n"
     ]
    },
    {
     "name": "stderr",
     "output_type": "stream",
     "text": [
      "C:\\Users\\Baraghini\\PycharmProjects\\Ball-and-Beam-system-Optimal-Control\\system_dynamic.py:54: VisibleDeprecationWarning: Creating an ndarray from ragged nested sequences (which is a list-or-tuple of lists-or-tuples-or ndarrays with different lengths or shapes) is deprecated. If you meant to do this, you must specify 'dtype=object' when creating the ndarray\n",
      "  xx_dot = np.array([[xx[1],\n"
     ]
    },
    {
     "ename": "IndexError",
     "evalue": "index 1 is out of bounds for axis 0 with size 1",
     "output_type": "error",
     "traceback": [
      "\u001B[1;31m---------------------------------------------------------------------------\u001B[0m",
      "\u001B[1;31mIndexError\u001B[0m                                Traceback (most recent call last)",
      "\u001B[1;32m<ipython-input-4-3ea11d2ac6a0>\u001B[0m in \u001B[0;36m<module>\u001B[1;34m\u001B[0m\n\u001B[0;32m     41\u001B[0m \u001B[1;33m\u001B[0m\u001B[0m\n\u001B[0;32m     42\u001B[0m     \u001B[1;31m# Computation of the K, p, P, Sigma, and descent  [SEQUENZA GIUSTA, DA AGGIUSTARE il COME SI USANO]\u001B[0m\u001B[1;33m\u001B[0m\u001B[1;33m\u001B[0m\u001B[1;33m\u001B[0m\u001B[0m\n\u001B[1;32m---> 43\u001B[1;33m     \u001B[0mKK\u001B[0m\u001B[1;33m,\u001B[0m\u001B[0mSS\u001B[0m\u001B[1;33m,\u001B[0m\u001B[0mPP\u001B[0m\u001B[1;33m,\u001B[0m\u001B[0mpp\u001B[0m\u001B[1;33m,\u001B[0m\u001B[0mdescent\u001B[0m\u001B[1;33m[\u001B[0m\u001B[0mkk\u001B[0m\u001B[1;33m]\u001B[0m \u001B[1;33m=\u001B[0m \u001B[0mopt\u001B[0m\u001B[1;33m.\u001B[0m\u001B[0mDDP_comp_t_k\u001B[0m\u001B[1;33m(\u001B[0m\u001B[0mkk\u001B[0m\u001B[1;33m,\u001B[0m \u001B[0mxx\u001B[0m\u001B[1;33m,\u001B[0m \u001B[0muu\u001B[0m\u001B[1;33m,\u001B[0m \u001B[0mxx_ref\u001B[0m\u001B[1;33m,\u001B[0m \u001B[0muu_ref\u001B[0m\u001B[1;33m,\u001B[0m \u001B[0mdescent\u001B[0m\u001B[1;33m[\u001B[0m\u001B[0mkk\u001B[0m\u001B[1;33m]\u001B[0m\u001B[1;33m,\u001B[0m \u001B[0mTT\u001B[0m\u001B[1;33m,\u001B[0m \u001B[0mparams\u001B[0m\u001B[1;33m)\u001B[0m\u001B[1;33m.\u001B[0m\u001B[0mvalues\u001B[0m\u001B[1;33m(\u001B[0m\u001B[1;33m)\u001B[0m\u001B[1;33m\u001B[0m\u001B[1;33m\u001B[0m\u001B[0m\n\u001B[0m\u001B[0;32m     44\u001B[0m     \u001B[0mgammas\u001B[0m \u001B[1;33m=\u001B[0m \u001B[0mopt\u001B[0m\u001B[1;33m.\u001B[0m\u001B[0mArmijo\u001B[0m\u001B[1;33m(\u001B[0m\u001B[0mkk\u001B[0m\u001B[1;33m,\u001B[0m \u001B[0mxx\u001B[0m\u001B[1;33m,\u001B[0m \u001B[0muu\u001B[0m\u001B[1;33m,\u001B[0m \u001B[0mxx_init\u001B[0m\u001B[1;33m,\u001B[0m \u001B[0mxx_ref\u001B[0m\u001B[1;33m,\u001B[0m \u001B[0muu_ref\u001B[0m\u001B[1;33m,\u001B[0m \u001B[0mTT\u001B[0m\u001B[1;33m,\u001B[0m \u001B[0mcost\u001B[0m\u001B[1;33m,\u001B[0m \u001B[0mcc\u001B[0m\u001B[1;33m,\u001B[0m \u001B[0mbeta\u001B[0m\u001B[1;33m,\u001B[0m \u001B[0mSS\u001B[0m\u001B[1;33m,\u001B[0m \u001B[0mKK\u001B[0m\u001B[1;33m,\u001B[0m \u001B[0mpp\u001B[0m\u001B[1;33m,\u001B[0m \u001B[0mparams\u001B[0m\u001B[1;33m)\u001B[0m\u001B[1;33m\u001B[0m\u001B[1;33m\u001B[0m\u001B[0m\n\u001B[0;32m     45\u001B[0m     \u001B[0mxx\u001B[0m\u001B[1;33m,\u001B[0m\u001B[0muu\u001B[0m\u001B[1;33m,\u001B[0m\u001B[0mcost\u001B[0m \u001B[1;33m=\u001B[0m \u001B[0mopt\u001B[0m\u001B[1;33m.\u001B[0m\u001B[0mTrajectory_Update\u001B[0m\u001B[1;33m(\u001B[0m\u001B[0mkk\u001B[0m\u001B[1;33m,\u001B[0m \u001B[0mxx\u001B[0m\u001B[1;33m,\u001B[0m \u001B[0muu\u001B[0m\u001B[1;33m,\u001B[0m \u001B[0mxx_ref\u001B[0m\u001B[1;33m,\u001B[0m \u001B[0muu_ref\u001B[0m\u001B[1;33m,\u001B[0m \u001B[0mxx_init\u001B[0m\u001B[1;33m,\u001B[0m \u001B[0mTT\u001B[0m\u001B[1;33m,\u001B[0m \u001B[0mcost\u001B[0m\u001B[1;33m[\u001B[0m\u001B[0mkk\u001B[0m\u001B[1;33m]\u001B[0m\u001B[1;33m,\u001B[0m \u001B[0mgammas\u001B[0m\u001B[1;33m[\u001B[0m\u001B[1;33m-\u001B[0m\u001B[1;36m1\u001B[0m\u001B[1;33m]\u001B[0m\u001B[1;33m,\u001B[0m \u001B[0mSS\u001B[0m\u001B[1;33m,\u001B[0m \u001B[0mKK\u001B[0m\u001B[1;33m,\u001B[0m \u001B[0mpp\u001B[0m\u001B[1;33m,\u001B[0m \u001B[0mparams\u001B[0m\u001B[1;33m)\u001B[0m\u001B[1;33m.\u001B[0m\u001B[0mvalues\u001B[0m\u001B[1;33m(\u001B[0m\u001B[1;33m)\u001B[0m\u001B[1;33m\u001B[0m\u001B[1;33m\u001B[0m\u001B[0m\n",
      "\u001B[1;32m~\\PycharmProjects\\Ball-and-Beam-system-Optimal-Control\\optcon.py\u001B[0m in \u001B[0;36mDDP_comp_t_k\u001B[1;34m(kk, xx, uu, xx_ref, uu_ref, descent, TT, params)\u001B[0m\n\u001B[0;32m     41\u001B[0m \u001B[1;33m\u001B[0m\u001B[0m\n\u001B[0;32m     42\u001B[0m         \u001B[1;31m# System dymanics ar time t k-th iteration\u001B[0m\u001B[1;33m\u001B[0m\u001B[1;33m\u001B[0m\u001B[1;33m\u001B[0m\u001B[0m\n\u001B[1;32m---> 43\u001B[1;33m         \u001B[0mdyn\u001B[0m \u001B[1;33m=\u001B[0m \u001B[0msd\u001B[0m\u001B[1;33m.\u001B[0m\u001B[0mBB_Dynamics\u001B[0m\u001B[1;33m(\u001B[0m\u001B[0mxx_tk\u001B[0m\u001B[1;33m,\u001B[0m \u001B[0muu_tk\u001B[0m\u001B[1;33m,\u001B[0m \u001B[0mpp_next\u001B[0m\u001B[1;33m,\u001B[0m \u001B[0mparams\u001B[0m\u001B[1;33m)\u001B[0m\u001B[1;33m\u001B[0m\u001B[1;33m\u001B[0m\u001B[0m\n\u001B[0m\u001B[0;32m     44\u001B[0m         \u001B[1;31m# stage cost at time t k-th iteration\u001B[0m\u001B[1;33m\u001B[0m\u001B[1;33m\u001B[0m\u001B[1;33m\u001B[0m\u001B[0m\n\u001B[0;32m     45\u001B[0m         \u001B[0mstC\u001B[0m \u001B[1;33m=\u001B[0m \u001B[0mcost_function\u001B[0m\u001B[1;33m.\u001B[0m\u001B[0mStage_Cost\u001B[0m\u001B[1;33m(\u001B[0m\u001B[0mxx_tk\u001B[0m\u001B[1;33m,\u001B[0m \u001B[0muu_tk\u001B[0m\u001B[1;33m,\u001B[0m \u001B[0mxx_ref_tt\u001B[0m\u001B[1;33m,\u001B[0m \u001B[0muu_ref_tt\u001B[0m\u001B[1;33m,\u001B[0m \u001B[0mparams\u001B[0m\u001B[1;33m)\u001B[0m\u001B[1;33m\u001B[0m\u001B[1;33m\u001B[0m\u001B[0m\n",
      "\u001B[1;32m~\\PycharmProjects\\Ball-and-Beam-system-Optimal-Control\\system_dynamic.py\u001B[0m in \u001B[0;36mBB_Dynamics\u001B[1;34m(xx, uu, p_tens, params)\u001B[0m\n\u001B[0;32m     58\u001B[0m \u001B[1;33m\u001B[0m\u001B[0m\n\u001B[0;32m     59\u001B[0m     \u001B[0mxx_next_0\u001B[0m \u001B[1;33m=\u001B[0m \u001B[0mxx\u001B[0m\u001B[1;33m[\u001B[0m\u001B[1;36m0\u001B[0m\u001B[1;33m]\u001B[0m \u001B[1;33m+\u001B[0m \u001B[0mxx_dot\u001B[0m\u001B[1;33m[\u001B[0m\u001B[1;36m0\u001B[0m\u001B[1;33m]\u001B[0m \u001B[1;33m*\u001B[0m \u001B[0mdt\u001B[0m\u001B[1;33m;\u001B[0m\u001B[1;33m\u001B[0m\u001B[1;33m\u001B[0m\u001B[0m\n\u001B[1;32m---> 60\u001B[1;33m     \u001B[0mxx_next_1\u001B[0m \u001B[1;33m=\u001B[0m \u001B[0mxx\u001B[0m\u001B[1;33m[\u001B[0m\u001B[1;36m1\u001B[0m\u001B[1;33m]\u001B[0m \u001B[1;33m+\u001B[0m \u001B[0mxx_dot\u001B[0m\u001B[1;33m[\u001B[0m\u001B[1;36m1\u001B[0m\u001B[1;33m]\u001B[0m \u001B[1;33m*\u001B[0m \u001B[0mdt\u001B[0m\u001B[1;33m;\u001B[0m\u001B[1;33m\u001B[0m\u001B[1;33m\u001B[0m\u001B[0m\n\u001B[0m\u001B[0;32m     61\u001B[0m     \u001B[0mxx_next_2\u001B[0m \u001B[1;33m=\u001B[0m \u001B[0mxx\u001B[0m\u001B[1;33m[\u001B[0m\u001B[1;36m2\u001B[0m\u001B[1;33m]\u001B[0m \u001B[1;33m+\u001B[0m \u001B[0mxx_dot\u001B[0m\u001B[1;33m[\u001B[0m\u001B[1;36m2\u001B[0m\u001B[1;33m]\u001B[0m \u001B[1;33m*\u001B[0m \u001B[0mdt\u001B[0m\u001B[1;33m;\u001B[0m\u001B[1;33m\u001B[0m\u001B[1;33m\u001B[0m\u001B[0m\n\u001B[0;32m     62\u001B[0m     \u001B[0mxx_next_3\u001B[0m \u001B[1;33m=\u001B[0m \u001B[0mxx\u001B[0m\u001B[1;33m[\u001B[0m\u001B[1;36m3\u001B[0m\u001B[1;33m]\u001B[0m \u001B[1;33m+\u001B[0m \u001B[0mxx_dot\u001B[0m\u001B[1;33m[\u001B[0m\u001B[1;36m3\u001B[0m\u001B[1;33m]\u001B[0m \u001B[1;33m*\u001B[0m \u001B[0mdt\u001B[0m\u001B[1;33m;\u001B[0m\u001B[1;33m\u001B[0m\u001B[1;33m\u001B[0m\u001B[0m\n",
      "\u001B[1;31mIndexError\u001B[0m: index 1 is out of bounds for axis 0 with size 1"
     ]
    }
   ],
   "source": [
    "## ITERATION LOOP\n",
    "\n",
    "# Initializations\n",
    "xx = np.zeros((nx,TT,max_iterations)); # state tensor\n",
    "uu = np.zeros((nu,TT,max_iterations)); # input tensor\n",
    "\n",
    "cost = np.zeros((max_iterations,1)); # cost function values memory\n",
    "\n",
    "descent = np.zeros((max_iterations,1)); # descent vector\n",
    "\n",
    "#initialize trajectory\n",
    "kk = 0\n",
    "for tt in range(0,TT):\n",
    "\n",
    "    uu_tk = np.array([uu[:,tt,kk]]).T\n",
    "    uu_ref_tt = np.array([uu_ref[:,tt]]).T\n",
    "\n",
    "    xx_tk = np.array([xx[:,tt,kk]]).T\n",
    "    xx_ref_tt = np.array([xx_ref[:,tt]]).T\n",
    "\n",
    " #   cost_temp = cost_function.Stage_Cost(xx_tk, uu_tk, xx_ref_tt, uu_ref_tt, params)\n",
    "\n",
    "    cost[kk] = cost[kk] #+ cost_temp\n",
    "\n",
    "xx_Tk = np.array(xx[:,TT-1,kk]).T\n",
    "xx_ref_TT = np.array(xx_ref[:,TT-1]).T\n",
    "#cost_temp = cost_function.Terminal_Cost(xx_tk, xx_ref_TT,params)['cost_T']\n",
    "\n",
    "descent = np.zeros((max_iterations,1))\n",
    "\n",
    "# LOOP\n",
    "for kk in range(0,max_iterations):\n",
    "    KK = np.zeros((nu,nx,TT));\n",
    "    SS = np.zeros((nu,TT));#Sigma\n",
    "    pp = np.zeros((nx,TT));\n",
    "    PP = np.zeros((nx,nx,TT));\n",
    "\n",
    "    #già contenuti in DDP_comp\n",
    "    #pp[:,TT] = Terminal_Cost(xx[:,TT,kk], xx_ref[:,TT],params)['Dlx']\n",
    "    #PP[:,TT] = Terminal_Cost(xx[:,TT,kk], xx_ref[:,TT],params)['Dlxx']\n",
    "\n",
    "    # Computation of the K, p, P, Sigma, and descent  [SEQUENZA GIUSTA, DA AGGIUSTARE il COME SI USANO]\n",
    "    KK,SS,PP,pp,descent[kk] = opt.DDP_comp_t_k(kk, xx, uu, xx_ref, uu_ref, descent[kk], TT, params).values()\n",
    "    gammas = opt.Armijo(kk, xx, uu, xx_init, xx_ref, uu_ref, TT, cost, cc, beta, SS, KK, pp, params)\n",
    "    xx,uu,cost = opt.Trajectory_Update(kk, xx, uu, xx_ref, uu_ref, xx_init, TT, cost[kk], gammas[-1], SS, KK, pp, params).values()\n",
    "\n",
    "    print('iteration:', kk )\n",
    "    print('cost', cost(kk))\n",
    "    print('descent', descent(kk))\n",
    "\n",
    "    if ( np.abs(descent(kk))<STOP_ITER ): #STOP CRITERION\n",
    "       Max_Iter = kk;\n",
    "       print(\"GG WP\")\n",
    "       break;\n"
   ],
   "metadata": {
    "collapsed": false,
    "pycharm": {
     "name": "#%%\n"
    }
   }
  },
  {
   "cell_type": "markdown",
   "source": [
    "**TRAJECTORY OPTIMIZATION** (Task 2)"
   ],
   "metadata": {
    "id": "d2fbcGzp2QZQ"
   }
  },
  {
   "cell_type": "code",
   "source": [
    "a = np.zeros((3,1))\n",
    "print(a[1])\n",
    "\n",
    "B = np.array([[1,1,1],[2,2,2],[3,3,3]])\n",
    "z = np.array([B[:,0]]).T\n",
    "print(z)\n",
    "print(z[1])\n",
    "d = sd.dot3(a.T,B,a)\n",
    "print(d)"
   ],
   "metadata": {
    "id": "bY2qHqOhh_5p"
   },
   "execution_count": null,
   "outputs": []
  },
  {
   "cell_type": "markdown",
   "source": [
    "**TRAJECTORY TRACKING** (Task 3)"
   ],
   "metadata": {
    "id": "7U8VKRix2jmu",
    "pycharm": {
     "name": "#%% md\n"
    }
   }
  },
  {
   "cell_type": "code",
   "execution_count": null,
   "outputs": [],
   "source": [],
   "metadata": {
    "collapsed": false,
    "pycharm": {
     "name": "#%%\n"
    }
   }
  },
  {
   "cell_type": "code",
   "execution_count": null,
   "outputs": [],
   "source": [],
   "metadata": {
    "collapsed": false,
    "pycharm": {
     "name": "#%%\n"
    }
   }
  }
 ]
}