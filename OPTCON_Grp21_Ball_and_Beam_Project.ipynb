{
  "nbformat": 4,
  "nbformat_minor": 0,
  "metadata": {
    "colab": {
      "name": "OPTCON_Grp21_Ball and Beam Project.ipynb",
      "provenance": [],
      "collapsed_sections": [],
      "include_colab_link": true
    },
    "kernelspec": {
      "name": "python3",
      "display_name": "Python 3"
    },
    "language_info": {
      "name": "python"
    }
  },
  "cells": [
    {
      "cell_type": "markdown",
      "metadata": {
        "id": "view-in-github",
        "colab_type": "text"
      },
      "source": [
        "<a href=\"https://colab.research.google.com/github/NicholasBaraghini/Ball-and-Beam-system-Optimal-Control/blob/main/OPTCON_Grp21_Ball_and_Beam_Project.ipynb\" target=\"_parent\"><img src=\"https://colab.research.google.com/assets/colab-badge.svg\" alt=\"Open In Colab\"/></a>"
      ]
    },
    {
      "cell_type": "markdown",
      "source": [
        "**OPTIMAL CONTROL EXAM PROJECT**\n",
        "\n",
        " Group 21:\n",
        "   - Baraghini Nicholas 0000984041 \n",
        "   - Curto Fabio\n",
        "   - Iadarola Federico"
      ],
      "metadata": {
        "id": "-tfPflu26Rvx"
      }
    },
    {
      "cell_type": "code",
      "execution_count": 2,
      "metadata": {
        "id": "AuKEbT846pKd"
      },
      "outputs": [],
      "source": [
        "# Libraries\n",
        "import numpy as np\n",
        "import matplotlib"
      ]
    },
    {
      "cell_type": "code",
      "source": [
        "# USEFULL FUNCTIONs\n",
        "\n",
        "def dot3(a,B,c):\n",
        "  # INPUTs: \n",
        "  #   a : row vector 1xN\n",
        "  #   B : matrix NxN\n",
        "  #   c : column vector Nx1\n",
        "\n",
        "  return np.matmul(np.matmul(a,B),c) # Returns the matrix product a*B*c "
      ],
      "metadata": {
        "id": "Y6TVQrR9jOvZ"
      },
      "execution_count": 27,
      "outputs": []
    },
    {
      "cell_type": "markdown",
      "source": [
        "**SYSTEM DYNAMICS DYNAMICS** (Ball and Beam)"
      ],
      "metadata": {
        "id": "a4eod9CD6oMg"
      }
    },
    {
      "cell_type": "code",
      "source": [
        "# SYSTEM DYNAMIC FUNCTION \n",
        "\n",
        "def BB_Dynamics(xx, uu, p_tens, params):\n",
        "  # INPUTs:\n",
        "  #   - xx  : system state at current time t \n",
        "  #   - uu  : input at current time t\n",
        "  #   - p_tens: tensor product term\n",
        "  #   - params: list of parameters\n",
        "\n",
        "  # PARAMETERs EXTRACTION:\n",
        "  dt = params['dt']; # Step size - Forward Euler method \n",
        "  gg = params['gg']; # gravitational acceleration [m/s^2]\n",
        "  mm = params['mm']; # ball mass [kg]\n",
        "  rr = params['rr']; # ball radius [m]\n",
        "  ii = params['ii']; # ball inertia [kg*m^2]\n",
        "  II = params['II']; # beam inertia [kg*m^2]\n",
        "  LL = params['LL']; # beam lenght [m]\n",
        "  \n",
        "  # USEFUL VARIABLEs\n",
        "  nx = 4; # nmumber of states \n",
        "  nu = 1; # number of inputs\n",
        "\n",
        "\n",
        "  # SYSTEM DYNAMICS\n",
        "  xx_next = np.zeros((nx,1)); # initialization\n",
        "  \n",
        "  xx_dot = np.array([[xx[1], \n",
        "                     ( mm*xx[0]*(xx[3]**2) - mm*gg*np.sin(xx[2]) )/( mm + II/(rr**2) ),\n",
        "                     xx[3],\n",
        "                     -( 2*mm*xx[0]*xx[1]*xx[3] + mm*xx[0]*np.cos(xx[2]) - uu )/d22  ]]);\n",
        "\n",
        "  xx_next[0] = xx[0] + xx_dot[0]*dt;\n",
        "  xx_next[1] = xx[1] + xx_dot[1]*dt;\n",
        "  xx_next[2] = xx[2] + xx_dot[2]*dt;\n",
        "  xx_next[3] = xx[3] + xx_dot[3]*dt;\n",
        "\n",
        "\n",
        "  # GRADIENTs\n",
        "\n",
        "  # useful notations\n",
        "  d1  = ( mm + ii/(rr**2) )**(-1);\n",
        "  d2  = ( II + mm*(xx[0]**2))**(-1);\n",
        "  d22 = ( II + mm*(xx[0]**2));\n",
        "  \n",
        "\n",
        "  fx1_4_num = ( -( 2*mm*xx[1]*xx[3] + mm*gg*np.cos(xx[2]) )*d22 \n",
        "                +( 2*mm*xx[0]*xx[1]*xx[3] + mm*gg*xx[0]*np.cos(xx[2]) - uu )*(2*mm*xx[0]) );\n",
        "  fx1_4_den = d22**(2); \n",
        "\n",
        "  # partial derivative w.r.t. xx[1]:\n",
        "  fx1 = np.array([[1, \n",
        "                  dt * ( mm*(xx[3]**2)*d1 ),\n",
        "                  0,\n",
        "                  dt * (fx1_4_num / fx1_4_den) ]]); \n",
        "\n",
        "  # partial derivative w.r.t. xx[2]:\n",
        "  fx2 = np.array([[dt,\n",
        "                  1,\n",
        "                  0,\n",
        "                  dt * ( -2*mm*xx[0]*xx[3]*d2 )]]);\n",
        "      \n",
        "  # partial derivative w.r.t. xx[3]:\n",
        "  fx3 = np.array([[0,\n",
        "                  dt * ( -mm*gg*np.cos(xx[2])*d1 ),\n",
        "                  1,\n",
        "                  dt * ( mm*gg*xx[0]*np.sin(xx[2])*d2 ) ]]);\n",
        "  \n",
        "  # partial derivative w.r.t. xx[4]:\n",
        "  fx4 = np.array([[0,\n",
        "                  dt * ( 2*xx[0]*xx[3]*d1 ),\n",
        "                  dt,\n",
        "                  1 - dt * ( 2*mm*xx[0]*xx[1]*d2 )]]);\n",
        "  \n",
        "  # Jacobian of the system dynamics:\n",
        "  fx = np.concatenate((fx1.T,fx2.T,fx3.T,fx4.T), axis=1);\n",
        "\n",
        "  # partial derivative w.r.t. the input:\n",
        "  fu = np.array([[0,\n",
        "                  0,\n",
        "                  0,\n",
        "                  dt*d2]]);\n",
        "\n",
        "\n",
        "  # SECOND ORDER GRADIENTs\n",
        "  pfxx = np.zeros((nx,nx));\n",
        "  pfux = np.zeros((nu,nx));\n",
        "  pfuu = np.zeros((nu,nu));\n",
        "  \n",
        "  # useful notations\n",
        "  fx1x1_4_num   = (2*mm*( 2*mm*xx[0]*xx[1]*xx[3] + mm*gg*np.cos(xx[3]) - uu )*fx1_4_den)-(fx1_4_num *(4*d22*mm*xx[0]));\n",
        "  fx1x1_4_den = d22**(4);\n",
        "  \n",
        "\n",
        "  # 1st row of the second derivative matrix nx*nx\n",
        "  pfxx[0,0] = pp[3] * (( -2*mm*xx[3]*d22 + 4*xx[3]*(mm*xx[0])**2 ) / fx1_4_den) * dt;\n",
        "  pfxx[0,1] = pp[3] * (( mm*gg*np.sin(xx[2])*d22 - 2*gg*np.sin(xx[2])*(mm*xx[0])**2)  / fx1_4_den) * dt;\n",
        "  pfxx[0,2] = pp[3] * (( -2*mm*xx[1]*d22 + 4*xx[1]*(mm*xx[0])**2) / fx1_4_den) * dt;\n",
        "  pfxx[0,3] = ( pp[1] * d1* (2*mm*xx[3]) * dt +\n",
        "                pp[3] * (fx1x1_4_num  / fx1x1_4_den) * dt );\n",
        "  \n",
        "  # 2nd row of the second derivative matrix nx*nx\n",
        "  pfxx[1,0] = pp[3] * (-2*mm*xx[3]*d2) * dt;\n",
        "  pfxx[1,1] = 0;\n",
        "  pfxx[1,2] = 0;\n",
        "  pfxx[1,3] = pp[3] * (-2*mm*xx[0]*d2) * dt;\n",
        "\n",
        "  # 3rd row of the second derivative matrix nx*nx\n",
        "  pfxx[2,0] = pp[3] * (mm*gg*np.cos(xx[2])*d2) * dt;\n",
        "  pfxx[2,1] = 0;\n",
        "  pfxx[2,2] =( pp[1] * (mm*gg*np.sin(xx[2])*d1) * dt +\n",
        "               pp[3] * (-mm*gg*xx[0]*np.sin(xx[2])*d2) * dt );\n",
        "  pfxx[2,3] = 0;\n",
        "\n",
        "  # 4th row of the second derivative matrix nx*nx\n",
        "  pfxx[3,0] =( pp[1] * (2*mm*xx[3]*d1) * dt +\n",
        "               pp[3] * (-2*mm*xx[1]*d2) * dt );\n",
        "  pfxx[3,1] = pp[3] * (-2*mm*xx[0]*d2) * dt;\n",
        "  pfxx[3,2] = 0;\n",
        "  pfxx[3,3] = pp[1] * (2*mm*xx[0]*d1) * dt;\n",
        "\n",
        "  # pfuu has all null elements\n",
        "\n",
        "  # pfux has only one non-null element\n",
        "  pfux[3,1] = pp[3] * (2*mm*x[0]*(d2**2)) * dt;\n",
        "\n",
        "\n",
        "  # OUTPUTs: (the fucnction returns an output dictionary with the follows entries)\n",
        "  #   - xx_next : system state at state (t+1)\n",
        "  #   - fx     : gradient of the system dynamics w.r.t. the system state at time t\n",
        "  #   - fu     : gradient of the system dynamics w.r.t. the input at time t\n",
        "  #   - pfxx   : tensor product within the dynamics function seconnd order derivative w.r.t. the state, given vector pp\n",
        "  #   - pfux   : tensor product within the dynamics function seconnd order derivative w.r.t. input and state, given vector pp \n",
        "  #   - pfuu   : tensor product within the dynamics function seconnd order derivative w.r.t. input, given vector pp \n",
        "  out = {\n",
        "         'xx_next':xx_next,\n",
        "         'fx':fx,\n",
        "         'fu':fu,\n",
        "         'pfxx':pfxx,\n",
        "         'pfux':pfux,\n",
        "         'pfuu':pfuu \n",
        "        };\n",
        "\n",
        "  return out;"
      ],
      "metadata": {
        "id": "OETOyRMN7Fte"
      },
      "execution_count": 3,
      "outputs": []
    },
    {
      "cell_type": "markdown",
      "source": [
        "**COST FUNCTION IMPLEMENTATION**"
      ],
      "metadata": {
        "id": "XFICKuHpz1qY"
      }
    },
    {
      "cell_type": "code",
      "source": [
        "# STAGE COST FUNCTION\n",
        "\n",
        "def Stage_Cost(xx, uu, xx_ref, uu_ref, params):\n",
        "  # INPUTs:\n",
        "  #   - xx  : system state at current time t \n",
        "  #   - uu  : input at current time t\n",
        "  #   - xx_ref: referance state at time t\n",
        "  #   - uu_ref: referance input at time t\n",
        "  #   - params: list of parameters\n",
        "\n",
        "  QQ = params['QQ'];\n",
        "  RR = params['QQ_T'];\n",
        "\n",
        "  nx = np.shape(xx_ref)[0] # state vector dymension\n",
        "  nu = np.shape(uu_ref)[0] # input vector dymension\n",
        "\n",
        "  state_err = (xx - xx_ref);\n",
        "  input_err = (uu - uu_ref);\n",
        "\n",
        "  L_t = dot3(state_err.T, QQ, state_err) + dot3(input_err.T, RR, input_err); # cost function evaluated at time t\n",
        "\n",
        "  # GRADIENTs\n",
        "  DLx = 2*np.matmul(QQ,xx) - 2*np.matmul(QQ,xx_ref);\n",
        "  DLu = 2*np.matmul(RR,uu) - 2*np.matmul(RR,uu_ref); \n",
        "\n",
        "  # 2nd order GRADIENTs\n",
        "  DLxx = 2*QQ; \n",
        "  DLuu = 2*RR; \n",
        "  DLux = np.array(np.zeros((nu,nx)));\n",
        "\n",
        "  # OUTPUTs: (the fucnction returns an output dictionary with the follows entries)\n",
        "  #   - cost_t : cost evaluated at time t\n",
        "  #   - Dlx    : gradient of the cost w.r.t. the system state at time t\n",
        "  #   - Dlu    : gradient of the cost dynamics w.r.t. the input at time t\n",
        "  #   - DLxx   : hessian w.r.t. the system state at time t\n",
        "  #   - DLux   : hessian w.r.t. ux \n",
        "  #   - Dluu   : hessian w.r.t. the input at time t\n",
        "  out = {\n",
        "         'cost_t':L_t,\n",
        "         'DLx':Dlx,\n",
        "         'DLu':DLu,\n",
        "         'DLxx':Dlxx,\n",
        "         'DLux':Dlux,\n",
        "         'Dluu':DLuu \n",
        "        };\n",
        "\n",
        "  return out;\n"
      ],
      "metadata": {
        "id": "kpZtx_APEJ1f"
      },
      "execution_count": 4,
      "outputs": []
    },
    {
      "cell_type": "code",
      "source": [
        "# TERMINAL COST FUNCTION\n",
        "\n",
        "def Terminal_Cost(xx_T, xx_T_ref, params):\n",
        "  # INPUTs:\n",
        "  #   - xx_T  : system state at current final time T \n",
        "  #   - xx_T_ref: referance state at final time T\n",
        "  #   - params: list of parameters\n",
        "\n",
        "  QQ_T = params['QQ_T'];\n",
        "\n",
        "  nx = np.shape(xx_T_ref)[0] # number of rows of xx_T_ref\n",
        "\n",
        "  state_err = (xx_T - xx_T_ref);\n",
        "\n",
        "  L_T = dot3(state_err.T, QQ, state_err); # cost function evaluated at final time T\n",
        "\n",
        "  # GRADIENTs\n",
        "  DLx = 2*np.matmul(QQ_T,xx_T) - 2*np.matmul(QQ_T,xx_T_ref);\n",
        "\n",
        "  # 2nd order GRADIENTs\n",
        "  DLxx = 2*QQ_T; \n",
        "\n",
        "  # OUTPUTs: (the fucnction returns an output dictionary with the follows entries)\n",
        "  #   - cost_T : cost evaluated at final time T\n",
        "  #   - Dlx    : gradient of the cost w.r.t. the system state at final time T\n",
        "  #   - DLxx   : hessian w.r.t. the system state at final time T\n",
        "\n",
        "  out = {\n",
        "         'cost_T':L_T,\n",
        "         'DLx':Dlx,\n",
        "         'DLxx':Dlxx,\n",
        "        };\n",
        "\n",
        "  return out;"
      ],
      "metadata": {
        "id": "puw836P1pc4B"
      },
      "execution_count": 5,
      "outputs": []
    },
    {
      "cell_type": "markdown",
      "source": [
        "**DDP Components**\\\n",
        "Function that computhe the element K, P, p, σ and the descent direction from the DDP algorithm. "
      ],
      "metadata": {
        "id": "1kCxtj9OxJml"
      }
    },
    {
      "cell_type": "code",
      "source": [
        "# DDP Algorithm Components evaluated at k-th iteration\n",
        "def DDP_comp_t_k(kk, xx, uu, xx_ref, uu_ref, params):\n",
        "  # INPUTs:\n",
        "  #   - kk     : iteration of evaluation\n",
        "  #   - xx     : systema state tensor\n",
        "  #   - uu     : input tensor\n",
        "  #   - xx_ref : system state reference matrix\n",
        "  #   - uu_ref : input reference matrx\n",
        "  #   - tt     : time of evaluation\n",
        "  #   - TT     : final step T\n",
        "  #   - params : parameters dictionary\n",
        "\n",
        "  nx = np.shape(xx_ref)[0] # state vector dymension\n",
        "  nu = np.shape(uu_ref)[0] # input vector dymension\n",
        "\n",
        "  # Initializations\n",
        "  KK = np.zeros((nu,nx, TT));\n",
        "  SS = np.zeros((nu, TT)); # sigma\n",
        "  pp = np.zeros((nn, TT));\n",
        "  PP = np.zeros((nn,nn, TT));\n",
        "\n",
        "  for tt in range(TT-1, 0, -1):\n",
        "    # System dymanics ar time t k-th iteration\n",
        "    dyn = BB_Dynamics(xx[:,tt,kk], uu[:,tt,kk], pp[:,tt+1], params); \n",
        "    # stage cost at time t k-th iteration\n",
        "    stC = Stage_Cost(xx[:,tt,kk], uu[:,tt,kk], xx_ref[:,tt], uu_ref[:,tt], params); \n",
        "    # terminal cost at time t k-th iteration\n",
        "    trC = Terminal_Cost(xx[:,tt,kk], xx_ref[:,tt], params); \n",
        "\n",
        "    \n",
        "    # Gain Computation\n",
        "    KS_dir_term = stC['luu'] + dot3( dyn['fu'].T, PP[:,:,tt+1], dyn['fu'] ) + dyn['pfuu'];\n",
        "    KS_inv_term = np.linalg.inv(KS_dir_term); # inverse factor of the DDP gain formula\n",
        "    KK_dir_term = stC['lux'] + dot3( dyn['fu'].T, PP[:,:,tt+1], dyn['fx'] ) + dyn['pfux']; # second factor of the DDP gain formula\n",
        "\n",
        "    KK = -np.matmul(KS_inv_term, KS_dir_term);\n",
        "\n",
        "    # Sigma Computation\n",
        "    SS_dir_term = stC['lu'] + np.matmul( dyn['fu'], pp[:,tt+1] ); # second factor of the DDP sigma formula\n",
        "\n",
        "    SS = -np.matmul(KS_inv_term, SS_dir_term);\n",
        "\n",
        "    # PP update \n",
        "    PP_1_term = stC['lxx'] + dot3(dyn['fx'].T,PP[:,:,tt+1],dyn['fx']) + dyn['pfxx']; # PP first term (DDP formula)\n",
        "    PP_2_term = dot3( np.linalg.inv( KK[:,:,tt]).T, KS_dir_term, KK[:,:,tt]) # PP second term (DDP formula)\n",
        "    \n",
        "    PP[:,:,tt] = PP_1_term - PP_2_term;\n",
        "    \n",
        "    PP[:,:,TT] = trC['DLxx'];\n",
        "\n",
        "    # pp update\n",
        "    pp_1_term = stC['lx'] + np.matmul(dyn['fx'].T, pp[:,tt+1]); # PP first term (DDP formula)\n",
        "    pp_2_term = dot3( np.linalg.inv( KK[:,:,tt]).T, KS_dir_term, SS[:,tt]) # PP second term (DDP formula)\n",
        "\n",
        "    pp[:,tt] = pp_1_term - pp_2_term;\n",
        "\n",
        "    pp[:,TT] = trC['DLx'];\n",
        "\n",
        "    # Descent Direction Computation\n",
        "    descent[kk] = descent[kk] - np.matmul(SS[:,tt].T, SS[:,tt]);\n",
        "\n",
        "  # OUTPUTs:\n",
        "  #   - KK      :\n",
        "  #   - Sigma   :\n",
        "  #   - PP      :\n",
        "  #   - pp      :\n",
        "  #   - descent :\n",
        "\n",
        "  out = {\n",
        "         'KK'     :KK,\n",
        "         'Sigma'  :SS,\n",
        "         'PP'     :PP,\n",
        "         'pp'     :pp,\n",
        "         'descent':descent\n",
        "        };\n",
        "\n",
        "  return out;"
      ],
      "metadata": {
        "id": "y7BMoPJotKJ2"
      },
      "execution_count": 46,
      "outputs": []
    },
    {
      "cell_type": "code",
      "source": [
        "def op(a,d) :\n",
        "  out = {'+':a+d,\n",
        "         '-':a-d,\n",
        "         '--':d-a,\n",
        "         '*':a*d,\n",
        "         '/':a/d,\n",
        "         '//':d/a}\n",
        "  return out;\n",
        "\n",
        "b = op(5,10)\n",
        "b['+']\n"
      ],
      "metadata": {
        "colab": {
          "base_uri": "https://localhost:8080/"
        },
        "id": "O0sdJxnc2Tmc",
        "outputId": "cffeeda5-e6a3-4ce6-9062-c55fc6b3f062"
      },
      "execution_count": 41,
      "outputs": [
        {
          "output_type": "execute_result",
          "data": {
            "text/plain": [
              "15"
            ]
          },
          "metadata": {},
          "execution_count": 41
        }
      ]
    },
    {
      "cell_type": "markdown",
      "source": [
        "**ARMIJO's ALGORITHM**"
      ],
      "metadata": {
        "id": "rABXGpj-pvAo"
      }
    },
    {
      "cell_type": "code",
      "source": [
        "# ARMIJO's Function\n",
        "\n",
        "def Armijo(kk, xx_init, xx_ref, uu_ref, nx, nu, TT, cost_kk, cc, beta, Sigma, KK, pp, params):\n",
        "  # INPUTs:\n",
        "  #   - kk       : actual iteration\n",
        "  #   - xx_init  : system initial state at at time t=0 \n",
        "  #   - xx_ref   : referance state vector\n",
        "  #   - uu_ref   : reference input vector \n",
        "  #   - TT       : final step T \n",
        "  #   - cost_kk  : cost at k-th iteration\n",
        "  #   - cc       : \n",
        "  #   - beta     : step size of the Armijo's algorithm\n",
        "  #   - Sigma    : Control Affine Element from the DDP algorithm\n",
        "  #   - KK       : Feedback Gain Matrix frm the DDP algorithm\n",
        "  #   - pp       : vector p from the DDP algorithm \n",
        "  #   - params   : parameter dictionary\n",
        "\n",
        "  nx = np.shape(xx_ref)[0] # state vector dymension\n",
        "  nu = np.shape(uu_ref)[0] # input vector dymension\n",
        "\n",
        "  gammas = np.array([[1]])     # initial step size\n",
        "  armijo_cost=np.array([[]])   #cost for armijo function, update each iteration\n",
        "  \n",
        "  #temporary variable initialization\n",
        "  xx_temp = np.zeros((nx,TT))\n",
        "  uu_temp = np.zeros((nu,TT))\n",
        "  \n",
        "  # ARMIJO's LOOP\n",
        "  while True:\n",
        "    xx_temp[:,0] = xx_init\n",
        "    cost_temp = 0\n",
        "\n",
        "    for tt in range(0, TT):\n",
        "      # temporary input control computation\n",
        "      uu_temp[:,tt] = uu[:,tt,kk] + gammas[-1]*sigma[:,tt] + np.matmul(KK[:,:,tt], (xx_temp[:,tt]-xx[:,tt,kk])) #!! KK e sigma missing \n",
        "      # temporary system dynamics computation\n",
        "      xx_temp[:,tt+1] = BB_Dynamics(xx_temp[:,tt], uu_temp[:,tt], pp[:,tt+1] , params )['xx_next']\n",
        "      # stage cost computation\n",
        "      cost_dummy = Stage_Cost(xx_temp[:,tt], uu_temp[:,tt], xx_ref[:,tt], uu_ref[:,tt], params)['cost_t']\n",
        "\n",
        "      # cost sum at for each stage cost in time [0,T-1]\n",
        "      cost_temp += cost_dummy\n",
        "    \n",
        "    # cost sum at for each stage cost in time [0,T]\n",
        "    cost_temp += Terminal_Cost(xx_temp[:,TT], xx_ref[:,TT], params)['cost_T']\n",
        "\n",
        "    # Cost structure collecting the cost registered for each gamma (step size)\n",
        "    armijo_cost = np.concatenate(armijo_cost, cost_temp, axis=1)\n",
        "\n",
        "    descent = 1 #!! solo per oggi\n",
        "    if (armijo_cost[-1] <= (cost_kk) + cc*gammas[-1]*descent):  #descent va cambiato!!\n",
        "      return gammas\n",
        "    \n",
        "    # Stucture collecting all the gamma computed not satisfying the Armijo's condition\n",
        "    gammas = np.concatenate(gammas, beta*gammas[-1],axis=1)\n",
        "    \n",
        "\n",
        "  # OUTPUT: \n",
        "  #   - gammas : array containing all the step sizes computed by the Armijo's \n",
        "  #              Loop, gamma[-1] (the last element of the array) is the valid \n",
        "  #              step sized should be considered\n",
        "  "
      ],
      "metadata": {
        "id": "f9dDh_hn2jQm"
      },
      "execution_count": 47,
      "outputs": []
    },
    {
      "cell_type": "markdown",
      "source": [
        "**TRAJECTORY UPDATE** (Trajectory Update Function)"
      ],
      "metadata": {
        "id": "ztoXKZ_SD1bI"
      }
    },
    {
      "cell_type": "code",
      "source": [
        "def Trajectory_Update(kk, xx, uu, xx_ref, uu_ref, xx_init, TT, cost_kk, gamma, Sigma, KK, pp,  params):\n",
        "  # INPUTs:\n",
        "  #   - kk       : actual iteration\n",
        "  #   - xx       : system state tensor \n",
        "  #   - uu       : input tensor\n",
        "  #   - xx_ref   : referance state vector\n",
        "  #   - uu_ref   : reference input vector\n",
        "  #   - xx_init  : system initial state at at time t=0 \n",
        "  #   - TT       : final step T \n",
        "  #   - cost_kk  : cost at k-th iteration\n",
        "  #   - gamma    : Step size\n",
        "  #   - Sigma    : Control Affine Element from the DDP algorithm\n",
        "  #   - KK       : Feedback Gain Matrix frm the DDP algorithm\n",
        "  #   - pp       : vector p from the DDP algorithm \n",
        "  #   - params   : parameter dictionary\n",
        "\n",
        "  "
      ],
      "metadata": {
        "id": "nw3t8--5D09g"
      },
      "execution_count": null,
      "outputs": []
    },
    {
      "cell_type": "markdown",
      "source": [
        "**TRAJECTORY EXPLORATION** (Task 1)"
      ],
      "metadata": {
        "id": "MCfkicYm15uQ"
      }
    },
    {
      "cell_type": "code",
      "source": [
        "# PARAMETERS SETTING\n",
        "\n",
        "max_iterations = 200;\n",
        "\n",
        "nx = 4; # nmumber of states \n",
        "nu = 1; # number of inputs\n",
        "tf = 50; # Seconds\n",
        "\n",
        "params = {'dt':0.001,   # Step size - Forward Euler method\n",
        "          'gg':9.81,    # gravitational acceleration [m/s^2]\n",
        "          'mm':0.12,    # ball mass [kg]\n",
        "          'rr':0.015,   # ball radius [m]\n",
        "          'ii':11.6E-6, # ball inertia [kg*m^2]\n",
        "          'II':0.1125,  # beam inertia [kg*m^2]\n",
        "          'LL':1        # beam lenght [m]\n",
        "          'QQ':np.array([[100, 0, 0 , 0],\n",
        "                              [ 0 ,10, 0 , 0],\n",
        "                              [ 0 , 0,100, 0],\n",
        "                              [ 0 , 0, 0 ,10]]),\n",
        "          'RR':1,\n",
        "          'QQ_T':np.array([[100, 0, 0 , 0],\n",
        "                                [ 0 ,10, 0 , 0],\n",
        "                                [ 0 , 0,100, 0],\n",
        "                                [ 0 , 0, 0 ,10]])\n",
        "              }\n",
        "\n",
        "TT = int(tf/sys_params['dt']); # rounding down of the time span divided in time in number oof time intervals\n",
        "\n",
        "xx_init = np.zeros((nx,1)); # initial state \n",
        "\n"
      ],
      "metadata": {
        "id": "CJYzDXzC2RrC"
      },
      "execution_count": 6,
      "outputs": []
    },
    {
      "cell_type": "markdown",
      "source": [
        "**Reference Definition** \\\n",
        "Step reference change between two equilibria "
      ],
      "metadata": {
        "id": "N9uWhNOM1tCB"
      }
    },
    {
      "cell_type": "code",
      "source": [
        "# REFERENCE DEFINITION\n",
        "\n",
        "ref_pos = 0.8; # ball reference position on the beam [m]\n",
        "ref_inp = sys_params['mm']*sys_params['gg']*ref_pos; # input reference torque at reference pos ref_pos\n",
        "\n",
        "# state reference definition:\n",
        "xx_ref = np.zeros((nx,TT));\n",
        "xx_ref[0,round(TT/2):TT] = ref_pos;\n",
        "\n",
        "# input reference definition\n",
        "uu_ref = np.zeros((nu,TT));\n",
        "uu_ref[0,round(TT/2):TT] = ref_inp;"
      ],
      "metadata": {
        "id": "8QOtAIm6tkUA"
      },
      "execution_count": 7,
      "outputs": []
    },
    {
      "cell_type": "markdown",
      "source": [
        "xx = np.zeros((nx,TT,max_iterations)); # state tensor\n",
        "uu = np.zeros((nu,TT,max_iterations)); # input tensor\n",
        "\n",
        "JJ      = np.zeros((max_iterations,1)); # cost function values memory\n",
        "descent = np.zeros((max_iterations,1)); \n",
        "\n"
      ],
      "metadata": {
        "id": "xVkWD_vKP1-Y"
      }
    },
    {
      "cell_type": "markdown",
      "source": [
        "**TRAJECTORY OPTIMIZATION** (Task 2)"
      ],
      "metadata": {
        "id": "d2fbcGzp2QZQ"
      }
    },
    {
      "cell_type": "code",
      "source": [
        "a = np.array([[1,2,3]])\n",
        "B = np.array([[1,2,3],[4,4,6],[7,8,9]])\n",
        "print(np.linalg.inv(B))\n",
        "print(np.linalg.inv(B).T)\n"
      ],
      "metadata": {
        "colab": {
          "base_uri": "https://localhost:8080/"
        },
        "id": "bY2qHqOhh_5p",
        "outputId": "802ba8c4-3564-4eed-b82b-55e20b51ace7"
      },
      "execution_count": 43,
      "outputs": [
        {
          "output_type": "stream",
          "name": "stdout",
          "text": [
            "[[-1.00000000e+00  5.00000000e-01  1.26882631e-16]\n",
            " [ 5.00000000e-01 -1.00000000e+00  5.00000000e-01]\n",
            " [ 3.33333333e-01  5.00000000e-01 -3.33333333e-01]]\n",
            "[[-1.00000000e+00  5.00000000e-01  3.33333333e-01]\n",
            " [ 5.00000000e-01 -1.00000000e+00  5.00000000e-01]\n",
            " [ 1.26882631e-16  5.00000000e-01 -3.33333333e-01]]\n"
          ]
        }
      ]
    },
    {
      "cell_type": "markdown",
      "source": [
        "**TRAJECTORY TRACKING** (Task 3)"
      ],
      "metadata": {
        "id": "7U8VKRix2jmu"
      }
    },
    {
      "cell_type": "code",
      "source": [
        ""
      ],
      "metadata": {
        "id": "YjPleOHr2saG"
      },
      "execution_count": null,
      "outputs": []
    },
    {
      "cell_type": "code",
      "source": [
        ""
      ],
      "metadata": {
        "id": "KZT4VVq6Uz7w"
      },
      "execution_count": null,
      "outputs": []
    }
  ]
}