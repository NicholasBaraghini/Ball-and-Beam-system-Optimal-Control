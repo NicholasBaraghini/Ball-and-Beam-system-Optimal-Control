{
  "nbformat": 4,
  "nbformat_minor": 0,
  "metadata": {
    "colab": {
      "name": "OPTCON_Grp21_Ball and Beam Project.ipynb",
      "provenance": [],
      "collapsed_sections": [],
      "authorship_tag": "ABX9TyMvDiy9AmSMFslCZhVUJV1S",
      "include_colab_link": true
    },
    "kernelspec": {
      "name": "python3",
      "display_name": "Python 3"
    },
    "language_info": {
      "name": "python"
    }
  },
  "cells": [
    {
      "cell_type": "markdown",
      "metadata": {
        "id": "view-in-github",
        "colab_type": "text"
      },
      "source": [
        "<a href=\"https://colab.research.google.com/github/NicholasBaraghini/Ball-and-Beam-system-Optimal-Control/blob/main/OPTCON_Grp21_Ball_and_Beam_Project.ipynb\" target=\"_parent\"><img src=\"https://colab.research.google.com/assets/colab-badge.svg\" alt=\"Open In Colab\"/></a>"
      ]
    },
    {
      "cell_type": "markdown",
      "source": [
        "**OPTIMAL CONTROL EXAM PROJECT**\n",
        "\n",
        " Group 21:\n",
        "   - Baraghini Nicholas 0000984044\n",
        "   - Curto Fabio\n",
        "   - Iadarola Federico"
      ],
      "metadata": {
        "id": "-tfPflu26Rvx"
      }
    },
    {
      "cell_type": "code",
      "execution_count": 3,
      "metadata": {
        "id": "AuKEbT846pKd"
      },
      "outputs": [],
      "source": [
        "# Libraries\n",
        "import numpy as np\n",
        "import matplotlib"
      ]
    },
    {
      "cell_type": "markdown",
      "source": [
        "**SYSTEM DYNAMICS DYNAMICS** (Ball and Beam)"
      ],
      "metadata": {
        "id": "a4eod9CD6oMg"
      }
    },
    {
      "cell_type": "code",
      "source": [
        "# Ball and Beam Dynamics \n",
        "\n",
        "def BB_Dynamics(xx, uu, p_tens, params):\n",
        "  # INPUTs:\n",
        "  #   - xx  : system state at current time t \n",
        "  #   - uu  : input at current time t\n",
        "  #   - p_tens: tensor product term\n",
        "  #   - params: list of parameters\n",
        "\n",
        "  # PARAMETERs EXTRACTION:\n",
        "  dt   = params[0]; # Step size - Forward Euler method \n",
        "  gg   = params[1]; # gravitational acceleration [m/s^2]\n",
        "  m_bl = params[2]; # ball mass [kg]\n",
        "  r_bl = params[3]; # ball radius [m]\n",
        "  I_bm = params[4]; # beam inertia [kg*m^2]\n",
        "  L_bm = params[5]; # beam lenght [m]\n",
        "  \n",
        "  # USEFUL VARIABLEs\n",
        "  nx = 4; # nmumber of states \n",
        "  nu = 1; # number of inputs\n",
        "\n",
        "\n",
        "  # SYSTEM DYNAMICS\n",
        "  xx_next = np.array(np.zeros((nx,1))); # initialization\n",
        "  \n",
        "  xx_dot = np.array([[xx[1], \n",
        "                     ( m_bl*xx[0]*(xx[3]**2) - m_bl*gg*np.sin(xx[2]) )/( m_bl + I_bm/(r_bl**2) ),\n",
        "                     xx[3],\n",
        "                     -( 2*m_bl*xx[0]*xx[1]*xx[3] + m_bl*xx[0]*np.cos(xx[2]) - uu )/d22  ]]);\n",
        "\n",
        "  xx_next[0] = xx[0] + xx_dot[0]*dt\n",
        "  xx_next[1] = xx[1] + xx_dot[1]*dt\n",
        "  xx_next[2] = xx[2] + xx_dot[2]*dt\n",
        "  xx_next[3] = xx[3] + xx_dot[3]*dt\n",
        "\n",
        "\n",
        "  # GRADIENTs\n",
        "\n",
        "  # useful notations\n",
        "  d1 = ( m_bl + I_bm/(r_bl**2) )**(-1);\n",
        "  d2 = ( I_bm + m_bl*(xx[0]**2))**(-1);\n",
        "  d22 = ( I_bm + m_bl*(xx[0]**2));\n",
        "  \n",
        "\n",
        "  fx1_4_numerator   = (-( 2*m_bl*xx[1]*xx[3] + m_bl*gg*np.cos(xx[2]) )*d22 +( 2*m_bl*xx[0]*xx[1]*xx[3] + m_bl*gg*xx[0]*np.cos(xx[2]) - uu )*(2*m_bl*xx[0]) );\n",
        "  fx1_4_denominator = d22**(-2); \n",
        "\n",
        "  # partial derivative w.r.t. xx[1]:\n",
        "  fx1 = np.array([[1, \n",
        "                  dt * ( m_bl*(xx[3]**2)*d1 ),\n",
        "                  0,\n",
        "                  dt * (fx1_4_numerator * fx1_4_denominator) ]]); \n",
        "\n",
        "  # partial derivative w.r.t. xx[2]:\n",
        "  fx2 = np.array([[dt,\n",
        "                  1,\n",
        "                  0,\n",
        "                  dt * ( -2*m_bl*xx[0]*xx[3]*d2 )]]);\n",
        "      \n",
        "  # partial derivative w.r.t. xx[3]:\n",
        "  fx3 = np.array([[0,\n",
        "                  dt * ( -m_bl*gg*np.cos(xx[2])*d1 ),\n",
        "                  1,\n",
        "                  dt * ( m_bl*gg*xx[0]*np.sin(xx[2])*d2 ) ]]);\n",
        "  \n",
        "  # partial derivative w.r.t. xx[4]:\n",
        "  fx4 = np.array([[0,\n",
        "                  dt * ( 2*xx[0]*xx[3]*d1 ),\n",
        "                  dt,\n",
        "                  1 - dt * ( 2*m_bl*xx[0]*xx[1]*d2 )]]);\n",
        "  \n",
        "  # Jacobian of the system dynamics:\n",
        "  fx = np.concatenate((fx1.T,fx2.T,fx3.T,fx4.T), axis=1);\n",
        "\n",
        "  # partial derivative w.r.t. the input:\n",
        "  fu = np.array([[0,\n",
        "                  0,\n",
        "                  0,\n",
        "                  dt*d2]]);\n",
        "\n",
        "\n",
        "  # SECOND ORDER GRADIENTs\n",
        "  pfxx = np.array(np.zeros((nx,nx)));\n",
        "  pfux = np.array(np.zeros((nu,nx)));\n",
        "  pfuu = np.array(np.zeros((nu,nu)));\n",
        "  \n",
        "  # useful notations\n",
        "  fx1x1_4_numerator   = (2*m_bl*( 2*m_bl*xx[0]*xx[1]*xx[3] + m_bl*gg*np.cos(xx[3]) - uu )*fx1_4_denominator)-(fx1_4_numerator *(2*m_bl*xx[0]));\n",
        "  fx1x1_4_denominator = d22**(-4);\n",
        "  \n",
        "  # OUTPUTs: (the fucnction returns an output structure with the follows entries)\n",
        "  #   - xx_next : system state at state (t+1)\n",
        "  #   - fx     : gradient of the system dynamics w.r.t. the system state at time t\n",
        "  #   - fu     : gradient of the system dynamics w.r.t. the input at time t\n",
        "  #   - pfxx   : tensor product within the dynamics function seconnd order derivative w.r.t. the state, given vector pp\n",
        "  #   - pfux   : tensor product within the dynamics function seconnd order derivative w.r.t. input and state, given vector pp \n",
        "  #   - pfuu   : tensor product within the dynamics function seconnd order derivative w.r.t. input, given vector pp \n"
      ],
      "metadata": {
        "id": "OETOyRMN7Fte"
      },
      "execution_count": 8,
      "outputs": []
    },
    {
      "cell_type": "code",
      "source": [
        "a =np.array(np.zeros((3,2)));\n",
        "\n",
        "print((2)**(-1));"
      ],
      "metadata": {
        "colab": {
          "base_uri": "https://localhost:8080/"
        },
        "id": "kpZtx_APEJ1f",
        "outputId": "79c9486b-31de-456d-cc35-353f8bf6b024"
      },
      "execution_count": 9,
      "outputs": [
        {
          "output_type": "stream",
          "name": "stdout",
          "text": [
            "0.5\n"
          ]
        }
      ]
    }
  ]
}