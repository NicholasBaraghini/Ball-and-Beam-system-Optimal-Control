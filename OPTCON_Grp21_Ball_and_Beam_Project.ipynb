{
  "nbformat": 4,
  "nbformat_minor": 0,
  "metadata": {
    "colab": {
      "name": "OPTCON_Grp21_Ball and Beam Project.ipynb",
      "provenance": [],
      "collapsed_sections": [],
      "authorship_tag": "ABX9TyNjekigG7XVRiiagb9Twyoz",
      "include_colab_link": true
    },
    "kernelspec": {
      "name": "python3",
      "display_name": "Python 3"
    },
    "language_info": {
      "name": "python"
    }
  },
  "cells": [
    {
      "cell_type": "markdown",
      "metadata": {
        "id": "view-in-github",
        "colab_type": "text"
      },
      "source": [
        "<a href=\"https://colab.research.google.com/github/NicholasBaraghini/Ball-and-Beam-system-Optimal-Control/blob/main/OPTCON_Grp21_Ball_and_Beam_Project.ipynb\" target=\"_parent\"><img src=\"https://colab.research.google.com/assets/colab-badge.svg\" alt=\"Open In Colab\"/></a>"
      ]
    },
    {
      "cell_type": "markdown",
      "source": [
        "**OPTIMAL CONTROL EXAM PROJECT**\n",
        "\n",
        " Group 21:\n",
        "   - Baraghini Nicholas 0000984044\n",
        "   - Curto Fabio\n",
        "   - Iadarola Federico"
      ],
      "metadata": {
        "id": "-tfPflu26Rvx"
      }
    },
    {
      "cell_type": "code",
      "execution_count": 49,
      "metadata": {
        "id": "AuKEbT846pKd"
      },
      "outputs": [],
      "source": [
        "# Libraries\n",
        "import numpy as np\n",
        "import matplotlib"
      ]
    },
    {
      "cell_type": "markdown",
      "source": [
        "**SYSTEM DYNAMICS DYNAMICS** (Ball and Beam)"
      ],
      "metadata": {
        "id": "a4eod9CD6oMg"
      }
    },
    {
      "cell_type": "code",
      "source": [
        "# Ball and Beam Dynamics \n",
        "\n",
        "def BB_Dynamics(xx, uu, p_tens, params):\n",
        "  # INPUTS:\n",
        "  #   - xx  : system state at current time t \n",
        "  #   - uu  : input at current time t\n",
        "  #   - p_tens: tensor product term\n",
        "  #   - params: list of parameters\n",
        "\n",
        "  # PARAMETERS EXTRACTION:\n",
        "  dt   = params[0]; # Step size - Forward Euler method \n",
        "  gg   = params[1]; # gravitational acceleration [m/s^2]\n",
        "  m_bl = params[2]; # ball mass [kg]\n",
        "  r_bl = paeams[3]; # ball radius [m]\n",
        "  I_bm = params[4]; # beam inertia [kg*m^2]\n",
        "  L_bm = params[5]; # beam lenght [m]\n",
        "  \n",
        "  nx = 4; # nmumber of states \n",
        "  nu = 1; # number of inputs\n",
        "\n",
        "  # SYSTEM DYNAMICS\n",
        "  xx_next = np.array(np.zeros((nx,1))); # initialization\n",
        "  \n",
        "  xx_dot = np.array([[xx[1], \n",
        "                     ( m_bl*xx[0]*(xx[3]**2) - m_bl*gg*np.sin(xx[2]) )/( m_bl + I_bm/(r_bl**2) ),\n",
        "                     xx[3],\n",
        "                     -( 2*m_bl*xx[0]*xx[1]*xx[3] + m_bl*xx[0]*np.cos(xx[2]) - uu )/( I_bm + m_bl*(xx[0]**2) ) ]]);\n",
        "\n",
        "  \n",
        "  xx_next[0] = xx[0] + xx_dot[0]*dt\n",
        "  xx_next[1] = xx[1] + xx_dot[1]*dt\n",
        "  xx_next[2] = xx[2] + xx_dot[2]*dt\n",
        "  xx_next[3] = xx[3] + xx_dot[3]*dt\n",
        "\n",
        "  # GRADIENTs\n",
        "\n",
        "  # partial derivative w.r.t. xx[1]:\n",
        "  fx1 = np.array([[1, \n",
        "                  dt * ( m_bl*(xx[3]**2) ) / ( m_bl + I_bm/(r_bl**2) ),\n",
        "                  0,\n",
        "                  dt * (-( 2*m_bl*xx[1]*xx[3] + m_bl*gg*np.cos(xx[2]) )*( I_bm + m_bl*(xx[0]**2) )+( 2*m_bl*xx[0]*xx[1]*xx[3] + m_bl*gg*xx[0]*np.cos(xx[2]) - uu )*(2*m_bl*xx[0]) ) / ( ( I_bm + m_bl*(xx[0]**2) )**2 ) ]]); \n",
        "\n",
        "  # partial derivative w.r.t. xx[2]:\n",
        "  fx2 = np.array([[dt,\n",
        "                  1,\n",
        "                  0,\n",
        "                  dt * ( -2*m_bl*xx[0]*xx[3] ) / ( I_bm + m_bl*(xx[0]**2) )]]);\n",
        "      \n",
        "  # partial derivative w.r.t. xx[3]:\n",
        "  fx3 = np.array([[0,\n",
        "                  dt * ( -m_bl*gg*np.cos(xx[2]) ) / ( m_bl + I_bm/(r_bl**2) ),\n",
        "                  1,\n",
        "                  dt * ( m_bl*gg*xx[0]*np.sin(xx[2]) ) / ( I_bm + m_bl*(xx[0]**2) )]]);\n",
        "  \n",
        "  # partial derivative w.r.t. xx[4]:\n",
        "  fx4 = np.array([[0,\n",
        "                  dt * ( 2*xx[0]*xx[3] ) / ( m_bl + I_bm/(r_bl**2) ),\n",
        "                  dt,\n",
        "                  1 - dt * ( 2*m_bl*xx[0]*xx[1] ) / ( I_bm + m_bl*(xx[0]**2) )]]);\n",
        "  \n",
        "  # Jacobian of the system dynamics:\n",
        "  fx = np.concatenate((fx1.T,fx2.T,fx3.T,fx4.T), axis=1);\n",
        "\n",
        "  # partial derivative w.r.t. the input:\n",
        "  fu = np.array([[0,\n",
        "                  0,\n",
        "                  0,\n",
        "                  dt  / ( I_bm + m_bl*(xx[0]**2) )]]);\n",
        "\n",
        "\n",
        "  # OUTPUTS: (the fucnction returns an output structure with the follows entries)\n",
        "  #   - xx_next : system state at state (t+1)\n",
        "  #   - fx     : gradient of the system dynamics w.r.t. the system state at time t\n",
        "  #   - fu     : gradient of the system dynamics w.r.t. the input at time t\n",
        "  #   - pfxx   : tensor product within the dynamics function given vector pp of fxx\n",
        "  #   - pfux   : tensor product within the dynamics function given vector pp of fux\n",
        "\n"
      ],
      "metadata": {
        "id": "OETOyRMN7Fte"
      },
      "execution_count": 50,
      "outputs": []
    },
    {
      "cell_type": "code",
      "source": [
        "a = np.array([[1,2,3,4]]);\n",
        "b = np.array([[5,6,7,8]]);\n",
        "\n",
        "c = a+b;\n",
        "\n",
        "print(c[0,0])"
      ],
      "metadata": {
        "colab": {
          "base_uri": "https://localhost:8080/"
        },
        "id": "kpZtx_APEJ1f",
        "outputId": "0ae919fa-f9d7-4559-919d-31722f20393a"
      },
      "execution_count": 53,
      "outputs": [
        {
          "output_type": "stream",
          "name": "stdout",
          "text": [
            "6\n"
          ]
        }
      ]
    }
  ]
}