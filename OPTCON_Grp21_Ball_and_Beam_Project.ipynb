{
  "nbformat": 4,
  "nbformat_minor": 0,
  "metadata": {
    "colab": {
      "name": "OPTCON_Grp21_Ball and Beam Project.ipynb",
      "provenance": [],
      "authorship_tag": "ABX9TyPasf3Xlijr/pwcLA1aGY7O",
      "include_colab_link": true
    },
    "kernelspec": {
      "name": "python3",
      "display_name": "Python 3"
    },
    "language_info": {
      "name": "python"
    }
  },
  "cells": [
    {
      "cell_type": "markdown",
      "metadata": {
        "id": "view-in-github",
        "colab_type": "text"
      },
      "source": [
        "<a href=\"https://colab.research.google.com/github/NicholasBaraghini/Ball-and-Beam-system-Optimal-Control/blob/main/OPTCON_Grp21_Ball_and_Beam_Project.ipynb\" target=\"_parent\"><img src=\"https://colab.research.google.com/assets/colab-badge.svg\" alt=\"Open In Colab\"/></a>"
      ]
    },
    {
      "cell_type": "markdown",
      "source": [
        "**OPTIMAL CONTROL EXAM PROJECT**\n",
        "\n",
        " Group 21:\n",
        "   - Baraghini Nicholas 0000984044\n",
        "   - Curto Fabio\n",
        "   - Iadarola Federico"
      ],
      "metadata": {
        "id": "-tfPflu26Rvx"
      }
    },
    {
      "cell_type": "code",
      "execution_count": 2,
      "metadata": {
        "id": "AuKEbT846pKd"
      },
      "outputs": [],
      "source": [
        "# Libraries\n",
        "import numpy as np\n",
        "import matplotlib"
      ]
    },
    {
      "cell_type": "markdown",
      "source": [
        "**SYSTEM DYNAMICS DYNAMICS** (Ball and Beam)"
      ],
      "metadata": {
        "id": "a4eod9CD6oMg"
      }
    },
    {
      "cell_type": "code",
      "source": [
        "# Ball and Beam Dynamics \n",
        "\n",
        "def BB_Dynamics(x_sys, u_in, p_tens, params)\n",
        "  # inputs:\n",
        "  #   - x_sys : system state at current time t \n",
        "  #   - u_in  : input at current time t\n",
        "  #   - p_tens: tensor product term\n",
        "  #   - params: list of parameters\n",
        "\n",
        "  # Prarameter Extraction\n",
        "  gg = params(1);\n",
        "  mm\n",
        "\n",
        "\n",
        "  # outputs: (the fucnction returns an output structure with the follows entries)\n",
        "  #   - x_next : system state at state (t+1)\n",
        "  #   - fx     : gradient of the system dynamics w.r.t. the system state at time t\n",
        "  #   - fu     : gradient of the system dynamics w.r.t. the input at time t\n",
        "  #   - pfxx   : tensor product\n",
        "  #   - pfux   : tensor product\n",
        "\n"
      ],
      "metadata": {
        "id": "OETOyRMN7Fte"
      },
      "execution_count": null,
      "outputs": []
    }
  ]
}