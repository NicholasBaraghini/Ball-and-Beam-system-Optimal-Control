{
 "cells": [
  {
   "cell_type": "code",
   "execution_count": null,
   "metadata": {
    "pycharm": {
     "name": "#%%\n"
    }
   },
   "outputs": [],
   "source": [
    "import matplotlib.animation\n",
    "import numpy as np\n",
    "import matplotlib.pyplot as plt\n",
    "import matplotlib.animation as animation\n",
    "\n",
    "fig, ax = plt.subplots()\n",
    "\n",
    "x = np.arange(0, 2*np.pi, 0.01)\n",
    "line, = ax.plot(x, np.sin(x))\n",
    "\n",
    "\n",
    "def animate(i):\n",
    "    line.set_ydata(np.sin(x + i / 50))  # update the data.\n",
    "    return line,\n",
    "\n",
    "\n",
    "ani = animation.FuncAnimation(\n",
    "    fig, animate, interval=100, blit=True, save_count=50)\n",
    "\n",
    "# To save the animation, use e.g.\n",
    "#\n",
    "# ani.save(\"movie.mp4\")\n",
    "#\n",
    "# or\n",
    "#\n",
    "# writer = animation.FFMpegWriter(\n",
    "#     fps=15, metadata=dict(artist='Me'), bitrate=1800)\n",
    "# ani.save(\"movie.mp4\", writer=writer)\n"
   ]
  },
  {
   "cell_type": "code",
   "execution_count": 9,
   "metadata": {
    "pycharm": {
     "name": "#%%\n"
    }
   },
   "outputs": [
    {
     "name": "stderr",
     "output_type": "stream",
     "text": [
      "Exception in Tkinter callback\n",
      "Traceback (most recent call last):\n",
      "  File \"C:\\Users\\fabio\\anaconda3\\lib\\tkinter\\__init__.py\", line 1883, in __call__\n",
      "    return self.func(*args)\n",
      "  File \"C:\\Users\\fabio\\anaconda3\\lib\\tkinter\\__init__.py\", line 807, in callit\n",
      "    self.deletecommand(name)\n",
      "  File \"C:\\Users\\fabio\\anaconda3\\lib\\tkinter\\__init__.py\", line 640, in deletecommand\n",
      "    self._tclCommands.remove(name)\n",
      "AttributeError: 'NoneType' object has no attribute 'remove'\n"
     ]
    }
   ],
   "source": [
    "from matplotlib import pyplot as plt\n",
    "from matplotlib.animation import FuncAnimation\n",
    "from matplotlib import patches\n",
    "import numpy as np\n",
    "%matplotlib tk\n",
    "\n",
    "\n",
    "x = [-2 ,2]\n",
    "y = [0 , 0]\n",
    "\n",
    "figure, ax = plt.subplots()\n",
    "\n",
    "# Setting limits for x and y axis\n",
    "ax.set_xlim(-5, 5)\n",
    "ax.set_ylim(-5,5)\n",
    "\n",
    "# Since plotting a single graph\n",
    "line,  = ax.plot(1, 1)\n",
    "\n",
    "\n",
    "time_template = 'time = %.1fs'\n",
    "time_text = ax.text(0.05, 0.9, '', transform=ax.transAxes)\n",
    "\n",
    "# Basic Quantities\n",
    "\n",
    "R = 0.2                                                     # radius of the ball\n",
    "T = 0.01                                                    # sample time in seconds\n",
    "L = 4                                                       # Length of the beam\n",
    "\n",
    "c = patches.Circle((0,R), R, figure=figure)\n",
    "ax.add_patch(c)\n",
    "\n",
    "theta = np.linspace(-np.pi/4 , np.pi/4 , 1000)\n",
    "xp = np.linspace(-2 , 2 , 1000)\n",
    "\n",
    "def update_beam_position(i):\n",
    "    \n",
    "    #update of beam position\n",
    "    x = [-(L/2)*np.cos(theta[i]),(L/2)*np.cos(theta[i])]\n",
    "    y = [-(L/2)*np.sin(theta[i]),(L/2)*np.sin(theta[i])]\n",
    "    line.set_xdata(x)\n",
    "    line.set_ydata(y)\n",
    "    \n",
    "    #time generation\n",
    "    time_text.set_text(time_template % (i*T))\n",
    "    return line\n",
    "\n",
    "def update_ball_position(i):\n",
    "    \n",
    "    #update of ball position\n",
    "    c.set_center((xp[i]*np.cos(theta[i])-R*np.sin(theta[i]),xp[i]*np.sin(theta[i])+R*np.cos(theta[i])))\n",
    "    \n",
    "    return 0\n",
    "\n",
    "animation1 = FuncAnimation(figure,\n",
    "                          func = update_beam_position,\n",
    "                          frames = np.arange(0, 1000, 1),\n",
    "                          interval = T*1000)\n",
    "\n",
    "animation2 = FuncAnimation(figure,\n",
    "                          func = update_ball_position,\n",
    "                          frames = np.arange(0, 1000, 1),\n",
    "                          interval = T*1000)\n"
   ]
  },
  {
   "cell_type": "code",
   "execution_count": null,
   "metadata": {
    "pycharm": {
     "name": "#%%\n"
    }
   },
   "outputs": [],
   "source": []
  },
  {
   "cell_type": "code",
   "execution_count": null,
   "metadata": {
    "pycharm": {
     "name": "#%%\n"
    }
   },
   "outputs": [],
   "source": []
  },
  {
   "cell_type": "code",
   "execution_count": null,
   "metadata": {},
   "outputs": [],
   "source": []
  }
 ],
 "metadata": {
  "kernelspec": {
   "display_name": "Python 3",
   "language": "python",
   "name": "python3"
  },
  "language_info": {
   "codemirror_mode": {
    "name": "ipython",
    "version": 3
   },
   "file_extension": ".py",
   "mimetype": "text/x-python",
   "name": "python",
   "nbconvert_exporter": "python",
   "pygments_lexer": "ipython3",
   "version": "3.8.3"
  }
 },
 "nbformat": 4,
 "nbformat_minor": 1
}
