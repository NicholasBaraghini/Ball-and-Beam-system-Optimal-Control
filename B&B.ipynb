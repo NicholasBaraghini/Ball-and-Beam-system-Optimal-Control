{
 "cells": [
  {
   "cell_type": "code",
   "execution_count": 1,
   "outputs": [],
   "source": [
    "def update_frame( i , theta , xp , ball_radius , beam_length , time_text , ball , trace , line , history_x , history_y , time_template , t):\n",
    "\n",
    "        #update of beam position\n",
    "        x = [-(beam_length/2)*np.cos(theta[i]),(beam_length/2)*np.cos(theta[i])]\n",
    "        y = [-(beam_length/2)*np.sin(theta[i]),(beam_length/2)*np.sin(theta[i])]\n",
    "        line.set_xdata(x)\n",
    "        line.set_ydata(y)\n",
    "\n",
    "        #time generation\n",
    "        time_text.set_text(time_template % (i*t))\n",
    "\n",
    "        #update of ball position\n",
    "        xc = xp[i]*np.cos(theta[i])-ball_radius*np.sin(theta[i])\n",
    "        yc = xp[i]*np.sin(theta[i])+ball_radius*np.cos(theta[i])\n",
    "\n",
    "        ball.set_center(( xc , yc ))\n",
    "\n",
    "        #update trace of ball position\n",
    "        if i == 0:\n",
    "            history_x.clear()\n",
    "            history_y.clear()\n",
    "\n",
    "        history_x.appendleft(xc)\n",
    "        history_y.appendleft(yc)\n",
    "\n",
    "        trace.set_data(history_x, history_y)\n",
    "\n",
    "        return None"
   ],
   "metadata": {
    "collapsed": false,
    "pycharm": {
     "name": "#%%\n"
    }
   }
  },
  {
   "cell_type": "code",
   "execution_count": 4,
   "metadata": {
    "pycharm": {
     "name": "#%%\n"
    },
    "colab": {
     "base_uri": "https://localhost:8080/",
     "height": 540
    },
    "id": "iV56SxK0tvs_",
    "outputId": "f3eac776-4629-43e5-c2a1-bd236976cb64"
   },
   "outputs": [],
   "source": [
    "import matplotlib\n",
    "import matplotlib.pyplot as plt\n",
    "from matplotlib.animation import FuncAnimation\n",
    "from matplotlib import patches\n",
    "\n",
    "import numpy as np\n",
    "from collections import deque\n",
    "%matplotlib tk\n",
    "\n",
    "def animation( x_limit , y_limit , history_len , ball_radius , beam_length ):\n",
    "\n",
    "    # Figure init\n",
    "    figure, ax = plt.subplots()\n",
    "\n",
    "    # Setting limits for x and y axis\n",
    "    ax.set_xlim(-x_limit , x_limit)\n",
    "    ax.set_ylim(-y_limit , y_limit)\n",
    "\n",
    "    # Line, trace, circle and time label init\n",
    "    line,  = ax.plot(1, 1)\n",
    "\n",
    "    history_x, history_y = deque(maxlen=history_len), deque(maxlen=history_len)\n",
    "    trace, = ax.plot([], [], '.-', lw=1, ms=2)\n",
    "\n",
    "    c = patches.Circle((0,ball_radius), ball_radius, figure=figure)\n",
    "    ax.add_patch(c)\n",
    "\n",
    "    time_template = 'time = %.1fs'\n",
    "    time_text = ax.text(0.05, 0.9, '', transform=ax.transAxes)\n",
    "\n",
    "    # Basic Quantities\n",
    "\n",
    "    t = 0.1                                                     # sample time in seconds\n",
    "\n",
    "    theta = np.linspace(-np.pi/4 , np.pi/4 , 100)\n",
    "    xp = np.linspace(-2 , 2 , 100)\n",
    "\n",
    "\n",
    "\n",
    "    anim = FuncAnimation(figure,\n",
    "                        func = update_frame,\n",
    "                        frames = range(0, 100, 1),\n",
    "                        fargs=(theta , xp , ball_radius , beam_length , time_text , c , trace , line , history_x , history_y , time_template , t),\n",
    "                        interval = t*1000,\n",
    "                         )\n",
    "\n",
    "    return anim\n",
    "\n"
   ]
  },
  {
   "cell_type": "code",
   "execution_count": 6,
   "metadata": {
    "pycharm": {
     "name": "#%%\n"
    },
    "id": "eEyjHgJUtvtE"
   },
   "outputs": [
    {
     "data": {
      "text/plain": "<matplotlib.animation.FuncAnimation at 0x216e3f4a1f0>"
     },
     "execution_count": 6,
     "metadata": {},
     "output_type": "execute_result"
    }
   ],
   "source": [
    "animation( 3 , 3 , 50 , 0.2 , 4)"
   ]
  },
  {
   "cell_type": "code",
   "execution_count": 3,
   "metadata": {
    "id": "U7NFGCBctvtE"
   },
   "outputs": [],
   "source": []
  }
 ],
 "metadata": {
  "kernelspec": {
   "display_name": "Python 3",
   "language": "python",
   "name": "python3"
  },
  "language_info": {
   "codemirror_mode": {
    "name": "ipython",
    "version": 3
   },
   "file_extension": ".py",
   "mimetype": "text/x-python",
   "name": "python",
   "nbconvert_exporter": "python",
   "pygments_lexer": "ipython3",
   "version": "3.8.3"
  },
  "colab": {
   "name": "B&B.ipynb",
   "provenance": []
  }
 },
 "nbformat": 4,
 "nbformat_minor": 0
}