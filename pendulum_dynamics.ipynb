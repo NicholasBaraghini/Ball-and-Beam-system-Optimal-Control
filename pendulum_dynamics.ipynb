{
 "cells": [
  {
   "cell_type": "code",
   "execution_count": 1,
   "metadata": {
    "collapsed": true
   },
   "outputs": [],
   "source": [
    "import numpy as np"
   ]
  },
  {
   "cell_type": "code",
   "execution_count": null,
   "outputs": [],
   "source": [
    "def PPdynamics(xx,uu,pp,params):\n",
    "    ns = 2\n",
    "    nu = 1\n",
    "\n",
    "    xx_plus = np.zeros((ns,1))\n",
    "    gg = 9.8\n",
    "    ll = 1\n",
    "    kk = 0\n",
    "    mm = 1\n",
    "    dt = 0.001\n",
    "\n",
    "    xx = np.reshape(xx, 2)\n",
    "    uu = np.reshape(uu, 1)\n",
    "    pp = np.reshape(pp, 2)\n",
    "\n",
    "\n",
    "    xx_plus[0] = xx[0] + dt* xx[1]\n",
    "    xx_plus[1] = xx[1] + dt* (-gg/ll*np.sin(xx[0]) - (kk/(mm * ll)) * xx[1] + uu / (mm * ll**2))\n",
    "\n",
    "    #gradient\n",
    "    fx = np.array([[1, -dt * gg/ll * np.cos(xx[0])],\n",
    "                   [dt, 1 + dt * (-kk / (mm*ll))]])\n",
    "\n",
    "    fu = np.array([[0, dt * 1 / (mm * (ll**2)]]))\n",
    "\n",
    "    pfxx = np.zeros((ns,ns))\n",
    "    pfuu = np.zeros((nu,nu))\n",
    "    pfux = np.zeros((nu,ns))\n",
    "\n",
    "    pfxx[0,0] = pp[1] * (dt * gg/ll * np.sin(xx[0]))\n",
    "\n",
    "    out = {\n",
    "        'xx_next': xx_plus,\n",
    "        'fx' : fx,\n",
    "        'fu' : fu,\n",
    "        'pfxx' : pfxx,\n",
    "        'pfux' : pfux,\n",
    "        'pfuu' : pfuu\n",
    "    }\n",
    "    return out\n",
    "\n"
   ],
   "metadata": {
    "collapsed": false,
    "pycharm": {
     "name": "#%%\n"
    }
   }
  }
 ],
 "metadata": {
  "kernelspec": {
   "display_name": "Python 3",
   "language": "python",
   "name": "python3"
  },
  "language_info": {
   "codemirror_mode": {
    "name": "ipython",
    "version": 2
   },
   "file_extension": ".py",
   "mimetype": "text/x-python",
   "name": "python",
   "nbconvert_exporter": "python",
   "pygments_lexer": "ipython2",
   "version": "2.7.6"
  }
 },
 "nbformat": 4,
 "nbformat_minor": 0
}