{
 "nbformat": 4,
 "nbformat_minor": 0,
 "metadata": {
  "colab": {
   "name": "OPTCON_Grp21_Ball and Beam Project.ipynb",
   "provenance": [],
   "collapsed_sections": [],
   "include_colab_link": true
  },
  "kernelspec": {
   "name": "python3",
   "display_name": "Python 3"
  },
  "language_info": {
   "name": "python"
  }
 },
 "cells": [
  {
   "cell_type": "markdown",
   "metadata": {
    "id": "view-in-github",
    "colab_type": "text"
   },
   "source": [
    "<a href=\"https://colab.research.google.com/github/NicholasBaraghini/Ball-and-Beam-system-Optimal-Control/blob/main/OPTCON_Grp21_Ball_and_Beam_Project.ipynb\" target=\"_parent\"><img src=\"https://colab.research.google.com/assets/colab-badge.svg\" alt=\"Open In Colab\"/></a>"
   ]
  },
  {
   "cell_type": "markdown",
   "source": [
    "**OPTIMAL CONTROL EXAM PROJECT**\n",
    "\n",
    " Group 21:\n",
    "   - Baraghini Nicholas 0000984041 \n",
    "   - Curto Fabio\n",
    "   - Iadarola Federico"
   ],
   "metadata": {
    "id": "-tfPflu26Rvx"
   }
  },
  {
   "cell_type": "code",
   "execution_count": 1,
   "metadata": {
    "id": "AuKEbT846pKd"
   },
   "outputs": [],
   "source": [
    "# Libraries\n",
    "import numpy as np\n",
    "import matplotlib\n",
    "\n",
    "import system_dynamic as sd\n",
    "import optcon as opt\n",
    "import cost_function\n",
    "import matplotlib.pyplot as plt_\n",
    "\n",
    "%matplotlib widget\n",
    "\n",
    "import visualization as visu"
   ]
  },
  {
   "cell_type": "markdown",
   "source": [],
   "metadata": {
    "collapsed": false,
    "id": "lrTQrNcZVaPn"
   }
  },
  {
   "cell_type": "markdown",
   "source": [
    "**TRAJECTORY EXPLORATION** (Task 1)"
   ],
   "metadata": {
    "id": "MCfkicYm15uQ"
   }
  },
  {
   "cell_type": "code",
   "source": [
    "# PARAMETERS SETTING\n",
    "BB = 0 #flag for b&b\n",
    "max_iterations = 200;\n",
    "STOP_ITER = 1E-6; #Stop Iteration descent threshold\n",
    "\n",
    "step_size = 1;\n",
    "cc = 0.05\n",
    "beta = 0.5\n",
    "\n",
    "nx = 2 # nmumber of states\n",
    "nu = 1 # number of inputs\n",
    "tf = 30 # Seconds\n",
    "\n",
    "params = {'dt':0.001,   # Step size - Forward Euler method\n",
    "          'gg':9.81,    # gravitational acceleration [m/s^2]\n",
    "          'mm':0.12,    # ball mass [kg]\n",
    "          'rr':0.015,   # ball radius [m]\n",
    "          'ii':11.6E-6, # ball inertia [kg*m^2]\n",
    "          'II':0.1125,  # beam inertia [kg*m^2]\n",
    "          'LL':1,        # beam lenght [m]\n",
    "          'QQ': np.array([[100,0],\n",
    "                            [0,40]]),\n",
    "          'RR':1,\n",
    "          'QQ_T':np.array([[10,0],\n",
    "                            [0,100]])\n",
    "              }\n",
    "\n",
    "\n",
    "\n",
    "TT = int(tf/params['dt']); # rounding down of the time span divided in time in number oof time intervals\n",
    "\n",
    "xx_init = np.zeros((nx,1)); # initial state\n"
   ],
   "metadata": {
    "id": "CJYzDXzC2RrC"
   },
   "execution_count": 2,
   "outputs": []
  },
  {
   "cell_type": "markdown",
   "source": [
    "**Reference Definition** \\\n",
    "Step reference change between two equilibria "
   ],
   "metadata": {
    "id": "N9uWhNOM1tCB"
   }
  },
  {
   "cell_type": "code",
   "source": [
    "if BB :\n",
    "    # REFERENCE DEFINITION\n",
    "    ref_pos = 0.3; # ball reference position on the beam [m]\n",
    "    ref_inp = params['mm']*params['gg']*ref_pos; # input reference torque at reference pos ref_pos\n",
    "\n",
    "    # state reference definition:\n",
    "    xx_ref = np.zeros((nx,TT));\n",
    "    xx_ref[0,round(TT/2):TT] = ref_pos;\n",
    "\n",
    "    # input reference definition\n",
    "    uu_ref = np.zeros((nu,TT));\n",
    "    uu_ref[0,round(TT/2):TT] = ref_inp;\n",
    "    xx = np.zeros((nx,TT,max_iterations)); # state tensor uu = np.zeros((nu,TT,max_iterations)); # input tensor\n",
    "\n",
    "    cost = np.zeros((max_iterations,1)); # cost function values memory descent = np.zeros((max_iterations,1));\n",
    "else:\n",
    "    ref_deg = 160\n",
    "    xx_ref = np.zeros((2,TT));   #nx = 2\n",
    "    xx_ref[0,round(TT/2):TT] = np.radians(ref_deg)\n",
    "\n",
    "    uu_ref = np.zeros((1,TT));\n",
    "    K_eq = 9.8 #mm*gg*ll\n",
    "    uu_ref[0,round(TT/2):TT] = -K_eq*np.sin(xx_ref[0, round(TT/2):TT ])\n",
    "\n"
   ],
   "metadata": {
    "id": "8QOtAIm6tkUA"
   },
   "execution_count": 3,
   "outputs": []
  },
  {
   "cell_type": "code",
   "execution_count": 3,
   "outputs": [],
   "source": [],
   "metadata": {
    "collapsed": false,
    "pycharm": {
     "name": "#%%\n"
    }
   }
  },
  {
   "cell_type": "markdown",
   "source": [
    "**OPTIMIZATION LOOP**"
   ],
   "metadata": {
    "id": "xVkWD_vKP1-Y"
   }
  },
  {
   "cell_type": "code",
   "execution_count": null,
   "outputs": [
    {
     "name": "stdout",
     "output_type": "stream",
     "text": [
      "DDP_comp FINISHED\n",
      "iteration: 0\n",
      "cost 11865114.034348622\n",
      "descent -7282724.049249784\n",
      "DDP_comp FINISHED\n",
      "iteration: 1\n",
      "cost 3867364.336852289\n",
      "descent -1664671.8707228007\n",
      "DDP_comp FINISHED\n",
      "iteration: 2\n",
      "cost 1531622.346115367\n",
      "descent -960215.7955876016\n",
      "DDP_comp FINISHED\n",
      "iteration: 3\n",
      "cost 388775.25478105224\n",
      "descent -77120.78858453696\n",
      "DDP_comp FINISHED\n",
      "iteration: 4\n",
      "cost 309246.2760383192\n",
      "descent -121.50819665927261\n",
      "DDP_comp FINISHED\n",
      "iteration: 5\n",
      "cost 309135.01820927317\n",
      "descent -11.234251201093757\n",
      "DDP_comp FINISHED\n",
      "iteration: 6\n",
      "cost 309135.01616819843\n",
      "descent -11.23229927013728\n",
      "DDP_comp FINISHED\n",
      "iteration: 7\n",
      "cost 309135.01616701996\n",
      "descent -11.232299269249994\n",
      "DDP_comp FINISHED\n",
      "iteration: 8\n",
      "cost 309135.0161670024\n",
      "descent -11.232299269249843\n",
      "DDP_comp FINISHED\n",
      "iteration: 9\n",
      "cost 309135.01616700203\n",
      "descent -11.232299269249843\n",
      "DDP_comp FINISHED\n",
      "iteration: 10\n",
      "cost 309135.0161670015\n",
      "descent -11.232299269249843\n",
      "DDP_comp FINISHED\n",
      "iteration: 11\n",
      "cost 309135.01616700174\n",
      "descent -11.232299269249843\n",
      "DDP_comp FINISHED\n",
      "iteration: 12\n",
      "cost 309135.0161670015\n",
      "descent -11.232299269249843\n",
      "DDP_comp FINISHED\n",
      "iteration: 13\n",
      "cost 309135.0161670019\n",
      "descent -11.232299269249843\n",
      "DDP_comp FINISHED\n",
      "iteration: 14\n",
      "cost 309135.01616700133\n",
      "descent -11.232299269249843\n",
      "DDP_comp FINISHED\n",
      "iteration: 15\n",
      "cost 309135.0161670016\n",
      "descent -11.232299269249843\n",
      "DDP_comp FINISHED\n",
      "iteration: 16\n",
      "cost 309135.0161670015\n",
      "descent -11.232299269249843\n",
      "DDP_comp FINISHED\n",
      "iteration: 17\n",
      "cost 309135.01616700186\n",
      "descent -11.232299269249843\n",
      "DDP_comp FINISHED\n"
     ]
    }
   ],
   "source": [
    "## ITERATION LOOP\n",
    "\n",
    "# Initializations\n",
    "xx = np.zeros((nx,TT,max_iterations)) # state tensor\n",
    "uu = np.zeros((nu,TT,max_iterations)) # input tensor\n",
    "\n",
    "cost = np.zeros(max_iterations) # cost function values memory\n",
    "\n",
    "descent = np.zeros(max_iterations) # descent vector\n",
    "\n",
    "#initialize trajectory\n",
    "kk = 0\n",
    "for tt in range(0,TT-1):\n",
    "\n",
    "    uu_tk = uu[:, tt:tt + 1, kk:kk + 1] # shape (1,1,1)\n",
    "    uu_ref_tt = uu_ref[:, tt:tt + 1] # shape (1,1)\n",
    "    xx_tk = xx[:, tt:tt + 1, kk:kk + 1] # shape (4,1,1)\n",
    "    xx_ref_tt = xx_ref[:, tt:tt + 1] # shape (4,1)\n",
    "\n",
    "    cost_temp = cost_function.Stage_Cost(xx_tk, uu_tk, xx_ref_tt, uu_ref_tt, params)['cost_t']\n",
    "    cost[kk] = cost[kk] + cost_temp[0]\n",
    "\n",
    "xx_Tk = xx[:,TT-1:TT,kk:kk+1]\n",
    "xx_ref_TT = xx_ref[:,TT-1:TT]\n",
    "cost_temp = cost_function.Terminal_Cost(xx_Tk, xx_ref_TT,params)['cost_T']\n",
    "\n",
    "cost[kk] = cost[kk] + cost_temp[0]\n",
    "\n",
    "# LOOP\n",
    "for kk in range(0,max_iterations-1):\n",
    "\n",
    "    KK = np.zeros((nu,nx,TT))\n",
    "    SS = np.zeros((nu,TT)) #Sigma\n",
    "    pp = np.zeros((nx,TT))\n",
    "    PP = np.zeros((nx,nx,TT))\n",
    "\n",
    "    # Computation of the K, p, P, Sigma, and descent\n",
    "    KK,SS,PP,pp,descent[kk] = opt.DDP_comp_t_k(kk, xx, uu, xx_ref, uu_ref, descent[kk], TT, params).values()\n",
    "    #gammas = opt.Armijo(kk, xx, uu, xx_init, xx_ref, uu_ref, TT, cost, descent[kk], cc, beta, SS, KK, pp, params)\n",
    "    xx,uu,cost = opt.Trajectory_Update(kk, xx, uu, xx_ref, uu_ref, xx_init, TT, cost, step_size, SS, KK, pp, params).values()\n",
    "\n",
    "    print('iteration:', kk )\n",
    "    print('cost', cost[kk])\n",
    "    print('descent', descent[kk])\n",
    "\n",
    "    if np.abs(descent[kk])<STOP_ITER: #STOP CRITERION\n",
    "       Max_Iter = kk\n",
    "       print(\"GG WP\")\n",
    "       break\n",
    "    Max_Iter = kk\n"
   ],
   "metadata": {
    "pycharm": {
     "name": "#%%\n",
     "is_executing": true
    },
    "id": "Dl3mxosEVaPv",
    "outputId": "67ab1697-de65-4326-9f9f-98fb93841dc8"
   }
  },
  {
   "cell_type": "code",
   "execution_count": null,
   "outputs": [],
   "source": [
    "print(descent)"
   ],
   "metadata": {
    "collapsed": false,
    "pycharm": {
     "name": "#%%\n",
     "is_executing": true
    }
   }
  },
  {
   "cell_type": "code",
   "execution_count": null,
   "outputs": [],
   "source": [
    "# Plotting the Graph\n",
    "t = range(0,TT)\n",
    "fig0, ax0 = plt_.subplots(figsize=(10, 5))\n",
    "ax0.plot(t, xx_ref[0, :], 'o-', label='xx_ref_0')\n",
    "ax0.plot(t, xx[0, :,Max_Iter], '.-', label='xx_0')\n",
    "plt_.title(\"Ball Reference Position\")\n",
    "plt_.xlabel(\"t\")\n",
    "plt_.ylabel(\"p(t)\")\n",
    "plt_.grid()\n",
    "plt_.show()\n",
    "\n",
    "# Plotting the Graph\n",
    "t = range(0,TT)\n",
    "fig1, ax1 = plt_.subplots(figsize=(10, 5))\n",
    "ax1.plot(t, xx_ref[1, :], 'o-', label='xx_ref_1')\n",
    "ax1.plot(t, xx[1, :,Max_Iter], '.-', label='xx_1')\n",
    "plt_.title(\"Ball Reference Velocity\")\n",
    "plt_.xlabel(\"t\")\n",
    "plt_.ylabel(\"p_dot(t)\")\n",
    "plt_.grid()\n",
    "plt_.show()\n",
    "\n",
    "# Plotting the Graph\n",
    "t = range(0,TT)\n",
    "fig2, ax2 = plt_.subplots(figsize=(10, 5))\n",
    "ax2.plot(t, xx_ref[2, :], 'o-', label='xx_ref_2')\n",
    "ax2.plot(t, xx[2, :,Max_Iter], '.-', label='xx_2')\n",
    "plt_.title(\"Beam Reference Position\")\n",
    "plt_.xlabel(\"t\")\n",
    "plt_.ylabel(\"theta(t)\")\n",
    "plt_.grid()\n",
    "plt_.show()\n",
    "\n",
    "# Plotting the Graph\n",
    "t = range(0,TT)\n",
    "fig3, ax3 = plt_.subplots(figsize=(10, 5))\n",
    "ax3.plot(t, xx_ref[3, :], 'o-', label='xx_ref_3')\n",
    "ax3.plot(t, xx[3, :,Max_Iter], '.-', label='xx_3')\n",
    "plt_.title(\"Beam Reference velocity\")\n",
    "plt_.xlabel(\"t\")\n",
    "plt_.ylabel(\"theta_dot(t)\")\n",
    "plt_.grid()\n",
    "plt_.show()\n",
    "\n",
    "# Plotting the Graph\n",
    "t = range(0,TT)\n",
    "fig, ax = plt_.subplots(figsize=(10, 5))\n",
    "ax.plot(t, uu_ref[0, :], 'o-', label='uu_ref')\n",
    "ax.plot(t, uu[0, :,Max_Iter], '.-', label='uu')\n",
    "plt_.title(\"Input Torque\")\n",
    "plt_.xlabel(\"t\")\n",
    "plt_.ylabel(\"torque(t)\")\n",
    "plt_.grid()\n",
    "plt_.show()"
   ],
   "metadata": {
    "collapsed": false,
    "pycharm": {
     "name": "#%%\n",
     "is_executing": true
    }
   }
  },
  {
   "cell_type": "markdown",
   "source": [
    "**TRAJECTORY OPTIMIZATION** (Task 2)"
   ],
   "metadata": {
    "id": "d2fbcGzp2QZQ"
   }
  },
  {
   "cell_type": "code",
   "source": [],
   "metadata": {
    "id": "bY2qHqOhh_5p",
    "pycharm": {
     "is_executing": true
    }
   },
   "execution_count": null,
   "outputs": []
  },
  {
   "cell_type": "markdown",
   "source": [
    "**TRAJECTORY TRACKING** (Task 3)"
   ],
   "metadata": {
    "id": "7U8VKRix2jmu",
    "pycharm": {
     "name": "#%% md\n"
    }
   }
  },
  {
   "cell_type": "code",
   "execution_count": null,
   "outputs": [],
   "source": [],
   "metadata": {
    "collapsed": false,
    "pycharm": {
     "name": "#%%\n",
     "is_executing": true
    }
   }
  }
 ]
}